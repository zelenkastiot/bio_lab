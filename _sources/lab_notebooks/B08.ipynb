{
 "cells": [
  {
   "cell_type": "markdown",
   "id": "impaired-humidity",
   "metadata": {},
   "source": [
    "# 💻 Б8: Транслација на секвенца\n"
   ]
  },
  {
   "cell_type": "markdown",
   "id": "responsible-delaware",
   "metadata": {},
   "source": [
    "```{admonition} Опис на барање\n",
    ":class: tip\n",
    "Од произволниот CDS што го избравте добивте стоп/старт кодони. Направете транслација за да ги добиете сите можни\n",
    "протеински секвенции.\n",
    "```"
   ]
  },
  {
   "cell_type": "code",
   "execution_count": 3,
   "id": "alien-badge",
   "metadata": {
    "tags": [
     "hide-input"
    ]
   },
   "outputs": [],
   "source": [
    "from Bio import SeqIO\n",
    "from Bio.Data import CodonTable\n",
    "\n",
    "gene_record = SeqIO.read(\"yersinia-pestis-fasta/NC_005816.gb\", \"genbank\")\n",
    "mito_table = CodonTable.unambiguous_rna_by_id[11]\n",
    "\n",
    "# Читање на 'pim'\n",
    "sub_record = gene_record[4342:4780]\n",
    "# Транскрипција на 'pim'\n",
    "sub_rna = sub_record.seq.transcribe()\n",
    "# Листи за позиции на старт и стоп кодони за 'pim'\n",
    "start_codon_positions = []\n",
    "stop_codon_positions = []\n",
    "# Листи за имињата на најдените кодони за 'pim'\n",
    "start_found = []\n",
    "stop_found = []\n",
    "# Конверзија во стринг, за полесна работа\n",
    "rna_string = str(sub_rna)\n",
    "\n",
    "\"\"\"\n",
    "Идеја на пребарување: \n",
    "- Започни од 0 и движи се до целата секвенца -2\n",
    "- Земи го моменталниот триплет \n",
    "- Провери дали е во старт кодоните -> Ако е зачувај торка (позиција, триплет)\n",
    "- Ако не, провери дали е во стоп кодоните -> Ако е зачувај торка (позиција, триплет)\n",
    "- Зголеми го бројачот \n",
    "\"\"\"\n",
    "\n",
    "k = 0\n",
    "while k < len(rna_string)-2:\n",
    "    # екстрахирај моментална три-нуклеотидна суб-секвенца\n",
    "    current_codon = rna_string[k:k+3]\n",
    "    if current_codon in mito_table.start_codons:\n",
    "        start_found.append((k, current_codon))\n",
    "    elif current_codon in mito_table.stop_codons:\n",
    "        stop_found.append((k, current_codon))\n",
    "    k += 1"
   ]
  },
  {
   "cell_type": "markdown",
   "id": "documentary-hypothesis",
   "metadata": {},
   "source": [
    "Во претходното барање (💻 Б7) ги доззнавме сите **64 старт кодони** и **21 стоп кодони**. Овие две бројки ни укажуваат на тоадека можеме да комбинираме на различни начини за да екстрахираме *протеински* секвенци т.е. да ги добиеме соодветните амино-киселени за протеинската секвенца од тоа парче на РНА. "
   ]
  },
  {
   "cell_type": "markdown",
   "id": "impossible-essence",
   "metadata": {},
   "source": [
    "````{margin}\n",
    "```{admonition} Важно за **транслација**\n",
    ":class: caution\n",
    "Многу важен услов при транслација меѓу старт/стоп кодони е тоа дека позицијата каде е пронајден старт кодонот, првата позиција на РНА секвенцата која ја преведуваме, мора да е помал број (позиција) од таа на стоп кодонот. \n",
    "\n",
    "\n",
    "Ова е повеќе логичка грешка што може да настане доколку сакаме да ги најдеме сите можно комбинации од старт и стоп кодони (мора да имаме услов кој би проверувал позициите да се соодветни. \n",
    "```\n",
    "````"
   ]
  },
  {
   "cell_type": "code",
   "execution_count": 65,
   "id": "logical-abortion",
   "metadata": {},
   "outputs": [
    {
     "name": "stdout",
     "output_type": "stream",
     "text": [
      "Вкупен број на старт кодони: 64\n",
      "Старт кодон со позиција: [(0, 'AUG'), (12, 'AUG'), (15, 'AUC'), (26, 'AUU'), (29, 'UUG'), (33, 'UUG'), (42, 'AUA'), (44, 'AUU'), (50, 'AUC'), (53, 'AUC'), (58, 'GUG'), (64, 'UUG'), (80, 'AUA'), (82, 'AUA'), (96, 'AUC'), (99, 'UUG'), (113, 'AUU'), (118, 'AUA'), (124, 'UUG'), (130, 'AUU'), (134, 'AUU'), (135, 'UUG'), (142, 'AUG'), (147, 'AUC'), (151, 'AUG'), (190, 'AUA'), (192, 'AUU'), (216, 'AUU'), (217, 'UUG'), (225, 'AUC'), (229, 'AUA'), (242, 'AUG'), (246, 'AUG'), (249, 'AUA'), (251, 'AUC'), (254, 'AUU'), (261, 'AUA'), (270, 'AUU'), (280, 'AUG'), (286, 'AUA'), (289, 'CUG'), (293, 'CUG'), (298, 'UUG'), (304, 'AUU'), (315, 'AUA'), (329, 'AUA'), (331, 'AUG'), (339, 'AUA'), (343, 'AUC'), (354, 'AUA'), (368, 'AUC'), (370, 'CUG'), (381, 'AUA'), (387, 'GUG'), (396, 'AUA'), (404, 'AUC'), (408, 'AUC'), (412, 'CUG'), (416, 'UUG'), (421, 'CUG'), (425, 'AUA'), (427, 'AUU'), (430, 'AUC'), (433, 'AUU')]\n",
      "\n",
      "Вкупен број на стоп кодони: 21\n",
      "Стоп кодон со позиција: [(13, 'UGA'), (109, 'UAG'), (115, 'UAA'), (194, 'UAA'), (230, 'UAA'), (247, 'UGA'), (256, 'UAA'), (265, 'UAG'), (272, 'UAA'), (281, 'UGA'), (299, 'UGA'), (313, 'UAA'), (316, 'UAA'), (334, 'UAG'), (355, 'UAA'), (364, 'UAA'), (382, 'UAG'), (385, 'UAG'), (388, 'UGA'), (397, 'UAA'), (435, 'UAA')]\n"
     ]
    }
   ],
   "source": [
    "print(f'Вкупен број на старт кодони: {len(start_found)}')\n",
    "print(f'Старт кодон со позиција: {start_found}')\n",
    "print()\n",
    "print(f'Вкупен број на стоп кодони: {len(stop_found)}')\n",
    "print(f'Стоп кодон со позиција: {stop_found}')"
   ]
  },
  {
   "cell_type": "markdown",
   "id": "killing-elephant",
   "metadata": {},
   "source": [
    "Сега бидејќи има голем број на комбинации ќе изберам неколку (3-4) за да демонстрирам како изгледа процесот на **транслација** од таа РНА-субсеквенца, која:\n",
    "- **почнува** на позицијата на <u>првата база</u> од избраниот <u>старт кодон</u> \n",
    "- **завршува** на позицијата на <u>последната база</u> од избраниот <u>стоп кодон</u> (позиција + 2; за последните 2 бази од стоп кодонот)"
   ]
  },
  {
   "cell_type": "markdown",
   "id": "dietary-budapest",
   "metadata": {
    "tags": []
   },
   "source": [
    "## Траснлација 1\n",
    "\n",
    "````{margin}\n",
    "```{admonition} Екстрахирана секвенца 1 \n",
    ":class: note\n",
    "<code>protein_seq1</code>\n",
    "- Старт кодон (0, 'AUG') \n",
    "- Стоп кодон (13, 'UGA')\n",
    "```\n",
    "````"
   ]
  },
  {
   "cell_type": "code",
   "execution_count": 29,
   "id": "enhanced-hopkins",
   "metadata": {
    "tags": []
   },
   "outputs": [
    {
     "name": "stdout",
     "output_type": "stream",
     "text": [
      "Старт кодон: (0, 'AUG')\n",
      "Стоп кодон: (13, 'UGA')\n",
      "Екстрахирана секвенца од избраните кодони: AUGGGAGGGGGAAUG\n",
      "Должина: 15\n"
     ]
    }
   ],
   "source": [
    "print(f\"Старт кодон: {start_found[0]}\")\n",
    "print(f\"Стоп кодон: {stop_found[0]}\")\n",
    "read_seq1 = sub_rna[start_found[0][0]:stop_found[0][0]+2]\n",
    "print(f'Екстрахирана секвенца од избраните кодони: {read_seq1}')\n",
    "print(f'Должина: {len(read_seq1)}')"
   ]
  },
  {
   "cell_type": "markdown",
   "id": "incorporate-tomorrow",
   "metadata": {},
   "source": [
    "Излез по преведување: "
   ]
  },
  {
   "cell_type": "code",
   "execution_count": 64,
   "id": "laden-buddy",
   "metadata": {
    "tags": []
   },
   "outputs": [
    {
     "name": "stdout",
     "output_type": "stream",
     "text": [
      "Протеинска секвенца 1:\n",
      "MGGGM\n",
      "Должина: 5\n"
     ]
    }
   ],
   "source": [
    "protein_seq1 = read_seq1.translate(table='Bacterial')\n",
    "print(f'Протеинска секвенца 1:\\n{protein_seq1}')\n",
    "print(f'Должина: {len(protein_seq1)}')"
   ]
  },
  {
   "cell_type": "markdown",
   "id": "assigned-corpus",
   "metadata": {
    "tags": []
   },
   "source": [
    "## Траснлација 2\n",
    "\n",
    "````{margin}\n",
    "```{admonition} Екстрахирана секвенца 2\n",
    ":class: note\n",
    "<code>protein_seq2</code>\n",
    "- Старт кодон (315, 'AUC')\n",
    "- Стоп кодон (334, 'UAG')\n",
    "```\n",
    "````"
   ]
  },
  {
   "cell_type": "code",
   "execution_count": 33,
   "id": "spanish-satellite",
   "metadata": {
    "tags": []
   },
   "outputs": [
    {
     "name": "stdout",
     "output_type": "stream",
     "text": [
      "Старт кодон: (15, 'AUC')\n",
      "Стоп кодон: (334, 'UAG')\n",
      "Екстрахирана секвенца од избраните кодони: AUCUCAAAGUUAUUUUGCUUGGCUCUCAUAUUUUUAUCAUCAAGUGGCCUUGCAGAAAAAAACACAUAUACAGCAAAAGACAUCUUGCAAAACCUAGAAUUAAAUACCUUUGGCAAUUCAUUGUCUCAUGGCAUCUAUGGGAAACAGACAACCUUCAAGCAAACCGAGUUUACAAAUAUUAAAAGCAACACCAAAAAACACAUUGCACUUAUCAAUAAAGACAACUCAUGGAUGAUAUCAUUAAAAAUACUAGGAAUUAAGAGAGAUGAGUAUACUGUCUGUUUUGAAGAUUUCUCUCUAAUA\n",
      "Должина: 303\n"
     ]
    }
   ],
   "source": [
    "print(f\"Старт кодон: {start_found[2]}\")\n",
    "print(f\"Стоп кодон: {stop_found[13]}\")\n",
    "read_seq2 = sub_rna[start_found[2][0]:stop_found[12][0]+2]\n",
    "print(f'Екстрахирана секвенца од избраните кодони: {read_seq2}')\n",
    "print(f'Должина: {len(read_seq2)}')"
   ]
  },
  {
   "cell_type": "markdown",
   "id": "global-vector",
   "metadata": {},
   "source": [
    "Излез по преведување: "
   ]
  },
  {
   "cell_type": "code",
   "execution_count": 61,
   "id": "million-facial",
   "metadata": {
    "tags": []
   },
   "outputs": [
    {
     "name": "stdout",
     "output_type": "stream",
     "text": [
      "Протеинска секвенца 2:\n",
      "ISKLFCLALIFLSSSGLAEKNTYTAKDILQNLELNTFGNSLSHGIYGKQTTFKQTEFTNIKSNTKKHIALINKDNSWMISLKILGIKRDEYTVCFEDFSLI\n",
      "Должина: 101\n"
     ]
    }
   ],
   "source": [
    "protein_seq2 = read_seq2.translate(table='Bacterial')\n",
    "print(f'Протеинска секвенца 2:\\n{protein_seq2}')\n",
    "print(f'Должина: {len(protein_seq2)}')"
   ]
  },
  {
   "cell_type": "markdown",
   "id": "moderate-heavy",
   "metadata": {
    "tags": []
   },
   "source": [
    "## Траснлација 3\n",
    "\n",
    "````{margin}\n",
    "```{admonition} Екстрахирана секвенца \n",
    ":class: note\n",
    "<code>protein_seq3</code>\n",
    "- Старт кодон (251, 'AUC')\n",
    "- Стоп кодон  (435, 'UAA')\n",
    "```\n",
    "````"
   ]
  },
  {
   "cell_type": "code",
   "execution_count": 48,
   "id": "forward-theater",
   "metadata": {
    "tags": []
   },
   "outputs": [
    {
     "name": "stdout",
     "output_type": "stream",
     "text": [
      "Старт кодон: (251, 'AUC')\n",
      "Стоп кодон: (435, 'UAA')\n",
      "Екстрахирана секвенца од избраните кодони: AUCAUUAAAAAUACUAGGAAUUAAGAGAGAUGAGUAUACUGUCUGUUUUGAAGAUUUCUCUCUAAUAAGACCGCCAACAUAUGUAGCCAUACAUCCUCUACUUAUAAAAAAAGUAAAAUCUGGAAACUUUAUAGUAGUGAAAGAAAUAAAGAAAUCUAUCCCUGGUUGCACUGUAUAUUAUCAUUA\n",
      "Должина: 186\n"
     ]
    }
   ],
   "source": [
    "print(f\"Старт кодон: {start_found[34]}\")\n",
    "print(f\"Стоп кодон: {stop_found[20]}\")\n",
    "read_seq3 = sub_rna[start_found[34][0]:stop_found[20][0]+2]\n",
    "print(f'Екстрахирана секвенца од избраните кодони: {read_seq3}')\n",
    "print(f'Должина: {len(read_seq3)}')"
   ]
  },
  {
   "cell_type": "markdown",
   "id": "level-venue",
   "metadata": {},
   "source": [
    "Излез по преведување: "
   ]
  },
  {
   "cell_type": "code",
   "execution_count": 60,
   "id": "involved-heart",
   "metadata": {
    "tags": []
   },
   "outputs": [
    {
     "name": "stdout",
     "output_type": "stream",
     "text": [
      "Протеинска секвенца 3:\n",
      "IIKNTRN*ER*VYCLF*RFLSNKTANICSHTSSTYKKSKIWKLYSSERNKEIYPWLHCILSL\n",
      "Должина: 62\n"
     ]
    }
   ],
   "source": [
    "protein_seq3 = read_seq3.translate(table='Bacterial')\n",
    "print(f'Протеинска секвенца 3:\\n{protein_seq3}')\n",
    "print(f'Должина: {len(protein_seq3)}')"
   ]
  },
  {
   "cell_type": "markdown",
   "id": "controlling-bacteria",
   "metadata": {
    "tags": []
   },
   "source": [
    "## Транслација 4\n",
    "\n",
    "````{margin}\n",
    "```{admonition} Пример 4\n",
    ":class: note\n",
    "<code>protein_seq4</code>\n",
    "- Старт кодон (0, 'AUG')\n",
    "- Стоп кодон  (435, 'UAA')\n",
    "```\n",
    "````"
   ]
  },
  {
   "cell_type": "code",
   "execution_count": 54,
   "id": "portuguese-munich",
   "metadata": {
    "tags": []
   },
   "outputs": [
    {
     "name": "stdout",
     "output_type": "stream",
     "text": [
      "Старт кодон: (0, 'AUG')\n",
      "Стоп кодон: (435, 'UAA')\n",
      "Екстрахирана секвенца од избраните кодони: AUGGGAGGGGGAAUGAUCUCAAAGUUAUUUUGCUUGGCUCUCAUAUUUUUAUCAUCAAGUGGCCUUGCAGAAAAAAACACAUAUACAGCAAAAGACAUCUUGCAAAACCUAGAAUUAAAUACCUUUGGCAAUUCAUUGUCUCAUGGCAUCUAUGGGAAACAGACAACCUUCAAGCAAACCGAGUUUACAAAUAUUAAAAGCAACACCAAAAAACACAUUGCACUUAUCAAUAAAGACAACUCAUGGAUGAUAUCAUUAAAAAUACUAGGAAUUAAGAGAGAUGAGUAUACUGUCUGUUUUGAAGAUUUCUCUCUAAUAAGACCGCCAACAUAUGUAGCCAUACAUCCUCUACUUAUAAAAAAAGUAAAAUCUGGAAACUUUAUAGUAGUGAAAGAAAUAAAGAAAUCUAUCCCUGGUUGCACUGUAUAUUAUCAUUA\n",
      "Должина: 437\n"
     ]
    }
   ],
   "source": [
    "print(f\"Старт кодон: {start_found[0]}\")\n",
    "print(f\"Стоп кодон: {stop_found[-1]}\")\n",
    "read_seq4 = sub_rna[start_found[0][0]:stop_found[20][0]+2]\n",
    "print(f'Екстрахирана секвенца од избраните кодони: {read_seq4}')\n",
    "print(f'Должина: {len(read_seq4)}')"
   ]
  },
  {
   "cell_type": "markdown",
   "id": "lined-henry",
   "metadata": {},
   "source": [
    "Излез по преведување: "
   ]
  },
  {
   "cell_type": "code",
   "execution_count": 59,
   "id": "rocky-extraction",
   "metadata": {
    "tags": []
   },
   "outputs": [
    {
     "name": "stdout",
     "output_type": "stream",
     "text": [
      "Протеинска секвенца 4:\n",
      "MGGGMISKLFCLALIFLSSSGLAEKNTYTAKDILQNLELNTFGNSLSHGIYGKQTTFKQTEFTNIKSNTKKHIALINKDNSWMISLKILGIKRDEYTVCFEDFSLIRPPTYVAIHPLLIKKVKSGNFIVVKEIKKSIPGCTVYYH\n",
      "Должина: 145\n"
     ]
    }
   ],
   "source": [
    "protein_seq4 = read_seq4.translate(table='Bacterial')\n",
    "print(f'Протеинска секвенца 4:\\n{protein_seq4}')\n",
    "print(f'Должина: {len(protein_seq4)}')"
   ]
  }
 ],
 "metadata": {
  "celltoolbar": "Edit Metadata",
  "kernelspec": {
   "display_name": "Python 3",
   "language": "python",
   "name": "python3"
  },
  "language_info": {
   "codemirror_mode": {
    "name": "ipython",
    "version": 3
   },
   "file_extension": ".py",
   "mimetype": "text/x-python",
   "name": "python",
   "nbconvert_exporter": "python",
   "pygments_lexer": "ipython3",
   "version": "3.7.9"
  },
  "latex_envs": {
   "LaTeX_envs_menu_present": true,
   "autoclose": false,
   "autocomplete": true,
   "bibliofile": "biblio.bib",
   "cite_by": "apalike",
   "current_citInitial": 1,
   "eqLabelWithNumbers": true,
   "eqNumInitial": 1,
   "hotkeys": {
    "equation": "Ctrl-E",
    "itemize": "Ctrl-I"
   },
   "labels_anchors": false,
   "latex_user_defs": false,
   "report_style_numbering": false,
   "user_envs_cfg": false
  },
  "varInspector": {
   "cols": {
    "lenName": 16,
    "lenType": 16,
    "lenVar": 40
   },
   "kernels_config": {
    "python": {
     "delete_cmd_postfix": "",
     "delete_cmd_prefix": "del ",
     "library": "var_list.py",
     "varRefreshCmd": "print(var_dic_list())"
    },
    "r": {
     "delete_cmd_postfix": ") ",
     "delete_cmd_prefix": "rm(",
     "library": "var_list.r",
     "varRefreshCmd": "cat(var_dic_list()) "
    }
   },
   "types_to_exclude": [
    "module",
    "function",
    "builtin_function_or_method",
    "instance",
    "_Feature"
   ],
   "window_display": false
  }
 },
 "nbformat": 4,
 "nbformat_minor": 5
}
