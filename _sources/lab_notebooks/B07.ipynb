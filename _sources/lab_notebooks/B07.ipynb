{
 "cells": [
  {
   "cell_type": "markdown",
   "id": "coated-leader",
   "metadata": {},
   "source": [
    "# 💻 Б7: Старт/стоп кодони во произволен CDS"
   ]
  },
  {
   "cell_type": "markdown",
   "id": "fatal-world",
   "metadata": {},
   "source": [
    "```{admonition} Опис на барање\n",
    ":class: tip\n",
    "Одберете еден CDS и најдете ги сите старт и стоп кодони во\n",
    "неговата РНА.\n",
    "```"
   ]
  },
  {
   "cell_type": "markdown",
   "id": "respiratory-sunset",
   "metadata": {},
   "source": [
    "За произволен CDS врз кој ќе експериментирам, се одлучив да одам со \"<code>pim</code>\" генот, ;**YP_pPCP05**:"
   ]
  },
  {
   "cell_type": "code",
   "execution_count": 1,
   "id": "educational-shoot",
   "metadata": {},
   "outputs": [
    {
     "name": "stdout",
     "output_type": "stream",
     "text": [
      "type: CDS\n",
      "location: [4342:4780](+)\n",
      "qualifiers:\n",
      "    Key: codon_start, Value: ['1']\n",
      "    Key: db_xref, Value: ['GI:45478716', 'GeneID:2767712']\n",
      "    Key: gene, Value: ['pim']\n",
      "    Key: locus_tag, Value: ['YP_pPCP05']\n",
      "    Key: note, Value: ['similar to many previously sequenced pesticin immunity protein entries of Yersinia pestis plasmid pPCP, e.g. gi| 16082683|,ref|NP_395230.1| (NC_003132) , gi|1200166|emb|CAA90861.1| (Z54145 ) , gi|1488655| emb|CAA63439.1| (X92856) , gi|2996219|gb|AAC62543.1| (AF053945) , and gi|5763814|emb|CAB531 67.1| (AL109969)']\n",
      "    Key: product, Value: ['pesticin immunity protein']\n",
      "    Key: protein_id, Value: ['NP_995571.1']\n",
      "    Key: transl_table, Value: ['11']\n",
      "    Key: translation, Value: ['MGGGMISKLFCLALIFLSSSGLAEKNTYTAKDILQNLELNTFGNSLSHGIYGKQTTFKQTEFTNIKSNTKKHIALINKDNSWMISLKILGIKRDEYTVCFEDFSLIRPPTYVAIHPLLIKKVKSGNFIVVKEIKKSIPGCTVYYH']\n",
      "\n"
     ]
    }
   ],
   "source": [
    "from Bio import SeqIO\n",
    "gene_record = SeqIO.read(\"yersinia-pestis-fasta/NC_005816.gb\", \"genbank\")\n",
    "\n",
    "print(gene_record.features[21])"
   ]
  },
  {
   "cell_type": "markdown",
   "id": "green-theme",
   "metadata": {},
   "source": [
    "Локацијата ја зимам од главната секвенца и истотака табелата за преведување на RNA е со вредност 11! Ова е доста корисно за транслација."
   ]
  },
  {
   "cell_type": "markdown",
   "id": "classified-increase",
   "metadata": {},
   "source": [
    "Зимање на подстринг од главната секвенца:"
   ]
  },
  {
   "cell_type": "code",
   "execution_count": 2,
   "id": "tender-applicant",
   "metadata": {},
   "outputs": [
    {
     "name": "stdout",
     "output_type": "stream",
     "text": [
      "ID: NC_005816.1\n",
      "Name: NC_005816\n",
      "Description: Yersinia pestis biovar Microtus str. 91001 plasmid pPCP1, complete sequence\n",
      "Number of features: 2\n",
      "Seq('ATGGGAGGGGGAATGATCTCAAAGTTATTTTGCTTGGCTCTCATATTTTTATCA...TAA')\n",
      "438\n"
     ]
    }
   ],
   "source": [
    "sub_record = gene_record[4342:4780]\n",
    "print(sub_record)\n",
    "print(len(sub_record))"
   ]
  },
  {
   "cell_type": "markdown",
   "id": "experienced-logging",
   "metadata": {},
   "source": [
    "Добивање на **RNA** со транскрипција од подстрингот:"
   ]
  },
  {
   "cell_type": "code",
   "execution_count": 3,
   "id": "charged-whale",
   "metadata": {},
   "outputs": [
    {
     "name": "stdout",
     "output_type": "stream",
     "text": [
      "AUGGGAGGGGGAAUGAUCUCAAAGUUAUUUUGCUUGGCUCUCAUAUUUUUAUCAUCAAGUGGCCUUGCAGAAAAAAACACAUAUACAGCAAAAGACAUCUUGCAAAACCUAGAAUUAAAUACCUUUGGCAAUUCAUUGUCUCAUGGCAUCUAUGGGAAACAGACAACCUUCAAGCAAACCGAGUUUACAAAUAUUAAAAGCAACACCAAAAAACACAUUGCACUUAUCAAUAAAGACAACUCAUGGAUGAUAUCAUUAAAAAUACUAGGAAUUAAGAGAGAUGAGUAUACUGUCUGUUUUGAAGAUUUCUCUCUAAUAAGACCGCCAACAUAUGUAGCCAUACAUCCUCUACUUAUAAAAAAAGUAAAAUCUGGAAACUUUAUAGUAGUGAAAGAAAUAAAGAAAUCUAUCCCUGGUUGCACUGUAUAUUAUCAUUAA\n"
     ]
    }
   ],
   "source": [
    "sub_rna = sub_record.seq.transcribe()\n",
    "print(sub_rna)"
   ]
  },
  {
   "cell_type": "markdown",
   "id": "elegant-vintage",
   "metadata": {},
   "source": [
    "Табела за процесот на транслација:"
   ]
  },
  {
   "cell_type": "code",
   "execution_count": 6,
   "id": "widespread-diamond",
   "metadata": {},
   "outputs": [
    {
     "name": "stdout",
     "output_type": "stream",
     "text": [
      "Table 11 Bacterial, Archaeal, Plant Plastid\n",
      "\n",
      "  |  U      |  C      |  A      |  G      |\n",
      "--+---------+---------+---------+---------+--\n",
      "U | UUU F   | UCU S   | UAU Y   | UGU C   | U\n",
      "U | UUC F   | UCC S   | UAC Y   | UGC C   | C\n",
      "U | UUA L   | UCA S   | UAA Stop| UGA Stop| A\n",
      "U | UUG L(s)| UCG S   | UAG Stop| UGG W   | G\n",
      "--+---------+---------+---------+---------+--\n",
      "C | CUU L   | CCU P   | CAU H   | CGU R   | U\n",
      "C | CUC L   | CCC P   | CAC H   | CGC R   | C\n",
      "C | CUA L   | CCA P   | CAA Q   | CGA R   | A\n",
      "C | CUG L(s)| CCG P   | CAG Q   | CGG R   | G\n",
      "--+---------+---------+---------+---------+--\n",
      "A | AUU I(s)| ACU T   | AAU N   | AGU S   | U\n",
      "A | AUC I(s)| ACC T   | AAC N   | AGC S   | C\n",
      "A | AUA I(s)| ACA T   | AAA K   | AGA R   | A\n",
      "A | AUG M(s)| ACG T   | AAG K   | AGG R   | G\n",
      "--+---------+---------+---------+---------+--\n",
      "G | GUU V   | GCU A   | GAU D   | GGU G   | U\n",
      "G | GUC V   | GCC A   | GAC D   | GGC G   | C\n",
      "G | GUA V   | GCA A   | GAA E   | GGA G   | A\n",
      "G | GUG V(s)| GCG A   | GAG E   | GGG G   | G\n",
      "--+---------+---------+---------+---------+--\n"
     ]
    }
   ],
   "source": [
    "from Bio.Data import CodonTable\n",
    "\n",
    "mito_table = CodonTable.unambiguous_rna_by_id[11]\n",
    "print(mito_table)"
   ]
  },
  {
   "cell_type": "markdown",
   "id": "wireless-majority",
   "metadata": {},
   "source": [
    "Соодветните старт/стоп кодони според табелата со број 11:"
   ]
  },
  {
   "cell_type": "code",
   "execution_count": 7,
   "id": "greek-canberra",
   "metadata": {},
   "outputs": [
    {
     "name": "stdout",
     "output_type": "stream",
     "text": [
      "Старт кодони: ['UUG', 'CUG', 'AUU', 'AUC', 'AUA', 'AUG', 'GUG']\n",
      "Стоп кодони: ['UAA', 'UAG', 'UGA']\n"
     ]
    }
   ],
   "source": [
    "print(f\"Старт кодони: {mito_table.start_codons}\")\n",
    "print(f\"Стоп кодони: {mito_table.stop_codons}\")"
   ]
  },
  {
   "cell_type": "code",
   "execution_count": 8,
   "id": "bigger-seattle",
   "metadata": {},
   "outputs": [
    {
     "name": "stdout",
     "output_type": "stream",
     "text": [
      "type: CDS\n",
      "location: [4342:4780](+)\n",
      "qualifiers:\n",
      "    Key: codon_start, Value: ['1']\n",
      "    Key: db_xref, Value: ['GI:45478716', 'GeneID:2767712']\n",
      "    Key: gene, Value: ['pim']\n",
      "    Key: locus_tag, Value: ['YP_pPCP05']\n",
      "    Key: note, Value: ['similar to many previously sequenced pesticin immunity protein entries of Yersinia pestis plasmid pPCP, e.g. gi| 16082683|,ref|NP_395230.1| (NC_003132) , gi|1200166|emb|CAA90861.1| (Z54145 ) , gi|1488655| emb|CAA63439.1| (X92856) , gi|2996219|gb|AAC62543.1| (AF053945) , and gi|5763814|emb|CAB531 67.1| (AL109969)']\n",
      "    Key: product, Value: ['pesticin immunity protein']\n",
      "    Key: protein_id, Value: ['NP_995571.1']\n",
      "    Key: transl_table, Value: ['11']\n",
      "    Key: translation, Value: ['MGGGMISKLFCLALIFLSSSGLAEKNTYTAKDILQNLELNTFGNSLSHGIYGKQTTFKQTEFTNIKSNTKKHIALINKDNSWMISLKILGIKRDEYTVCFEDFSLIRPPTYVAIHPLLIKKVKSGNFIVVKEIKKSIPGCTVYYH']\n",
      "\n",
      "Вкупна должина на CBS: 438\n",
      "AUGGGAGGGGGAAUGAUCUCAAAGUUAUUUUGCUUGGCUCUCAUAUUUUUAUCAUCAAGUGGCCUUGCAGAAAAAAACACAUAUACAGCAAAAGACAUCUUGCAAAACCUAGAAUUAAAUACCUUUGGCAAUUCAUUGUCUCAUGGCAUCUAUGGGAAACAGACAACCUUCAAGCAAACCGAGUUUACAAAUAUUAAAAGCAACACCAAAAAACACAUUGCACUUAUCAAUAAAGACAACUCAUGGAUGAUAUCAUUAAAAAUACUAGGAAUUAAGAGAGAUGAGUAUACUGUCUGUUUUGAAGAUUUCUCUCUAAUAAGACCGCCAACAUAUGUAGCCAUACAUCCUCUACUUAUAAAAAAAGUAAAAUCUGGAAACUUUAUAGUAGUGAAAGAAAUAAAGAAAUCUAUCCCUGGUUGCACUGUAUAUUAUCAUUAA\n",
      "\n",
      "Вкупен број на старт кодони: 64\n",
      "Најден старт кодон со позиција: [(0, 'AUG'), (12, 'AUG'), (15, 'AUC'), (26, 'AUU'), (29, 'UUG'), (33, 'UUG'), (42, 'AUA'), (44, 'AUU'), (50, 'AUC'), (53, 'AUC'), (58, 'GUG'), (64, 'UUG'), (80, 'AUA'), (82, 'AUA'), (96, 'AUC'), (99, 'UUG'), (113, 'AUU'), (118, 'AUA'), (124, 'UUG'), (130, 'AUU'), (134, 'AUU'), (135, 'UUG'), (142, 'AUG'), (147, 'AUC'), (151, 'AUG'), (190, 'AUA'), (192, 'AUU'), (216, 'AUU'), (217, 'UUG'), (225, 'AUC'), (229, 'AUA'), (242, 'AUG'), (246, 'AUG'), (249, 'AUA'), (251, 'AUC'), (254, 'AUU'), (261, 'AUA'), (270, 'AUU'), (280, 'AUG'), (286, 'AUA'), (289, 'CUG'), (293, 'CUG'), (298, 'UUG'), (304, 'AUU'), (315, 'AUA'), (329, 'AUA'), (331, 'AUG'), (339, 'AUA'), (343, 'AUC'), (354, 'AUA'), (368, 'AUC'), (370, 'CUG'), (381, 'AUA'), (387, 'GUG'), (396, 'AUA'), (404, 'AUC'), (408, 'AUC'), (412, 'CUG'), (416, 'UUG'), (421, 'CUG'), (425, 'AUA'), (427, 'AUU'), (430, 'AUC'), (433, 'AUU')]\n",
      "\n",
      "Вкупен број на стоп кодони: 21\n",
      "Најден стоп кодон со позиција: [(13, 'UGA'), (109, 'UAG'), (115, 'UAA'), (194, 'UAA'), (230, 'UAA'), (247, 'UGA'), (256, 'UAA'), (265, 'UAG'), (272, 'UAA'), (281, 'UGA'), (299, 'UGA'), (313, 'UAA'), (316, 'UAA'), (334, 'UAG'), (355, 'UAA'), (364, 'UAA'), (382, 'UAG'), (385, 'UAG'), (388, 'UGA'), (397, 'UAA'), (435, 'UAA')]\n"
     ]
    }
   ],
   "source": [
    "# Листи за позиции на старт и стоп кодони\n",
    "start_codon_positions = []\n",
    "stop_codon_positions = []\n",
    "# Листи за имињата на најдените кодони\n",
    "start_found = []\n",
    "stop_found = []\n",
    "# Конверзија во стринг, за полесна работа\n",
    "rna_string = str(sub_rna)\n",
    "\n",
    "\"\"\"\n",
    "Идеја на пребарување: \n",
    "- Започни од 0 и движи се до целата секвенца -2\n",
    "- Земи го моменталниот триплет \n",
    "- Провери дали е во старт кодоните -> Ако е зачувај торка (позиција, триплет)\n",
    "- Ако не, провери дали е во стоп кодоните -> Ако е зачувај торка (позиција, триплет)\n",
    "- Зголеми го бројачот \n",
    "\"\"\"\n",
    "\n",
    "k = 0\n",
    "while k < len(rna_string)-2:\n",
    "    # extract a three-nucleotide subsequence\n",
    "    current_codon = rna_string[k:k+3]\n",
    "    if current_codon in mito_table.start_codons:\n",
    "        start_found.append((k, current_codon))\n",
    "    elif current_codon in mito_table.stop_codons:\n",
    "        stop_found.append((k, current_codon))\n",
    "    k += 1\n",
    "\n",
    "print(gene_record.features[21])\n",
    "print(f\"Вкупна должина на CBS: {len(sub_rna)}\")\n",
    "print(sub_rna)\n",
    "print()\n",
    "print(f'Вкупен број на старт кодони: {len(start_found)}')\n",
    "print(f'Најден старт кодон со позиција: {start_found}')\n",
    "print()\n",
    "print(f'Вкупен број на стоп кодони: {len(stop_found)}')\n",
    "print(f'Најден стоп кодон со позиција: {stop_found}')"
   ]
  },
  {
   "cell_type": "markdown",
   "id": "adolescent-olive",
   "metadata": {},
   "source": [
    "Ова е конечниот резултат од пребарувањето и интересното што може да се забележи е дека некои од кодоните старт и стоп се поклопуваат и во следното барање при процесот на **транслација** можеме да видиме дека може произволно да зимаме комбинации од еден старт и стоп за да читаме триплети во процесот на транслација од РНА во протеинска секвенца.  "
   ]
  }
 ],
 "metadata": {
  "kernelspec": {
   "display_name": "Python 3",
   "language": "python",
   "name": "python3"
  },
  "language_info": {
   "codemirror_mode": {
    "name": "ipython",
    "version": 3
   },
   "file_extension": ".py",
   "mimetype": "text/x-python",
   "name": "python",
   "nbconvert_exporter": "python",
   "pygments_lexer": "ipython3",
   "version": "3.7.9"
  }
 },
 "nbformat": 4,
 "nbformat_minor": 5
}
