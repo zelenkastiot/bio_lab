{
 "cells": [
  {
   "cell_type": "markdown",
   "id": "consistent-merit",
   "metadata": {},
   "source": [
    "# 💻 Б4: Yersinia pestis ДНА секвенца"
   ]
  },
  {
   "cell_type": "markdown",
   "id": "simplified-namibia",
   "metadata": {},
   "source": [
    "```{admonition} Опис на барање\n",
    ":class: tip\n",
    "Да се преземе комплетната ДНА секвенција на Yersinia pestis\n",
    "(бактерија која ги инфектира белите дробови и предизвикува\n",
    "пневмонија). До неа се пристапува со употреба на\n",
    "идентификациониот број **NC_005816** во GeneBank базата\n",
    "(работете со **SeqIO** објекти, имате детали во\n",
    "документацијата).\n",
    "```"
   ]
  },
  {
   "cell_type": "markdown",
   "id": "wicked-rough",
   "metadata": {},
   "source": [
    "Читање на **Genbank** фајл и принтање на секвенцата:"
   ]
  },
  {
   "cell_type": "code",
   "execution_count": 2,
   "id": "biblical-ceremony",
   "metadata": {},
   "outputs": [
    {
     "name": "stdout",
     "output_type": "stream",
     "text": [
      "Секвенцата: TGTAACGAACGGTGC...G\n",
      "Сите влезови во feature табалета: 41\n",
      "Извор за базата:  Yersinia pestis biovar Microtus str. 91001\n"
     ]
    }
   ],
   "source": [
    "from Bio import SeqIO\n",
    "\n",
    "record = SeqIO.read(\"yersinia-pestis-fasta/NC_005816.gb\", \"genbank\")\n",
    "# print(record)\n",
    "\n",
    "print(f'Секвенцата: {record.seq[:15]}...{record.seq[-1]}')\n",
    "print(f'Сите влезови во feature табалета: {len(record.features)}')\n",
    "print(f'Извор за базата:  {record.annotations[\"source\"]}')"
   ]
  },
  {
   "cell_type": "markdown",
   "id": "accompanied-bridge",
   "metadata": {},
   "source": [
    "**Транскрипција** на прочитаната секвенца: "
   ]
  },
  {
   "cell_type": "code",
   "execution_count": 6,
   "id": "monthly-strike",
   "metadata": {},
   "outputs": [
    {
     "name": "stdout",
     "output_type": "stream",
     "text": [
      "РНА од секвенцата: UGUAACGAACGGUGCAAUAG...UG\n"
     ]
    }
   ],
   "source": [
    "rna_seq = record.seq.transcribe()\n",
    "print(f'РНА од секвенцата: {rna_seq[:20]}...{rna_seq[-2]}{rna_seq[-1]}')"
   ]
  },
  {
   "cell_type": "markdown",
   "id": "featured-midnight",
   "metadata": {},
   "source": [
    "**Транслација** на нуклеотидите:"
   ]
  },
  {
   "cell_type": "code",
   "execution_count": 8,
   "id": "patient-netscape",
   "metadata": {},
   "outputs": [
    {
     "name": "stdout",
     "output_type": "stream",
     "text": [
      "Протеинска секвенца: CNERCNSDPHPTPEIRSRG*SALLIQESLWSLLRQLWKLK...PL\n"
     ]
    }
   ],
   "source": [
    "protein_seq = record.seq.translate()\n",
    "print(f'Протеинска секвенца: {protein_seq[:40]}...{protein_seq[-2]}{protein_seq[-1]}')"
   ]
  },
  {
   "cell_type": "markdown",
   "id": "later-panel",
   "metadata": {},
   "source": [
    "**Транслација** на нуклеотидите то првиот стоп кодон и потоа прекинува:"
   ]
  },
  {
   "cell_type": "code",
   "execution_count": 10,
   "id": "enhanced-barrier",
   "metadata": {},
   "outputs": [
    {
     "name": "stdout",
     "output_type": "stream",
     "text": [
      "Протеинска секвенца до прв стоп кодон: CNERCNSDPHPTPEIRSRG\n"
     ]
    }
   ],
   "source": [
    "protein_seq_w = record.seq.translate(to_stop=True)\n",
    "print(f'Протеинска секвенца до прв стоп кодон: {protein_seq_w}')"
   ]
  }
 ],
 "metadata": {
  "kernelspec": {
   "display_name": "Python 3",
   "language": "python",
   "name": "python3"
  },
  "language_info": {
   "codemirror_mode": {
    "name": "ipython",
    "version": 3
   },
   "file_extension": ".py",
   "mimetype": "text/x-python",
   "name": "python",
   "nbconvert_exporter": "python",
   "pygments_lexer": "ipython3",
   "version": "3.7.9"
  }
 },
 "nbformat": 4,
 "nbformat_minor": 5
}
