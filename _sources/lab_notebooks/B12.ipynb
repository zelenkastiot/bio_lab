{
 "cells": [
  {
   "cell_type": "markdown",
   "id": "functional-voltage",
   "metadata": {},
   "source": [
    "# 💻 Б12: Имплементација на Nussinov функција\n"
   ]
  },
  {
   "cell_type": "markdown",
   "id": "aerial-cradle",
   "metadata": {},
   "source": [
    "````{admonition} Опис на барање\n",
    ":class: tip\n",
    "Да се испрограмира алгоритмот на Nussinov како функција во\n",
    "python која на влез ќе добива стринг од нуклеотиди, а на\n",
    "излезе ќе ја дава нивната секундарна структура.\n",
    "\n",
    "Влез нека биде следната **tRNA** молекула: <br>\n",
    "\n",
    "```Python\n",
    "ACCGCGGGGCGUCCGGCUCAGCUUGCCGCUGCGGAGC\n",
    "GCCGCAGUAGCCGAAACUUCCGGCUCGGGCCGUGGGC\n",
    "GGUCUCUAGUCGCCCCG \n",
    "```\n",
    "````"
   ]
  },
  {
   "cell_type": "markdown",
   "id": "provincial-caution",
   "metadata": {},
   "source": [
    "## Алгоритам на Нусинов "
   ]
  },
  {
   "cell_type": "markdown",
   "id": "dietary-assets",
   "metadata": {},
   "source": [
    "Алгоритмот на **Нусинов** го решава проблемот со *предвидување на секундарни РНА структури со максимизирање на базните парови*. \n",
    "\n",
    "Исто така го „решава“ проблемот со предвидување на непреодни секундарни структури. Ова се постигнува со доделување на резултат на нашата влезна структура во рамките на $L \\times L$ матрицата, $N_{ij}$. За да го направите ова, за секој спарен комплет на нуклеотиди, ние му даваме резултат +1, а за други, 0. Потоа се обидуваме да ги зголемиме резултатите и да се повлечеме од нуклеотидите што го зголемуваат нашиот вкупен резултат. За да ги зголемиме нашите базни парови, Нусинов наведува само 4 можни правила што можеме да ги користиме при споредување на нуклеотидите.\n",
    "\n",
    "Главните пресметки на **Нусинов** се рекурзивни и ги пресметуваат најдобрите секундарни структури за мали сукцесии на нуклеотиди сè додека не достигне поголеми.\n",
    "\n",
    "```{figure} images/img2.gif\n",
    "---\n",
    "width: 25%\n",
    "align: center\n",
    "name: fig1 - gif\n",
    "---\n",
    "Визуелн приказ за полнење на матрицата (Фаза 1) \n",
    "```\n",
    "\n",
    "Алгоритамот се состои од две фази: \n",
    "- Фаза на полнење на матрицата\n",
    "- Фаза на навраќање наназад "
   ]
  },
  {
   "cell_type": "markdown",
   "id": "spread-renaissance",
   "metadata": {},
   "source": [
    "### 1. Фаза на полнење на матрицата"
   ]
  },
  {
   "cell_type": "markdown",
   "id": "polyphonic-interpretation",
   "metadata": {},
   "source": [
    "Правила:\n",
    "1. Додадете непарирана позиција $i$ на најдобрата подструктура за последователно ниво $i + 1, j$\n",
    "2. Додадете непарирана позиција $j$ на најдобрата подструктура за следницата $i, j – 1$\n",
    "3. Додадете спарени основи $i – j$ во најдобрата подструктура за следната $i + j, j – 1$\n",
    "4. Комбинирајте две оптимални подструктури $i, k$ и $k + 1, j$"
   ]
  },
  {
   "cell_type": "markdown",
   "id": "killing-longitude",
   "metadata": {},
   "source": [
    "\n",
    "```{figure} images/img1.png\n",
    "---\n",
    "width: 85%\n",
    "align: center\n",
    "name: fig5 - rules\n",
    "---\n",
    "Визуелен приказ на сите 4 правила\n",
    "```\n"
   ]
  },
  {
   "cell_type": "code",
   "execution_count": 1,
   "id": "perceived-timeline",
   "metadata": {},
   "outputs": [
    {
     "name": "stdout",
     "output_type": "stream",
     "text": [
      "Транскрипција\n",
      "ДНА:\n",
      " ACCGCGGGGCGUCCGGCUCAGCUUGCCGCUGCGGAGCGCCGCAGUAGCCGAAACUUCCGGCUCGGGCCGUGGGCGGUCUCUAGUCGCCCCG\n",
      "RNA:\n",
      " ACCGCGGGGCGUCCGGCUCAGCUUGCCGCUGCGGAGCGCCGCAGUAGCCGAAACUUCCGGCUCGGGCCGUGGGCGGUCUCUAGUCGCCCCG\n"
     ]
    }
   ],
   "source": [
    "from Bio.Seq import Seq \n",
    "import numpy as np\n",
    "import pandas as pd\n",
    "\n",
    "sample = \"ACCGCGGGGCGUCCGGCUCAGCUUGCCGCUGCGGAGCGCCGCAGUAGCCGAAACUUCCGGCUCGGGCCGUGGGCGGUCUCUAGUCGCCCCG\"\n",
    "\n",
    "input_dna = Seq(sample)\n",
    "output_rna = input_dna.transcribe()\n",
    "\n",
    "print(\"Транскрипција\")\n",
    "print(f\"ДНА:\\n {input_dna}\")\n",
    "print(f\"RNA:\\n {output_rna}\")"
   ]
  },
  {
   "cell_type": "code",
   "execution_count": 2,
   "id": "ruled-ribbon",
   "metadata": {},
   "outputs": [],
   "source": [
    "def fill(nm , rna):\n",
    "    \"\"\"\n",
    "    Пополнување на матрицата по Nussinov algorithm\n",
    "    \"\"\"\n",
    "    minimal_loop_length = 0\n",
    "    for k in range(1, len(rna)):\n",
    "        for i in range(len(rna) - k):\n",
    "            j = i + k\n",
    "            if j - i >= minimal_loop_length:\n",
    "                down = nm[i + 1][j] # 1 правило: доле\n",
    "                left = nm[i][j - 1] # 2 правило: лево\n",
    "                diag = nm[i + 1][j - 1] + couple((rna[i], rna[j])) # 3 правило: дијагонала лево долу + дали е пар или не\n",
    "                rc = max([nm[i][t] + nm[t + 1][j] for t in range(i, j)]) # 4 правило: комибација од две оптимални субструктури (list comprehension)\n",
    "                nm[i][j] = max(down, left, diag, rc) # врати го максимумот\n",
    "            \n",
    "            else:\n",
    "                nm[i][j] = 0\n",
    "    return nm\n",
    "\n",
    "def couple(pair):\n",
    "    \"\"\"\n",
    "    Врати True ако РНА нуклеотидите се парови\n",
    "    \"\"\"\n",
    "    pairs = {\"A\": \"U\", \"U\": \"A\", \"G\": \"C\", \"C\": \"G\"} # правила за комплементарност\n",
    "    # проверка\n",
    "    if pair in pairs.items():\n",
    "        return True\n",
    "    \n",
    "    return False\n",
    "\n",
    "def init_matrix(rna):\n",
    "    M = len(rna)\n",
    "    # иницијална матрица\n",
    "    nm = np.empty([M, M])\n",
    "    nm[:] = np.NAN\n",
    "    # главна дијагонала и веднаш под главна-дијагоналата\n",
    "    nm[range(M), range(M)] = 0\n",
    "    nm[range(1, len(rna)), range(len(rna) - 1)] = 0\n",
    "    return nm"
   ]
  },
  {
   "cell_type": "markdown",
   "id": "going-subcommittee",
   "metadata": {},
   "source": [
    "### 2. Фаза за навраќање наназад"
   ]
  },
  {
   "cell_type": "code",
   "execution_count": 4,
   "id": "authorized-position",
   "metadata": {},
   "outputs": [],
   "source": [
    "def traceback(nm, rna, fold, i, L):\n",
    "    \"\"\"\n",
    "    Рекурзија: Навраќање низ пополнета Nussinov матрица за да се најде оптимална РНА секундарна структура\n",
    "    \"\"\"\n",
    "    j = L\n",
    "\n",
    "    if i < j:\n",
    "        if nm[i][j] == nm[i + 1][j]: # 1 правило\n",
    "            traceback(nm, rna, fold, i + 1, j)\n",
    "        elif nm[i][j] == nm[i][j - 1]: # 2 правило\n",
    "            traceback(nm, rna, fold, i, j - 1)\n",
    "        elif nm[i][j] == nm[i + 1][j - 1] + couple((rna[i], rna[j])): # 3 правило\n",
    "            fold.append((i, j))\n",
    "            traceback(nm, rna, fold, i + 1, j - 1)\n",
    "        else:\n",
    "            for k in range(i + 1, j - 1):\n",
    "                if nm[i][j] == nm[i, k] + nm[k + 1][j]: # 4 правило\n",
    "                    traceback(nm, rna, fold, i, k)\n",
    "                    traceback(nm, rna, fold, k + 1, j)\n",
    "                    break\n",
    "\n",
    "    return fold\n",
    "\n",
    "def dot_write(rna, fold):\n",
    "    dot = [\".\" for i in range(len(rna))]\n",
    "    for s in fold:\n",
    "        dot[min(s)] = \"(\"\n",
    "        dot[max(s)] = \")\"\n",
    "    return \"\".join(dot)"
   ]
  },
  {
   "cell_type": "markdown",
   "id": "hearing-period",
   "metadata": {},
   "source": [
    "### Резултат од алгоритам"
   ]
  },
  {
   "cell_type": "code",
   "execution_count": 7,
   "id": "smooth-carter",
   "metadata": {},
   "outputs": [
    {
     "name": "stdout",
     "output_type": "stream",
     "text": [
      "ACCGCGGGGCGUCCGGCUCAGCUUGCCGCUGCGGAGCGCCGCAGUAGCCGAAACUUCCGGCUCGGGCCGUGGGCGGUCUCUAGUCGCCCCG\n",
      "Должина на РНА сегмент: 91\n"
     ]
    }
   ],
   "source": [
    "print(output_rna)\n",
    "print(f\"Должина на РНА сегмент: {len(output_rna)}\")"
   ]
  },
  {
   "cell_type": "code",
   "execution_count": 9,
   "id": "incomplete-gross",
   "metadata": {},
   "outputs": [
    {
     "name": "stdout",
     "output_type": "stream",
     "text": [
      "      A    C    C    G    C    G    G    G    G    C  ...     A     G     U  \\\n",
      "A   0.0  0.0  0.0  1.0  1.0  2.0  3.0  3.0  3.0  4.0  ...  36.0  36.0  37.0   \n",
      "C   0.0  0.0  0.0  1.0  1.0  2.0  3.0  3.0  3.0  4.0  ...  35.0  36.0  36.0   \n",
      "C   NaN  0.0  0.0  1.0  1.0  2.0  2.0  2.0  2.0  3.0  ...  35.0  35.0  35.0   \n",
      "G   NaN  NaN  0.0  0.0  1.0  1.0  1.0  1.0  1.0  2.0  ...  34.0  34.0  34.0   \n",
      "C   NaN  NaN  NaN  0.0  0.0  1.0  1.0  1.0  1.0  2.0  ...  34.0  34.0  34.0   \n",
      "..  ...  ...  ...  ...  ...  ...  ...  ...  ...  ...  ...   ...   ...   ...   \n",
      "C   NaN  NaN  NaN  NaN  NaN  NaN  NaN  NaN  NaN  NaN  ...   NaN   NaN   NaN   \n",
      "C   NaN  NaN  NaN  NaN  NaN  NaN  NaN  NaN  NaN  NaN  ...   NaN   NaN   NaN   \n",
      "C   NaN  NaN  NaN  NaN  NaN  NaN  NaN  NaN  NaN  NaN  ...   NaN   NaN   NaN   \n",
      "C   NaN  NaN  NaN  NaN  NaN  NaN  NaN  NaN  NaN  NaN  ...   NaN   NaN   NaN   \n",
      "G   NaN  NaN  NaN  NaN  NaN  NaN  NaN  NaN  NaN  NaN  ...   NaN   NaN   NaN   \n",
      "\n",
      "       C     G     C     C     C     C     G  \n",
      "A   37.0  38.0  38.0  39.0  40.0  41.0  41.0  \n",
      "C   37.0  37.0  38.0  38.0  39.0  40.0  40.0  \n",
      "C   36.0  36.0  37.0  38.0  38.0  39.0  39.0  \n",
      "G   35.0  35.0  36.0  37.0  38.0  38.0  39.0  \n",
      "C   35.0  35.0  36.0  37.0  37.0  38.0  38.0  \n",
      "..   ...   ...   ...   ...   ...   ...   ...  \n",
      "C    NaN   0.0   0.0   0.0   0.0   0.0   1.0  \n",
      "C    NaN   NaN   0.0   0.0   0.0   0.0   1.0  \n",
      "C    NaN   NaN   NaN   0.0   0.0   0.0   1.0  \n",
      "C    NaN   NaN   NaN   NaN   0.0   0.0   1.0  \n",
      "G    NaN   NaN   NaN   NaN   NaN   0.0   0.0  \n",
      "\n",
      "[91 rows x 91 columns] \n",
      " ACCGCGGGGCGUCCGGCUCAGCUUGCCGCUGCGGAGCGCCGCAGUAGCCGAAACUUCCGGCUCGGGCCGUGGGCGGUCUCUAGUCGCCCCG\n",
      "\n",
      "Излез на структура во облик на точки: (((()))((().))(().)(()))(((((.))))(()()(((((()()((.((.)))())))())())))((((((.).(()).)))))).\n"
     ]
    }
   ],
   "source": [
    "rna = output_rna\n",
    "nm = init_matrix(rna)\n",
    "nm = fill(nm, rna)\n",
    " \n",
    "fold = []\n",
    "sec = traceback(nm, rna, fold, 0, len(rna) - 1)\n",
    "    \n",
    "res = dot_write(rna, fold)\n",
    "\n",
    "names = [_ for _ in rna]\n",
    "df = pd.DataFrame(nm, index = names, columns = names)\n",
    "print(df, \"\\n\", rna)\n",
    "print(f\"\\nИзлез на структура во облик на точки: {res}\")"
   ]
  },
  {
   "cell_type": "markdown",
   "id": "novel-oasis",
   "metadata": {},
   "source": [
    "## 3D приказ на резултатот"
   ]
  },
  {
   "cell_type": "markdown",
   "id": "pleasant-syndication",
   "metadata": {},
   "source": [
    "```{admonition} Што е FornaContainer?\n",
    ":class: tip\n",
    "**FornaContainer** е алатка развиена од *Dash* community каде се прикажува ориентиран граф кој ја репрезентира секундарната структура на нуклеински киселини (може да биде и РНА и ДНА). \n",
    "\n",
    "Линкот до алатката е следен: https://dash-gallery.plotly.host/dash-forna-container/\n",
    "```\n",
    "\n",
    "Излезот од претходната ќелија го додадов како нова струтура во оваа *Dash* апликација и резултатот за нашето превитукување беше следно: \n",
    "\n",
    "```{figure} images/img3.png\n",
    "---\n",
    "width: 85%\n",
    "align: center\n",
    "name: fig6 - 2nd struture tRNA\n",
    "---\n",
    "Визуелен приказ на секундардната структура на нашата tRNA\n",
    "```"
   ]
  }
 ],
 "metadata": {
  "kernelspec": {
   "display_name": "Python 3",
   "language": "python",
   "name": "python3"
  },
  "language_info": {
   "codemirror_mode": {
    "name": "ipython",
    "version": 3
   },
   "file_extension": ".py",
   "mimetype": "text/x-python",
   "name": "python",
   "nbconvert_exporter": "python",
   "pygments_lexer": "ipython3",
   "version": "3.7.9"
  }
 },
 "nbformat": 4,
 "nbformat_minor": 5
}
