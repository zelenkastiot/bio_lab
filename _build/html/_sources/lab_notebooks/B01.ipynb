{
 "cells": [
  {
   "cell_type": "markdown",
   "id": "indonesian-sucking",
   "metadata": {},
   "source": [
    "# 💻 Б1: Парсирање на фајлови"
   ]
  },
  {
   "cell_type": "markdown",
   "id": "divine-triple",
   "metadata": {},
   "source": [
    "```{admonition} Опис на барање\n",
    ":class: tip\n",
    "\n",
    "Да се реализираат примери за парсирање на *FASTA* и\n",
    "*GenBank* формати, онака како што е објаснето во поглавје 2.4\n",
    "од туторијалот.\n",
    "```"
   ]
  },
  {
   "cell_type": "markdown",
   "id": "historic-display",
   "metadata": {},
   "source": [
    "*FASTA* datasets: \n",
    "1. **Setaria italica** strain Yugu1 chromosome VIII, whole genome shotgun sequence <br>\n",
    "ENA: CM003535 [[1]](https://www.ebi.ac.uk/ena/browser/view/CM003535)\n",
    "2. **Variola major virus** (strain Bangladesh-1975) complete genome <br>\n",
    "GenBank: L22579.1 [[2]](https://www.ncbi.nlm.nih.gov/nuccore/L22579.1?report=docsum&log$=seqview)\n",
    "3. **Bovine papular stomatitis virus**, complete genome <br> \n",
    "NCBI Reference Sequence: NC_005337.1 [[3]](https://www.ncbi.nlm.nih.gov/nuccore/NC_005337.1?report=genbank)\n",
    "4. **Homo sapiens hepatitis A virus cellular receptor 1 (HAVCR1)**, transcript variant 1, mRNA <br>\n",
    "NCBI Reference Sequence: NM_012206.3 [[4]](https://www.ncbi.nlm.nih.gov/nuccore/NM_012206.3)"
   ]
  },
  {
   "cell_type": "markdown",
   "id": "played-emphasis",
   "metadata": {},
   "source": [
    "Импортирање на главниот модул:"
   ]
  },
  {
   "cell_type": "code",
   "execution_count": 1,
   "id": "false-springer",
   "metadata": {},
   "outputs": [],
   "source": [
    "from Bio import SeqIO"
   ]
  },
  {
   "cell_type": "markdown",
   "id": "foreign-doctor",
   "metadata": {
    "tags": []
   },
   "source": [
    "## <u>1:</u> **Setaria italica strain Yugu1 chromosome VIII, whole genome shotgun sequence.**"
   ]
  },
  {
   "cell_type": "markdown",
   "id": "behind-marketing",
   "metadata": {},
   "source": [
    "**FASTA** фајл: "
   ]
  },
  {
   "cell_type": "code",
   "execution_count": 2,
   "id": "eleven-strike",
   "metadata": {},
   "outputs": [
    {
     "name": "stdout",
     "output_type": "stream",
     "text": [
      "ENA|CM003535|CM003535.1\n",
      "Seq('ACAGTCGTCGACACAGGGCGATTCTATAAAACGGGTCTGGAGGCCATTTTCACG...AGG')\n",
      "40689132\n"
     ]
    }
   ],
   "source": [
    "for seq_record in SeqIO.parse(\"fasta-examples/CM003535.1.fasta\", \"fasta\"):\n",
    "    print(seq_record.id)\n",
    "    print(repr(seq_record.seq))\n",
    "    print(len(seq_record))"
   ]
  },
  {
   "cell_type": "markdown",
   "id": "descending-cincinnati",
   "metadata": {},
   "source": [
    "## <u>2:</u> **Variola major virus (strain Bangladesh-1975) complete genome**"
   ]
  },
  {
   "cell_type": "markdown",
   "id": "fifteen-correction",
   "metadata": {},
   "source": [
    "**FASTA** фајл: "
   ]
  },
  {
   "cell_type": "code",
   "execution_count": 3,
   "id": "strategic-ethics",
   "metadata": {},
   "outputs": [
    {
     "name": "stdout",
     "output_type": "stream",
     "text": [
      "L22579.1\n",
      "Seq('TAGTTAGATAAATTAATAATACATAAGTTTTAATACATTAATATTATATTATAC...CTT')\n",
      "186103\n"
     ]
    }
   ],
   "source": [
    "for seq_record in SeqIO.parse(\"fasta-examples/variola-major-virus-1.fasta\", \"fasta\"):\n",
    "    print(seq_record.id)\n",
    "    print(repr(seq_record.seq))\n",
    "    print(len(seq_record))"
   ]
  },
  {
   "cell_type": "markdown",
   "id": "placed-penguin",
   "metadata": {},
   "source": [
    "**Genbank** фајл:"
   ]
  },
  {
   "cell_type": "code",
   "execution_count": 4,
   "id": "important-southwest",
   "metadata": {},
   "outputs": [
    {
     "name": "stdout",
     "output_type": "stream",
     "text": [
      "L22579.1\n",
      "Seq('TAGTTAGATAAATTAATAATACATAAGTTTTAATACATTAATATTATATTATAC...CTT')\n",
      "186103\n"
     ]
    }
   ],
   "source": [
    "for seq_record in SeqIO.parse(\"fasta-examples/variola-major-virus-2.gb\", \"genbank\"):\n",
    "    print(seq_record.id)\n",
    "    print(repr(seq_record.seq))\n",
    "    print(len(seq_record))"
   ]
  },
  {
   "cell_type": "markdown",
   "id": "promotional-mission",
   "metadata": {},
   "source": [
    "## <u>3:</u> **Bovine papular stomatitis virus, complete genome**"
   ]
  },
  {
   "cell_type": "markdown",
   "id": "desirable-mortgage",
   "metadata": {},
   "source": [
    "**FASTA** фајл: "
   ]
  },
  {
   "cell_type": "code",
   "execution_count": 5,
   "id": "above-pacific",
   "metadata": {},
   "outputs": [
    {
     "name": "stdout",
     "output_type": "stream",
     "text": [
      "NC_005337.1\n",
      "Seq('GAACTCGGGAGGCGGTCGTGCGGACGCACGGACGCACGGACGCACGGACGGGCT...TTC')\n",
      "134431\n"
     ]
    }
   ],
   "source": [
    "for seq_record in SeqIO.parse(\"fasta-examples/bovine-papular-stomatitis-virus-1.fasta\", \"fasta\"):\n",
    "    print(seq_record.id)\n",
    "    print(repr(seq_record.seq))\n",
    "    print(len(seq_record))"
   ]
  },
  {
   "cell_type": "markdown",
   "id": "subtle-sudan",
   "metadata": {},
   "source": [
    "**Genbank** фајл:"
   ]
  },
  {
   "cell_type": "code",
   "execution_count": 6,
   "id": "large-situation",
   "metadata": {},
   "outputs": [
    {
     "name": "stdout",
     "output_type": "stream",
     "text": [
      "NC_005337.1\n",
      "Seq('GAACTCGGGAGGCGGTCGTGCGGACGCACGGACGCACGGACGCACGGACGGGCT...TTC')\n",
      "134431\n"
     ]
    }
   ],
   "source": [
    "for seq_record in SeqIO.parse(\"fasta-examples/bovine-papular-stomatitis-virus-2.gb\", \"genbank\"):\n",
    "    print(seq_record.id)\n",
    "    print(repr(seq_record.seq))\n",
    "    print(len(seq_record))"
   ]
  },
  {
   "cell_type": "markdown",
   "id": "formed-wales",
   "metadata": {},
   "source": [
    "## <u>4:</u> **Homo sapiens hepatitis A virus cellular receptor 1 (HAVCR1), transcript variant 1, mRNA**"
   ]
  },
  {
   "cell_type": "markdown",
   "id": "fleet-appreciation",
   "metadata": {},
   "source": [
    "**FASTA** фајл: "
   ]
  },
  {
   "cell_type": "code",
   "execution_count": 7,
   "id": "announced-circle",
   "metadata": {},
   "outputs": [
    {
     "name": "stdout",
     "output_type": "stream",
     "text": [
      "NM_012206.3\n",
      "Seq('GACCAGGAGTCAGTTTGGCGGTTATGTGTGGGGAAGAAGCTGGGAAGTCAGGGG...GAA')\n",
      "1713\n"
     ]
    }
   ],
   "source": [
    "for seq_record in SeqIO.parse(\"fasta-examples/HAVCR1-1.fasta\", \"fasta\"):\n",
    "    print(seq_record.id)\n",
    "    print(repr(seq_record.seq))\n",
    "    print(len(seq_record))"
   ]
  },
  {
   "cell_type": "markdown",
   "id": "functioning-research",
   "metadata": {},
   "source": [
    "**Genbank** фајл: "
   ]
  },
  {
   "cell_type": "code",
   "execution_count": 8,
   "id": "mounted-habitat",
   "metadata": {},
   "outputs": [
    {
     "name": "stdout",
     "output_type": "stream",
     "text": [
      "NM_012206.3\n",
      "Seq('GACCAGGAGTCAGTTTGGCGGTTATGTGTGGGGAAGAAGCTGGGAAGTCAGGGG...GAA')\n",
      "1713\n"
     ]
    }
   ],
   "source": [
    "for seq_record in SeqIO.parse(\"fasta-examples/HAVCR1-2.gb\", \"genbank\"):\n",
    "    print(seq_record.id)\n",
    "    print(repr(seq_record.seq))\n",
    "    print(len(seq_record))"
   ]
  }
 ],
 "metadata": {
  "kernelspec": {
   "display_name": "Python 3",
   "language": "python",
   "name": "python3"
  },
  "language_info": {
   "codemirror_mode": {
    "name": "ipython",
    "version": 3
   },
   "file_extension": ".py",
   "mimetype": "text/x-python",
   "name": "python",
   "nbconvert_exporter": "python",
   "pygments_lexer": "ipython3",
   "version": "3.7.9"
  }
 },
 "nbformat": 4,
 "nbformat_minor": 5
}
