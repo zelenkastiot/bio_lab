{
 "cells": [
  {
   "cell_type": "markdown",
   "id": "expensive-paintball",
   "metadata": {},
   "source": [
    "# 💻 Б11: Предвидување на структурата на оперон со SVM\n"
   ]
  },
  {
   "cell_type": "markdown",
   "id": "mechanical-burning",
   "metadata": {},
   "source": [
    "```{admonition} Опис на барање\n",
    ":class: tip\n",
    "Да реализира примерот за предвидување на структурата на\n",
    "оперонот кај бактеријата **Bacillus subtilis** опишан во поглавје\n",
    "16 од туторијалот. Да се употреби методот на Логистичка\n",
    "регресија и Машини со Поддржувачки Вектори (SVM) и да се\n",
    "споредат резултатите.\n",
    "```"
   ]
  },
  {
   "cell_type": "markdown",
   "id": "continued-preparation",
   "metadata": {
    "tags": []
   },
   "source": [
    "## 1. Логистичка регресија"
   ]
  },
  {
   "cell_type": "markdown",
   "id": "respected-motivation",
   "metadata": {},
   "source": [
    "### 16.1.1  Позадина и цели"
   ]
  },
  {
   "cell_type": "markdown",
   "id": "pleased-cattle",
   "metadata": {},
   "source": [
    "**Логистичка регресија** е техника за нагледување учење (*supervised learning*), пристап кои се обидува да разликува К класи една од друга со помош на тежинска сума на некои априори променливи $x_i$. Логистичка регресја е модел кој го кориситеме за пресметка на тежините $\\beta_i$ на предикатор проенливите. Во BioPython, логистичката регресија е модел кој моментално е изведен **само за две класи** (К=2); бројот на предикатор променливи нема предефиниран лимит. \n",
    "\n",
    "Како пример, ќе се обидеме да предвидиме оперон на бактерија. **Оперон** е како збир од сврзани гени на иста DNA нишка што се преведуваат (со процесот на транскипција) во единечна mRNA молекула. Процесот на транслација од единечна mRNA молекула потоа ги повлекува соодвените протеини за тој оперон.\n",
    "\n",
    "````{margin} **B. subtilis**\n",
    "*Bacillus subtilis* е бактерија со форма на бацил (rod-shaped), Gram-positive бактерија што произведува спори. Ефикасни системи од генетичка анализа помогнале B. subtilis да постане парадигма за учење на формација на спори и бактерии кои се Gram-positive со низок GC коефициент. \n",
    "\n",
    "```{figure} images/img4.jpg\n",
    "---\n",
    "width: 60%\n",
    "align: center\n",
    "name: bacteria image\n",
    "---\n",
    "TEM микрограф од клетка на B. subtilis во крос-селекција (размер = 200 nm)\n",
    "```\n",
    "\n",
    "B. subtilis може да расте во минилани услови кои содржат само есецијални соли и јаглерод, азот и фофорни извори. Има широка палета за механизми на генска регулација за контрола на експресијата на гени од биосинтетичка но и од дегеративна природа. Растот и поделбата бара синтеза и ремоделирање на дебелите ѕидови што ја опкружуваат клетката на бактеријата. \n",
    "````\n",
    "\n",
    "\n",
    "За бактеријата Bacillus subtils, чии податоци ќе ги користиме, е со **просечен број на гени во оперон**=2.4.  "
   ]
  },
  {
   "cell_type": "markdown",
   "id": "romance-fleece",
   "metadata": {
    "tags": []
   },
   "source": [
    "Како прв чекор во разбирање на регулација на гени кај бактерии, мораме да ја разбереме структурата на оперонот. За околу 10% од генот во оваа бактерија структурата на оперонот е позната од експерименти. Тука влегува во игра надгледуваното учење, кое како метод мож да служи за предвидување на структурата наоперонот за останатите 90% од гените. \n",
    "\n",
    "\n",
    "За ваков надгледуван пристап на учење, треба да избереме неколку променливи променливи $x_i$ што може лесно да се измерат и некако да се поврзани со структурата на оперонот. Една променлива на предвидувачот може да биде растојанието во базните парови помеѓу гените. Соседните гени кои припаѓаат на истиот оперон имаат тенденција да бидат одделени со релативно кратко растојание, додека соседните гени во различни оперони имаат тенденција да имаат поголем простор помеѓу нив за да овозможат секвенци на промотори и терминатори. Друга променлива на предвидувачот се базира на мерења на изразување на гени. По дефиниција, гените кои припаѓаат на истиот оперон имаат еднакви профили на генска експресија, додека гените во различни оперони се очекува да имаат различни профили на изразување. Во пракса, измерените профили на изразување на гените во истиот оперон не се сосема идентични поради присуството на грешки во мерењето. За да се процени сличноста во профилите на изразување на гени, претпоставуваме дека грешките во мерењето следат нормална дистрибуција и ја пресметуваат соодветната оценка за веројатност за најавување (log-likelihood score).\n",
    "\n",
    "Сега имаме 2 предикатор промениливи што можеме да ги користима за предвидување на два соседни гени на една иста нишка на DNA кои припаѓаат на истиот оперон:\n",
    "\n",
    "- $x_1$: бројот на базни парови меѓу нив\n",
    "- $x_2$: сличноста во профилот на експресија \n",
    "\n",
    "\n",
    "Во моделот на логистичка регресија, користиме тежински суми од овие две предикатор вредности на пресетаме заедничка оценка $S$: \n",
    "\n",
    "$$S = \\beta_{0} + \\beta_{1} + x_1 + \\beta_{2} \\cdot x_2$$\n",
    "\n",
    "Моделот на логистичка регресија ни дава соодветни вредности за параметрите $\\beta_{0}, \\beta_{1}, \\beta_{2}$ користејќи на два типа на гени (=класи) што ни служат за приемр: \n",
    "- **ОOP:** Соседни гени, на иста нишка од DNA, познати за тоа дека припаѓаат на *истиот* оперон;\n",
    "- **NOP:** Соседни гени, на иста нишка од DNA, познати за тоа дека припаѓаат на *различни* оперони;\n",
    "\n",
    "Веројатноста за припаѓање на класа зависи од оценката преку функцијата на логистичка регресија. За двете класи **OP**, **NOP** ова можеме да го запишеме како: \n",
    "\n",
    "\n",
    "$$Pr(OP|x_1, x_2) = \\frac{exp(\\beta_{0} + \\beta_{1} + x_1 + \\beta_{2} \\cdot x_2)}{1 + exp(\\beta_{0} + \\beta_{1} + x_1 + \\beta_{2} \\cdot x_2)}$$\n",
    "\n",
    "$$Pr(NOP|x_1, x_2) = \\frac{1}{1 + exp(\\beta_{0} + \\beta_{1} + x_1 + \\beta_{2} \\cdot x_2)}$$\n",
    "\n",
    "Користењето на повеќе парови од гени за кои знаеме дека припаѓаат на ист оперон (класа **OP**) или на различни оперои (класа **NOP**), ни овозможува да ги пресметаме **тежините**  $\\beta_{0}, \\beta_{1}, \\beta_{2}$ со максимиирање на log-likelihood што кореспондира на веројатностите горе наведени. "
   ]
  },
  {
   "cell_type": "markdown",
   "id": "young-symposium",
   "metadata": {},
   "source": [
    "### 16.1.2  Тренирање на модел на логистичка регресија "
   ]
  },
  {
   "cell_type": "markdown",
   "id": "twenty-bacon",
   "metadata": {},
   "source": [
    "*Табела 16.1* ги листа некои од главните парови на гени за кои структурата на опероот е позната. Знаејќи го ова сега ќе се обидеме да го истренираме моделот за логистичка регресија. \n",
    "```{figure} https://raw.githubusercontent.com/zelenelez/images/master/logisticTable.png\n",
    "---\n",
    "width: 75%\n",
    "align: center\n",
    "name: Table 16.1\n",
    "---\n",
    "Соседни парови од гени што припаѓаат наист оперо (класа **OP**) или на различни оперони (класа **NOP**). Интергенски растојаниа се негативни само доколку два гена се преклопуваат. [Table 16.1]\n",
    "```"
   ]
  },
  {
   "cell_type": "code",
   "execution_count": 4,
   "id": "convinced-easter",
   "metadata": {},
   "outputs": [],
   "source": [
    "from Bio import LogisticRegression\n",
    "xs = [[-53, -200.78],\n",
    "          [117, -267.14],\n",
    "          [57, -163.47],\n",
    "          [16, -190.30],\n",
    "          [11, -220.94],\n",
    "          [85, -193.94],\n",
    "          [16, -182.71],\n",
    "          [15, -180.41],\n",
    "          [-26, -181.73],\n",
    "          [58, -259.87],\n",
    "          [126, -414.53],\n",
    "          [191, -249.57],\n",
    "          [113, -265.28],\n",
    "          [145, -312.99],\n",
    "          [154, -213.83],\n",
    "          [147, -380.85],\n",
    "          [93, -291.13]]\n",
    "ys = [1,\n",
    "          1,\n",
    "          1,\n",
    "          1,\n",
    "          1,\n",
    "          1,\n",
    "          1,\n",
    "          1,\n",
    "          1,\n",
    "          1,\n",
    "          0,\n",
    "          0,\n",
    "          0,\n",
    "          0,\n",
    "          0,\n",
    "          0,\n",
    "          0]\n",
    "model = LogisticRegression.train(xs, ys)"
   ]
  },
  {
   "cell_type": "markdown",
   "id": "former-seeker",
   "metadata": {},
   "source": [
    "Тука, $x_s$ и $y_s$ се податоците за тренирање: \n",
    "- $x_s$: содржи предикатор променливи за секој ген\n",
    "- $y_s$: ја специфицира класата, дали генот е од класа 1, (**OP**) или 0 (**NOP**)\n",
    "\n",
    "Резултатниот модел е зачуван во променливата <code>model</code>, што ги содржи тежините  $\\beta_{0}, \\beta_{1}, \\beta_{2}$: "
   ]
  },
  {
   "cell_type": "code",
   "execution_count": 5,
   "id": "japanese-laptop",
   "metadata": {},
   "outputs": [
    {
     "name": "stdout",
     "output_type": "stream",
     "text": [
      "[8.98302901571447, -0.035968960444850887, 0.021813956629835197]\n"
     ]
    }
   ],
   "source": [
    "print(model.beta)"
   ]
  },
  {
   "cell_type": "markdown",
   "id": "fitting-spouse",
   "metadata": {},
   "source": [
    "Тука можеме да забележиме дека $\\beta_{1}$ е негативен, бидејќи генските парови со пократко интергено растојание имаат поголема веројатност да припаѓаат на истиот оперон (класа OP). Од друга страна, $\\beta_{2}$ е позитивен, бидејќи генските парови кои припаѓаат на истиот оперон обично имаат повисок резултат на сличност на нивните профили на изразување на гени. Параметарот $\\beta_{0}$ е позитивен како резултат на повисоката преваленца на генски парови на оперон отколку не-оперонските гени во податоците за обука.\n",
    "\n",
    "Функцијата <code>train</code> има два опционални аргументи: <code>update_fn</code> и <code>typecode</code>. Од двата, <code>update_fn</code> може да се искористи за да се одреди функција за повратен повик, земајќи ги како аргументи бројот на повторување и веројатноста за најавување. Со функцијата за повратен повик (callback function), можеме на пример да го следиме напредокот на пресметката на моделот (кој користи повторување на Newton-Raphson за да ја зголеми функцијата за веројатност за најавување на моделот на логистичка регресија):"
   ]
  },
  {
   "cell_type": "code",
   "execution_count": 6,
   "id": "ranking-obligation",
   "metadata": {},
   "outputs": [
    {
     "name": "stdout",
     "output_type": "stream",
     "text": [
      "Iteration: <built-in function iter> Log-likelihood function: -11.78350206951907\n",
      "Iteration: <built-in function iter> Log-likelihood function: -7.158867676721056\n",
      "Iteration: <built-in function iter> Log-likelihood function: -5.768772098679432\n",
      "Iteration: <built-in function iter> Log-likelihood function: -5.113622943382592\n",
      "Iteration: <built-in function iter> Log-likelihood function: -4.748706424325652\n",
      "Iteration: <built-in function iter> Log-likelihood function: -4.50026077146048\n",
      "Iteration: <built-in function iter> Log-likelihood function: -4.311277737371034\n",
      "Iteration: <built-in function iter> Log-likelihood function: -4.1601504339559465\n",
      "Iteration: <built-in function iter> Log-likelihood function: -4.035617197847367\n",
      "Iteration: <built-in function iter> Log-likelihood function: -3.93073282192017\n",
      "Iteration: <built-in function iter> Log-likelihood function: -3.8408766092914273\n",
      "Iteration: <built-in function iter> Log-likelihood function: -3.762825606050504\n",
      "Iteration: <built-in function iter> Log-likelihood function: -3.69425027154435\n",
      "Iteration: <built-in function iter> Log-likelihood function: -3.63341786019592\n",
      "Iteration: <built-in function iter> Log-likelihood function: -3.579008558366153\n",
      "Iteration: <built-in function iter> Log-likelihood function: -3.529996713864589\n",
      "Iteration: <built-in function iter> Log-likelihood function: -3.4855714516343337\n",
      "Iteration: <built-in function iter> Log-likelihood function: -3.4450820613930997\n",
      "Iteration: <built-in function iter> Log-likelihood function: -3.4079994844651083\n",
      "Iteration: <built-in function iter> Log-likelihood function: -3.3738885623997366\n",
      "Iteration: <built-in function iter> Log-likelihood function: -3.3423876581020284\n",
      "Iteration: <built-in function iter> Log-likelihood function: -3.3131934376911234\n",
      "Iteration: <built-in function iter> Log-likelihood function: -3.286049334600595\n",
      "Iteration: <built-in function iter> Log-likelihood function: -3.2607366863005254\n",
      "Iteration: <built-in function iter> Log-likelihood function: -3.2370678409148406\n",
      "Iteration: <built-in function iter> Log-likelihood function: -3.214880736138568\n",
      "Iteration: <built-in function iter> Log-likelihood function: -3.194034592585724\n",
      "Iteration: <built-in function iter> Log-likelihood function: -3.1744064605163884\n",
      "Iteration: <built-in function iter> Log-likelihood function: -3.1558884270318726\n",
      "Iteration: <built-in function iter> Log-likelihood function: -3.138385339473235\n",
      "Iteration: <built-in function iter> Log-likelihood function: -3.121812935946028\n",
      "Iteration: <built-in function iter> Log-likelihood function: -3.1060962996567087\n",
      "Iteration: <built-in function iter> Log-likelihood function: -3.0911685728203993\n",
      "Iteration: <built-in function iter> Log-likelihood function: -3.076969880170042\n",
      "Iteration: <built-in function iter> Log-likelihood function: -3.0634464228770586\n",
      "Iteration: <built-in function iter> Log-likelihood function: -3.050549711911315\n",
      "Iteration: <built-in function iter> Log-likelihood function: -3.0382359161858656\n",
      "Iteration: <built-in function iter> Log-likelihood function: -3.026465305727712\n",
      "Iteration: <built-in function iter> Log-likelihood function: -3.015201773938085\n",
      "Iteration: <built-in function iter> Log-likelihood function: -3.0044124260112417\n",
      "Iteration: <built-in function iter> Log-likelihood function: -2.994067222959573\n",
      "Iteration: <built-in function iter> Log-likelihood function: -2.9841386725875947\n"
     ]
    }
   ],
   "source": [
    "def show_progress(iteration, loglikelihood):\n",
    "    print(\"Iteration:\", iteration, \"Log-likelihood function:\", loglikelihood)\n",
    "\n",
    "model = LogisticRegression.train(xs, ys, update_fn=show_progress)"
   ]
  },
  {
   "cell_type": "markdown",
   "id": "temporal-cylinder",
   "metadata": {},
   "source": [
    "Итерацијата застнува штом зголемувањето на log-likelihood фунцијата е помало од 0.01. Ако не настанува никаква конвергенција по 500 повторувања, функцијата <code>train</code> враќа грешка од тип <code>AssertionError</code>"
   ]
  },
  {
   "cell_type": "markdown",
   "id": "expanded-spice",
   "metadata": {},
   "source": [
    "### 16.1.3  Класификација со Логистичка Регресија"
   ]
  },
  {
   "cell_type": "markdown",
   "id": "healthy-exclusive",
   "metadata": {
    "heading_collapsed": "true",
    "tags": []
   },
   "source": [
    "Класификацијата се применува со повикување на <code>classify</code> функцијата. При даден модел за логистичка регресија и вредностите $x_1$ и $x_2$ (за пример пар гени за кои не знаеме на каков оперон припаѓаат), оваа функцијата враќа 1 или 0, што кореспондира за тоа дали припаѓаат на ист оперон (класа OP) или припаѓаат на различен оперон (класа NOP). \n",
    "\n",
    "На пример, да ја разгледаме следната ситуација на парови од гени $yxcE$, $yxcD$, $yxiA$, $yxiB$:\n",
    "\n",
    "\n",
    "```{figure} https://raw.githubusercontent.com/zelenelez/images/master/genePairs.png\n",
    "---\n",
    "width: 65%\n",
    "align: center\n",
    "name: Table 16.2\n",
    "---\n",
    "Соседни парови гени за кој припадноста на оперонот е непозната [Table 16.2]\n",
    "```"
   ]
  },
  {
   "cell_type": "code",
   "execution_count": 7,
   "id": "incorporated-helena",
   "metadata": {},
   "outputs": [
    {
     "name": "stdout",
     "output_type": "stream",
     "text": [
      "yxcE, yxcD: 1\n"
     ]
    }
   ],
   "source": [
    "print(\"yxcE, yxcD:\", LogisticRegression.classify(model, [6, -173.143442352]))"
   ]
  },
  {
   "cell_type": "code",
   "execution_count": 8,
   "id": "impossible-quantity",
   "metadata": {},
   "outputs": [
    {
     "name": "stdout",
     "output_type": "stream",
     "text": [
      "yxiB, yxiA: 0\n"
     ]
    }
   ],
   "source": [
    "print(\"yxiB, yxiA:\", LogisticRegression.classify(model, [309, -271.005880394]))"
   ]
  },
  {
   "cell_type": "markdown",
   "id": "diverse-accreditation",
   "metadata": {},
   "source": [
    "За да откриеме колку можеме да бидеме самоуверени во овие предвидувања, можеме да ја повикаме функцијата за пресметување за да ги добиеме веројатностите (равенките горе) за класите OP и NOP.\n",
    "\n",
    "За $yxcE$, $yxcD$ доиваме: "
   ]
  },
  {
   "cell_type": "code",
   "execution_count": 9,
   "id": "changed-winner",
   "metadata": {},
   "outputs": [
    {
     "name": "stdout",
     "output_type": "stream",
     "text": [
      "class OP: probability = 0.9932421635025626 class NOP: probability = 0.006757836497437442\n"
     ]
    }
   ],
   "source": [
    "q, p = LogisticRegression.calculate(model, [6, -173.143442352])\n",
    "print(\"class OP: probability =\", p, \"class NOP: probability =\", q)"
   ]
  },
  {
   "cell_type": "markdown",
   "id": "increased-defendant",
   "metadata": {},
   "source": [
    "и за $yxiA$, $yxiB$: "
   ]
  },
  {
   "cell_type": "code",
   "execution_count": 10,
   "id": "medical-pittsburgh",
   "metadata": {},
   "outputs": [
    {
     "name": "stdout",
     "output_type": "stream",
     "text": [
      "class OP: probability = 0.00032121125181733316 class NOP: probability = 0.9996787887481826\n"
     ]
    }
   ],
   "source": [
    "q, p = LogisticRegression.calculate(model, [309, -271.005880394])\n",
    "print(\"class OP: probability =\", p, \"class NOP: probability =\", q)"
   ]
  },
  {
   "cell_type": "markdown",
   "id": "clear-recruitment",
   "metadata": {},
   "source": [
    "За да добиеме идеја за точноста на предвидувањата на моделот на логистичка регресија, можеме да ја примениме на податоците за учење:"
   ]
  },
  {
   "cell_type": "code",
   "execution_count": 11,
   "id": "median-cornwall",
   "metadata": {},
   "outputs": [
    {
     "name": "stdout",
     "output_type": "stream",
     "text": [
      "True: 1 Predicted: 1\n",
      "True: 1 Predicted: 0\n",
      "True: 1 Predicted: 1\n",
      "True: 1 Predicted: 1\n",
      "True: 1 Predicted: 1\n",
      "True: 1 Predicted: 1\n",
      "True: 1 Predicted: 1\n",
      "True: 1 Predicted: 1\n",
      "True: 1 Predicted: 1\n",
      "True: 1 Predicted: 1\n",
      "True: 0 Predicted: 0\n",
      "True: 0 Predicted: 0\n",
      "True: 0 Predicted: 0\n",
      "True: 0 Predicted: 0\n",
      "True: 0 Predicted: 0\n",
      "True: 0 Predicted: 0\n",
      "True: 0 Predicted: 0\n"
     ]
    }
   ],
   "source": [
    "for i in range(len(ys)):\n",
    "    print(\"True:\", ys[i], \"Predicted:\", LogisticRegression.classify(model, xs[i]))"
   ]
  },
  {
   "cell_type": "markdown",
   "id": "excellent-savings",
   "metadata": {},
   "source": [
    "покажувајќи дека предвидувањето е точно за сите, освен за еден генски парови. Посигурна проценка на точноста на предвидувањата може да се најде од анализата за оставање едно, во која моделот се пресметува од податоците за обука откако ќе се отстрани генот што треба да се предвиди:"
   ]
  },
  {
   "cell_type": "code",
   "execution_count": 12,
   "id": "twelve-default",
   "metadata": {},
   "outputs": [
    {
     "name": "stdout",
     "output_type": "stream",
     "text": [
      "True: 1 Predicted: 1\n",
      "True: 1 Predicted: 0\n",
      "True: 1 Predicted: 1\n",
      "True: 1 Predicted: 1\n",
      "True: 1 Predicted: 1\n",
      "True: 1 Predicted: 1\n",
      "True: 1 Predicted: 1\n",
      "True: 1 Predicted: 1\n",
      "True: 1 Predicted: 1\n",
      "True: 1 Predicted: 1\n",
      "True: 0 Predicted: 0\n",
      "True: 0 Predicted: 0\n",
      "True: 0 Predicted: 0\n",
      "True: 0 Predicted: 0\n",
      "True: 0 Predicted: 1\n",
      "True: 0 Predicted: 0\n",
      "True: 0 Predicted: 0\n",
      "\n",
      "Прецизност(LR): 88.24%\n"
     ]
    }
   ],
   "source": [
    "from Bio import LogisticRegression\n",
    "dataset_len = len(ys)\n",
    "pred_LR = 0 \n",
    "\n",
    "for i in range(len(ys)):\n",
    "    model = LogisticRegression.train(xs[:i]+xs[i+1:], ys[:i]+ys[i+1:])\n",
    "    print(\"True:\", ys[i], \"Predicted:\", LogisticRegression.classify(model, xs[i]))\n",
    "    if ys[i] == LogisticRegression.classify(model, xs[i]):\n",
    "        pred_LR += 1\n",
    "\n",
    "print(f\"\\nПрецизност(LR): {pred_LR/dataset_len * 100:.2f}%\")"
   ]
  },
  {
   "cell_type": "markdown",
   "id": "respected-exception",
   "metadata": {},
   "source": [
    "Во документацијата е исто така наведено дека прецизноста е 88% со што овој пример е репродуциран и тука."
   ]
  },
  {
   "cell_type": "markdown",
   "id": "sustainable-external",
   "metadata": {
    "tags": []
   },
   "source": [
    "## 2. Машини со Поддржувачки Вектори (SVM)"
   ]
  },
  {
   "cell_type": "markdown",
   "id": "hawaiian-resistance",
   "metadata": {},
   "source": [
    "Предностите на машините за поддршка на вектори се:\n",
    "\n",
    "- Ефективно во високо-димензионални простори.\n",
    "- Сè уште е ефикасно во случаи кога бројот на димензии е поголем од бројот на примероци.\n",
    "- Користи подмножество на точки за обука во функцијата на одлука (наречени вектори за поддршка), така што е исто така ефикасна во меморијата.\n",
    "- Разноврсна: различни функции на јадрото можат да бидат наведени за функцијата на одлука. Дадени се заеднички јадра, но исто така е можно да се специфицираат прилагодени јадра.\n",
    "\n",
    "Недостатоците на машините за поддршка на вектори вклучуваат:\n",
    "- Ако бројот на одлики е многу поголем од бројот на примероци, избегнувајте претерано прилагодување при изборот на функциите на јадрото, а терминот за регулирање е клучен.\n",
    "- SVM не обезбедуваат директно проценки на веројатноста, тие се пресметуваат со употреба на скапа втори-вкрстена валидација (видете Резултати и веројатности подолу).\n",
    "\n",
    "**SVC** и **NuSVC** се слични методи, но примаат малку различни групи на параметри и имате различни математички формулации. Од друга страна, **LinearSVC** е друга (побрза) имплементација на класификација на вектор за поддршка за случај на линеарно <code>kernel</code>. Забележете дека **LinearSVC** не прифаќа јадро на параметрите, бидејќи се претпоставува дека е линеарно.\n",
    "\n",
    "Како и други класификатори, **SVC**, **NuSVC** и **LinearSVC** примаат на влез две низи: низа <code>X</code> од облик <code>(n_samples, n_features)</code> која ги содржи тренирачките примероци и низа <code>y</code> од лабели за класата на примероците (или интигери или стрингови) од облик <code>(n_samples)</code>:"
   ]
  },
  {
   "cell_type": "code",
   "execution_count": 13,
   "id": "controlled-rapid",
   "metadata": {},
   "outputs": [
    {
     "data": {
      "text/plain": [
       "SVC()"
      ]
     },
     "execution_count": 13,
     "metadata": {},
     "output_type": "execute_result"
    }
   ],
   "source": [
    "from sklearn import svm\n",
    "\n",
    "clf = svm.SVC()\n",
    "X = xs\n",
    "y = ys\n",
    "clf.fit(X, y)"
   ]
  },
  {
   "cell_type": "markdown",
   "id": "fifth-romania",
   "metadata": {},
   "source": [
    "Пресметување на прецизност: "
   ]
  },
  {
   "cell_type": "code",
   "execution_count": 14,
   "id": "equipped-investor",
   "metadata": {},
   "outputs": [
    {
     "name": "stdout",
     "output_type": "stream",
     "text": [
      "True: 1 Predicted: 1\n",
      "True: 1 Predicted: 0\n",
      "True: 1 Predicted: 1\n",
      "True: 1 Predicted: 1\n",
      "True: 1 Predicted: 1\n",
      "True: 1 Predicted: 1\n",
      "True: 1 Predicted: 1\n",
      "True: 1 Predicted: 1\n",
      "True: 1 Predicted: 1\n",
      "True: 1 Predicted: 1\n",
      "True: 0 Predicted: 0\n",
      "True: 0 Predicted: 0\n",
      "True: 0 Predicted: 0\n",
      "True: 0 Predicted: 0\n",
      "True: 0 Predicted: 0\n",
      "True: 0 Predicted: 0\n",
      "True: 0 Predicted: 0\n",
      "\n",
      "Прецизност (SVM): 94.12%\n"
     ]
    }
   ],
   "source": [
    "dataset_len = len(ys)\n",
    "pred_SVM = 0 \n",
    "for i in range(len(ys)):\n",
    "    result = clf.predict([xs[i]])\n",
    "    print(\"True:\", ys[i], \"Predicted:\", result[0])\n",
    "    if ys[i] == result[0]:\n",
    "        pred_SVM+=1\n",
    "\n",
    "print(f\"\\nПрецизност (SVM): {pred_SVM/dataset_len * 100:.2f}%\")"
   ]
  },
  {
   "cell_type": "markdown",
   "id": "adjusted-click",
   "metadata": {
    "tags": []
   },
   "source": [
    "## Споредба на алгоритми "
   ]
  },
  {
   "cell_type": "markdown",
   "id": "every-cameroon",
   "metadata": {},
   "source": [
    "Моделот на *логистичка регресија* е сличен на анализата на линеарна дискриминација. Во линеарна анализа на дискриминација, веројатноста на класата исто така ги следи равенките од горе. Сепак, наместо да ги проценуваме коефициентите $\\beta$ директно, ние прво одговараме на нормална дистрибуција на променливите предвидувачи $x$. Тогаш коефициентите $\\beta$ се пресметуваат од средствата и коваријантите на нормалната дистрибуција. Ако дистрибуцијата на x е навистина нормална, тогаш очекуваме линеарна дискриминаторска анализа да се претстави подобро од моделот на логистичка регресија. Од друга страна, моделот на логистичка регресија е поцврст кон отстапувањата од нормалноста.\n",
    "\n",
    "Друг сличен пристап е *машина за поддршка на вектори со линеарно јадро* (Support Vector Machines - SVM). Таквиот **SVM** користи и линеарна комбинација на предикторите, но ги проценува коефициентите β од променливите предвидувачи x близу граничниот регион помеѓу класи. Ако моделот на логистичка регресија (равенки од горе) е добар опис за $x$ подалеку од граничниот регион, очекуваме моделот на логистичка регресија да има подобри резултати од **SVM** со линеарно јадро, бидејќи се потпира на повеќе податоци . Ако не, **SVM** со линеарно јадро може да се претстави подобро."
   ]
  },
  {
   "cell_type": "code",
   "execution_count": 15,
   "id": "wireless-shuttle",
   "metadata": {},
   "outputs": [
    {
     "name": "stdout",
     "output_type": "stream",
     "text": [
      "\n",
      "Логистичка регресија\n",
      "Прецизност: 88.24%\n",
      "(LR) Просек acc: 0.85 , Стардна девијација acc: 0.23\n",
      "\n",
      "Suport vector machine\n",
      "Прецизност: 94.12%\n",
      "(SVM) Просек acc: 0.95 , Стардна девијација acc: 0.15\n"
     ]
    },
    {
     "data": {
      "image/png": "[encoded data removed]",
      "text/plain": [
       "<Figure size 432x288 with 1 Axes>"
      ]
     },
     "metadata": {
      "needs_background": "light"
     },
     "output_type": "display_data"
    }
   ],
   "source": [
    "# Читај библиотеки\n",
    "import pandas\n",
    "import matplotlib.pyplot as plt\n",
    "from sklearn import model_selection\n",
    "from sklearn.linear_model import LogisticRegression\n",
    "from sklearn.svm import SVC\n",
    "\n",
    "# читај дата\n",
    "X = xs\n",
    "Y = ys\n",
    "\n",
    "# спреми конфигурација за крос валидација (test harness)\n",
    "seed = 2\n",
    "\n",
    "# спреми модели во листа со имиња\n",
    "models = []\n",
    "models.append(('LR', LogisticRegression()))\n",
    "models.append(('SVM', SVC()))\n",
    "\n",
    "# евалуирај модел\n",
    "results = []\n",
    "names = []\n",
    "scoring = 'accuracy'\n",
    "\n",
    "for name, model in models:\n",
    "    kfold = model_selection.KFold(n_splits=10, shuffle=True, random_state=seed)\n",
    "    cv_results = model_selection.cross_val_score(model, X, Y, cv=kfold, scoring=scoring)\n",
    "    results.append(cv_results)\n",
    "    names.append(name)\n",
    "    msg = \"(%s) Просек acc: %.2f , Стардна девијација acc: %.2f\" % (name, cv_results.mean(), cv_results.std())\n",
    "    print()\n",
    "    if name == 'SVM':\n",
    "        print(\"Suport vector machine\", end=\"\")\n",
    "        print(f\"\\nПрецизност: {pred_SVM/dataset_len * 100:.2f}%\")\n",
    "    else: \n",
    "        print(\"Логистичка регресија\", end=\"\")\n",
    "        print(f\"\\nПрецизност: {pred_LR/dataset_len * 100:.2f}%\")\n",
    "    print(msg)\n",
    "    \n",
    "# boxplot споредба\n",
    "fig = plt.figure()\n",
    "fig.suptitle('Box plot споредба')\n",
    "ax = fig.add_subplot(111)\n",
    "plt.boxplot(results)\n",
    "ax.set_xticklabels(names)\n",
    "plt.show()"
   ]
  }
 ],
 "metadata": {
  "kernelspec": {
   "display_name": "Python 3",
   "language": "python",
   "name": "python3"
  },
  "language_info": {
   "codemirror_mode": {
    "name": "ipython",
    "version": 3
   },
   "file_extension": ".py",
   "mimetype": "text/x-python",
   "name": "python",
   "nbconvert_exporter": "python",
   "pygments_lexer": "ipython3",
   "version": "3.7.9"
  }
 },
 "nbformat": 4,
 "nbformat_minor": 5
}
