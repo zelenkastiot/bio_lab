{
 "cells": [
  {
   "cell_type": "markdown",
   "id": "conventional-techno",
   "metadata": {},
   "source": [
    "# 💻 Б10: Креирање на FASTA фајл\n"
   ]
  },
  {
   "cell_type": "markdown",
   "id": "guided-entrepreneur",
   "metadata": {},
   "source": [
    "```{admonition} Опис на барање\n",
    ":class: tip\n",
    "Да се разработи поглавје 5.5 за креирање на сопствени\n",
    "записи во fasta формат.\n",
    "```"
   ]
  },
  {
   "cell_type": "markdown",
   "id": "boolean-testing",
   "metadata": {},
   "source": [
    "Правење на FASTA фајл од транслација на протеините до првиот стоп кодон на Yersinia pestis FASTA фајлот. Есенцијално идејата е од ДНА да направам нов FASTA фајл но за преведените протеини. "
   ]
  },
  {
   "cell_type": "code",
   "execution_count": 1,
   "id": "sharp-elimination",
   "metadata": {},
   "outputs": [],
   "source": [
    "from Bio.SeqRecord import SeqRecord\n",
    "from Bio import SeqIO\n",
    "\n",
    "def make_protein_record(nuc_record):\n",
    "    \"\"\"Returns a new SeqRecord with the translated sequence (default table).\"\"\"\n",
    "    return SeqRecord(\n",
    "        seq=nuc_record.seq.translate(to_stop=True),\n",
    "        id=\"trans_\" + nuc_record.id,\n",
    "        description=\"translation of CDS, using default table\",\n",
    "    )"
   ]
  },
  {
   "cell_type": "code",
   "execution_count": 2,
   "id": "floating-amateur",
   "metadata": {},
   "outputs": [
    {
     "name": "stdout",
     "output_type": "stream",
     "text": [
      "Нов FASTA запис NC_005816_translations.fasta: CNERCNSDPHPTPEIRSRG\n"
     ]
    }
   ],
   "source": [
    "proteins = (\n",
    "    make_protein_record(nuc_rec)\n",
    "    for nuc_rec in SeqIO.parse(\"yersinia-pestis-fasta/NC_005816.fna\", \"fasta\")\n",
    ")\n",
    "SeqIO.write(proteins, \"yersinia-pestis-fasta/NC_005816_translations.fasta\", \"fasta\")\n",
    "\n",
    "protein_fasta = SeqIO.read(\"yersinia-pestis-fasta/NC_005816_translations.fasta\", \"fasta\")\n",
    "print(f'Нов FASTA запис NC_005816_translations.fasta: {protein_fasta.seq}')"
   ]
  }
 ],
 "metadata": {
  "kernelspec": {
   "display_name": "Python 3",
   "language": "python",
   "name": "python3"
  },
  "language_info": {
   "codemirror_mode": {
    "name": "ipython",
    "version": 3
   },
   "file_extension": ".py",
   "mimetype": "text/x-python",
   "name": "python",
   "nbconvert_exporter": "python",
   "pygments_lexer": "ipython3",
   "version": "3.7.9"
  }
 },
 "nbformat": 4,
 "nbformat_minor": 5
}
