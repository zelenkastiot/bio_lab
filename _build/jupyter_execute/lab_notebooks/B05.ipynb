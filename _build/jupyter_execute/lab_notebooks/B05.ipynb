{
 "cells": [
  {
   "cell_type": "markdown",
   "id": "brilliant-phenomenon",
   "metadata": {},
   "source": [
    "# 💻 Б5: Репликација на секвенца"
   ]
  },
  {
   "cell_type": "markdown",
   "id": "conscious-invalid",
   "metadata": {},
   "source": [
    "```{admonition} Опис на барање\n",
    ":class: tip\n",
    "Имплеметирајте репликација на секвенцијата потпомогнатаод функции во **BioPython**.\n",
    "```"
   ]
  },
  {
   "cell_type": "markdown",
   "id": "metropolitan-newfoundland",
   "metadata": {},
   "source": [
    "Процесот на репликација е доста тривијален во однос на кодирање, се прави копија од самата ДНА секвенца. Пример за репликација врз рандом секвенца (од консултации): "
   ]
  },
  {
   "cell_type": "code",
   "execution_count": 2,
   "id": "above-bacteria",
   "metadata": {},
   "outputs": [
    {
     "name": "stdout",
     "output_type": "stream",
     "text": [
      "Оригинална секвенца:  ATTGGGTTAAC\n",
      "Реплицирана секвенца: ATTGGGTTAAC\n"
     ]
    }
   ],
   "source": [
    "from Bio.Seq import Seq\n",
    "\n",
    "seq = Seq(\"ATTGGGTTAAC\")\n",
    "print(f'Оригинална секвенца:  {seq}')\n",
    "\n",
    "seq_3 = seq.complement()\n",
    "print(f'Реплицирана секвенца: {seq_3.complement()}')"
   ]
  },
  {
   "cell_type": "markdown",
   "id": "meaningful-harmony",
   "metadata": {},
   "source": [
    "Пример врз **Yersinia pestis** [9609 базни парови] ДНА секвенцата: "
   ]
  },
  {
   "cell_type": "code",
   "execution_count": 3,
   "id": "popular-nutrition",
   "metadata": {},
   "outputs": [
    {
     "name": "stdout",
     "output_type": "stream",
     "text": [
      "Оригинална секвенца:  TGTAACGAACGGTGC...G\n",
      "Реплицирана секвенца: TGTAACGAACGGTGC...G\n"
     ]
    }
   ],
   "source": [
    "from Bio import SeqIO\n",
    "\n",
    "record = SeqIO.read(\"yersinia-pestis-fasta/NC_005816.gb\", \"genbank\")\n",
    "print(f'Оригинална секвенца:  {record.seq[:15]}...{record.seq[-1]}')\n",
    "\n",
    "record_comp = record.seq.complement()\n",
    "dna_rep = record_comp.complement()\n",
    "print(f'Реплицирана секвенца: {dna_rep[:15]}...{dna_rep[-1]}')"
   ]
  }
 ],
 "metadata": {
  "kernelspec": {
   "display_name": "Python 3",
   "language": "python",
   "name": "python3"
  },
  "language_info": {
   "codemirror_mode": {
    "name": "ipython",
    "version": 3
   },
   "file_extension": ".py",
   "mimetype": "text/x-python",
   "name": "python",
   "nbconvert_exporter": "python",
   "pygments_lexer": "ipython3",
   "version": "3.7.10"
  },
  "latex_envs": {
   "LaTeX_envs_menu_present": true,
   "autoclose": false,
   "autocomplete": true,
   "bibliofile": "biblio.bib",
   "cite_by": "apalike",
   "current_citInitial": 1,
   "eqLabelWithNumbers": true,
   "eqNumInitial": 1,
   "hotkeys": {
    "equation": "Ctrl-E",
    "itemize": "Ctrl-I"
   },
   "labels_anchors": false,
   "latex_user_defs": false,
   "report_style_numbering": false,
   "user_envs_cfg": false
  },
  "varInspector": {
   "cols": {
    "lenName": 16,
    "lenType": 16,
    "lenVar": 40
   },
   "kernels_config": {
    "python": {
     "delete_cmd_postfix": "",
     "delete_cmd_prefix": "del ",
     "library": "var_list.py",
     "varRefreshCmd": "print(var_dic_list())"
    },
    "r": {
     "delete_cmd_postfix": ") ",
     "delete_cmd_prefix": "rm(",
     "library": "var_list.r",
     "varRefreshCmd": "cat(var_dic_list()) "
    }
   },
   "types_to_exclude": [
    "module",
    "function",
    "builtin_function_or_method",
    "instance",
    "_Feature"
   ],
   "window_display": false
  }
 },
 "nbformat": 4,
 "nbformat_minor": 5
}