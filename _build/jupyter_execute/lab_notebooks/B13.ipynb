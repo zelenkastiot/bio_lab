{
 "cells": [
  {
   "cell_type": "markdown",
   "id": "composite-hardwood",
   "metadata": {},
   "source": [
    "# 💻 Б13: BioPython за предвидување на секундарна структура\n"
   ]
  },
  {
   "cell_type": "markdown",
   "id": "comfortable-charlotte",
   "metadata": {},
   "source": [
    "```{admonition} Опис на барање\n",
    ":class: tip\n",
    "Да се истражи можноста на biopython за одредување на\n",
    "секундарна структура опишана во поглавје 11.6.9\n",
    "```"
   ]
  },
  {
   "cell_type": "markdown",
   "id": "sufficient-ballot",
   "metadata": {},
   "source": [
    "## 11.6.9  Одредување на секундарната структура\n",
    "\n",
    "За оваа функционалност која библиотеката **BioPython** ја нуди, нужно е да се инсталира DSSP (и да се најде лиценца за истото - бесплатна за академски мејлови, https://swift.cmbi.umcn.nl/gv/dssp/). Потоа се користи DSSP класа, која мапира <code>Residue </code> објекти на нивната секундарна структура (и достапната секундарна површина). DSSP кодовите се прикажни во табелата 11.2. DSSP не може да се справи со повеќе модели може само еден да парсира. \n",
    "\n",
    "\n",
    "```{figure} images/table11.2.png\n",
    "---\n",
    "width: 25%\n",
    "align: center\n",
    "name: DSSP table\n",
    "---\n",
    "DSSP кодови во Bio.PDB\n",
    "```\n",
    "\n",
    "DSSP класата исто така може да служи за пресметка на достапната површина и тоа е во поглавје 11.6.10. "
   ]
  },
  {
   "cell_type": "markdown",
   "id": "dutch-associate",
   "metadata": {},
   "source": [
    "**Пример за приказ на PDB parser** "
   ]
  },
  {
   "cell_type": "code",
   "execution_count": 4,
   "id": "outer-photograph",
   "metadata": {},
   "outputs": [],
   "source": [
    "from Bio import MissingExternalDependencyError\n",
    "from Bio.PDB import PDBParser, MMCIFParser\n",
    "from Bio.PDB import DSSP\n",
    "\n",
    "# Miller (procedure similar as for the Sander values above):\n",
    "p = PDBParser()\n",
    "s = p.get_structure(\"example\", \"PDB/2BEG.pdb\")\n",
    "m = s[0]\n",
    "_ = DSSP(m, \"PDB/2BEG.dssp\", \"dssp\", \"Miller\", \"DSSP\")\n",
    "i = 0\n",
    "with open(\"PDB/Miller_RASA.txt\") as fh_ref:\n",
    "    ref_lines = fh_ref.readlines()\n",
    "    for chain in m:\n",
    "        for res in chain:\n",
    "            rasa_ref = float(ref_lines[i].rstrip())\n",
    "            rasa = float(res.xtra[\"EXP_DSSP_RASA\"])\n",
    "            i += 1"
   ]
  },
  {
   "cell_type": "code",
   "execution_count": 18,
   "id": "domestic-tennis",
   "metadata": {},
   "outputs": [
    {
     "data": {
      "application/vnd.jupyter.widget-view+json": {
       "model_id": "542ba0c9763c403b9e27f41e20697c7c",
       "version_major": 2,
       "version_minor": 0
      },
      "text/plain": [
       "NGLWidget()"
      ]
     },
     "metadata": {},
     "output_type": "display_data"
    }
   ],
   "source": [
    "import nglview as nv\n",
    "from IPython.display import display\n",
    "\n",
    "view_example =  nv.show_biopython(s)\n",
    "display(view_example)"
   ]
  }
 ],
 "metadata": {
  "kernelspec": {
   "display_name": "Python 3",
   "language": "python",
   "name": "python3"
  },
  "language_info": {
   "codemirror_mode": {
    "name": "ipython",
    "version": 3
   },
   "file_extension": ".py",
   "mimetype": "text/x-python",
   "name": "python",
   "nbconvert_exporter": "python",
   "pygments_lexer": "ipython3",
   "version": "3.7.9"
  },
  "latex_envs": {
   "LaTeX_envs_menu_present": true,
   "autoclose": false,
   "autocomplete": true,
   "bibliofile": "biblio.bib",
   "cite_by": "apalike",
   "current_citInitial": 1,
   "eqLabelWithNumbers": true,
   "eqNumInitial": 1,
   "hotkeys": {
    "equation": "Ctrl-E",
    "itemize": "Ctrl-I"
   },
   "labels_anchors": false,
   "latex_user_defs": false,
   "report_style_numbering": false,
   "user_envs_cfg": false
  },
  "varInspector": {
   "cols": {
    "lenName": 16,
    "lenType": 16,
    "lenVar": 40
   },
   "kernels_config": {
    "python": {
     "delete_cmd_postfix": "",
     "delete_cmd_prefix": "del ",
     "library": "var_list.py",
     "varRefreshCmd": "print(var_dic_list())"
    },
    "r": {
     "delete_cmd_postfix": ") ",
     "delete_cmd_prefix": "rm(",
     "library": "var_list.r",
     "varRefreshCmd": "cat(var_dic_list()) "
    }
   },
   "types_to_exclude": [
    "module",
    "function",
    "builtin_function_or_method",
    "instance",
    "_Feature"
   ],
   "window_display": false
  }
 },
 "nbformat": 4,
 "nbformat_minor": 5
}