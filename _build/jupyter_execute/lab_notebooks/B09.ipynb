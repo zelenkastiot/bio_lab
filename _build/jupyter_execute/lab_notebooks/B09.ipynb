{
 "cells": [
  {
   "cell_type": "markdown",
   "id": "different-ownership",
   "metadata": {},
   "source": [
    "# 💻 Б9: Мутација на секвенца\n"
   ]
  },
  {
   "cell_type": "markdown",
   "id": "average-kitchen",
   "metadata": {},
   "source": [
    "```{admonition} Опис на барање\n",
    ":class: tip\n",
    "Одберете еден од кодните региони и направете мутација со\n",
    "поместување на рамката за 2 нуклеотиди. Анализирајте ги\n",
    "новите протеински секвенции. Внимавајте, сега има нови\n",
    "старт и стоп кодони.\n",
    "```"
   ]
  },
  {
   "cell_type": "markdown",
   "id": "bright-printer",
   "metadata": {},
   "source": [
    "Бидејќи во претходните две барања работев со кодниот регион <code>\"pim\"</code>, ќе продложам и тука со мутација за поместување на рамката. Мутација е со поместување за 2 нуклеотида десно: "
   ]
  },
  {
   "cell_type": "markdown",
   "id": "protective-grammar",
   "metadata": {},
   "source": [
    " > Модифицирање на рамката на <code>\"pim\"</code><br>43<mark><b>42</b></mark>:47<mark><b>80</b></mark> &#8594; 43<mark><b>44</b></mark>:47<mark><b>82</b></mark>"
   ]
  },
  {
   "cell_type": "code",
   "execution_count": 1,
   "id": "absent-scholarship",
   "metadata": {},
   "outputs": [],
   "source": [
    "from Bio import SeqIO\n",
    "from Bio.Data import CodonTable\n",
    "\n",
    "gene_record = SeqIO.read(\"yersinia-pestis-fasta/NC_005816.gb\", \"genbank\")\n",
    "mito_table = CodonTable.unambiguous_rna_by_id[11]"
   ]
  },
  {
   "cell_type": "code",
   "execution_count": 2,
   "id": "normal-uruguay",
   "metadata": {},
   "outputs": [],
   "source": [
    "sub_record2 = gene_record[4344:4782]"
   ]
  },
  {
   "cell_type": "code",
   "execution_count": 7,
   "id": "hindu-portable",
   "metadata": {},
   "outputs": [
    {
     "name": "stdout",
     "output_type": "stream",
     "text": [
      "Мутирана 'pim' секвенца:\n",
      "GGGAGGGGGAAUGAUCUCAAAGUUAUUUUGCUUGGCUCUCAUAUUUUUAUCAUCAAGUGGCCUUGCAGAAAAAAACACAUAUACAGCAAAAGACAUCUUGCAAAACCUAGAAUUAAAUACCUUUGGCAAUUCAUUGUCUCAUGGCAUCUAUGGGAAACAGACAACCUUCAAGCAAACCGAGUUUACAAAUAUUAAAAGCAACACCAAAAAACACAUUGCACUUAUCAAUAAAGACAACUCAUGGAUGAUAUCAUUAAAAAUACUAGGAAUUAAGAGAGAUGAGUAUACUGUCUGUUUUGAAGAUUUCUCUCUAAUAAGACCGCCAACAUAUGUAGCCAUACAUCCUCUACUUAUAAAAAAAGUAAAAUCUGGAAACUUUAUAGUAGUGAAAGAAAUAAAGAAAUCUAUCCCUGGUUGCACUGUAUAUUAUCAUUAAUA\n",
      "\n",
      "Должина на секвенца: 438\n"
     ]
    }
   ],
   "source": [
    "sub_rna2 = sub_record2.seq.transcribe()\n",
    "print(f\"Мутирана 'pim' секвенца:\\n{sub_rna2}\\n\")\n",
    "print(f\"Должина на секвенца: {len(sub_rna2)}\")"
   ]
  },
  {
   "cell_type": "markdown",
   "id": "lyric-hotel",
   "metadata": {},
   "source": [
    "За најдобро да ја согледаме мутацијата нужно е да ја преведеме оваа *РНА*, т.е.да ги најдеме соодветните старт и стоп региони кои очекуваме да се разликуваат од првобитната верзија на <code>\"pim\"</code> *РНА* и нив да ги преведеме во соодветните амино киселини. "
   ]
  },
  {
   "cell_type": "code",
   "execution_count": 8,
   "id": "absolute-burlington",
   "metadata": {},
   "outputs": [
    {
     "name": "stdout",
     "output_type": "stream",
     "text": [
      "Вкупна должина на CBS: 438\n",
      "GGGAGGGGGAAUGAUCUCAAAGUUAUUUUGCUUGGCUCUCAUAUUUUUAUCAUCAAGUGGCCUUGCAGAAAAAAACACAUAUACAGCAAAAGACAUCUUGCAAAACCUAGAAUUAAAUACCUUUGGCAAUUCAUUGUCUCAUGGCAUCUAUGGGAAACAGACAACCUUCAAGCAAACCGAGUUUACAAAUAUUAAAAGCAACACCAAAAAACACAUUGCACUUAUCAAUAAAGACAACUCAUGGAUGAUAUCAUUAAAAAUACUAGGAAUUAAGAGAGAUGAGUAUACUGUCUGUUUUGAAGAUUUCUCUCUAAUAAGACCGCCAACAUAUGUAGCCAUACAUCCUCUACUUAUAAAAAAAGUAAAAUCUGGAAACUUUAUAGUAGUGAAAGAAAUAAAGAAAUCUAUCCCUGGUUGCACUGUAUAUUAUCAUUAAUA\n",
      "\n",
      "Вкупен број на старт кодони: 64\n",
      "Најден старт кодон со позиција: [(10, 'AUG'), (13, 'AUC'), (24, 'AUU'), (27, 'UUG'), (31, 'UUG'), (40, 'AUA'), (42, 'AUU'), (48, 'AUC'), (51, 'AUC'), (56, 'GUG'), (62, 'UUG'), (78, 'AUA'), (80, 'AUA'), (94, 'AUC'), (97, 'UUG'), (111, 'AUU'), (116, 'AUA'), (122, 'UUG'), (128, 'AUU'), (132, 'AUU'), (133, 'UUG'), (140, 'AUG'), (145, 'AUC'), (149, 'AUG'), (188, 'AUA'), (190, 'AUU'), (214, 'AUU'), (215, 'UUG'), (223, 'AUC'), (227, 'AUA'), (240, 'AUG'), (244, 'AUG'), (247, 'AUA'), (249, 'AUC'), (252, 'AUU'), (259, 'AUA'), (268, 'AUU'), (278, 'AUG'), (284, 'AUA'), (287, 'CUG'), (291, 'CUG'), (296, 'UUG'), (302, 'AUU'), (313, 'AUA'), (327, 'AUA'), (329, 'AUG'), (337, 'AUA'), (341, 'AUC'), (352, 'AUA'), (366, 'AUC'), (368, 'CUG'), (379, 'AUA'), (385, 'GUG'), (394, 'AUA'), (402, 'AUC'), (406, 'AUC'), (410, 'CUG'), (414, 'UUG'), (419, 'CUG'), (423, 'AUA'), (425, 'AUU'), (428, 'AUC'), (431, 'AUU'), (435, 'AUA')]\n",
      "\n",
      "Вкупен број на стоп кодони: 21\n",
      "Најден стоп кодон со позиција: [(11, 'UGA'), (107, 'UAG'), (113, 'UAA'), (192, 'UAA'), (228, 'UAA'), (245, 'UGA'), (254, 'UAA'), (263, 'UAG'), (270, 'UAA'), (279, 'UGA'), (297, 'UGA'), (311, 'UAA'), (314, 'UAA'), (332, 'UAG'), (353, 'UAA'), (362, 'UAA'), (380, 'UAG'), (383, 'UAG'), (386, 'UGA'), (395, 'UAA'), (433, 'UAA')]\n"
     ]
    }
   ],
   "source": [
    "# Листи за позиции на старт и стоп кодони\n",
    "start_codon_positions2 = []\n",
    "stop_codon_positions2 = []\n",
    "# Листи за имињата на најдените кодони\n",
    "start_found2 = []\n",
    "stop_found2 = []\n",
    "# Конверзија во стринг, за полесна работа\n",
    "rna_string2 = str(sub_rna2)\n",
    "\n",
    "\"\"\"\n",
    "Идеја на пребарување: \n",
    "- Започни од 0 и движи се до целата секвенца -2\n",
    "- Земи го моменталниот триплет \n",
    "- Провери дали е во старт кодоните -> Ако е зачувај торка (позиција, триплет)\n",
    "- Ако не, провери дали е во стоп кодоните -> Ако е зачувај торка (позиција, триплет)\n",
    "- Зголеми го бројачот \n",
    "\"\"\"\n",
    "\n",
    "k = 0\n",
    "while k < len(rna_string2)-2:\n",
    "    # extract a three-nucleotide subsequence\n",
    "    current_codon = rna_string2[k:k+3]\n",
    "    if current_codon in mito_table.start_codons:\n",
    "        start_found2.append((k, current_codon))\n",
    "    elif current_codon in mito_table.stop_codons:\n",
    "        stop_found2.append((k, current_codon))\n",
    "    k += 1\n",
    "\n",
    "print(f\"Вкупна должина на CBS: {len(sub_rna2)}\")\n",
    "print(sub_rna2)\n",
    "print()\n",
    "print(f'Вкупен број на старт кодони: {len(start_found2)}')\n",
    "print(f'Најден старт кодон со позиција: {start_found2}')\n",
    "print()\n",
    "print(f'Вкупен број на стоп кодони: {len(stop_found2)}')\n",
    "print(f'Најден стоп кодон со позиција: {stop_found2}')"
   ]
  }
 ],
 "metadata": {
  "kernelspec": {
   "display_name": "Python 3",
   "language": "python",
   "name": "python3"
  },
  "language_info": {
   "codemirror_mode": {
    "name": "ipython",
    "version": 3
   },
   "file_extension": ".py",
   "mimetype": "text/x-python",
   "name": "python",
   "nbconvert_exporter": "python",
   "pygments_lexer": "ipython3",
   "version": "3.7.9"
  }
 },
 "nbformat": 4,
 "nbformat_minor": 5
}