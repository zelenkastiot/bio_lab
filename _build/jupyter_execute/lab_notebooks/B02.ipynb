{
 "cells": [
  {
   "cell_type": "markdown",
   "id": "placed-carolina",
   "metadata": {},
   "source": [
    "# 💻 Б2: Поврзување со биолошки бази"
   ]
  },
  {
   "cell_type": "markdown",
   "id": "bacterial-senate",
   "metadata": {},
   "source": [
    "```{admonition} Опис на барање\n",
    ":class: tip\n",
    "Да се напишат 3 примери за поврзување со различни\n",
    "биолошки бази, како што е опишано во поглавје 2.5 од\n",
    "туторијалот.\n",
    "```\n"
   ]
  },
  {
   "cell_type": "markdown",
   "id": "floating-schema",
   "metadata": {},
   "source": [
    "Од наведените можности за поврзување со различни биолошки бази одлучив да се обидам со: \n",
    "- [**NCBI BLAST web server**](https://blast.ncbi.nlm.nih.gov/Blast.cgi?PROGRAM=blastn&PAGE_TYPE=BlastSearch&LINK_LOC=blasthome)\n",
    "- [**Entrez**](https://www.ncbi.nlm.nih.gov/Web/Search/entrezfs.html)\n",
    "- [**SwissProt**](https://www.uniprot.org/)\n",
    "- [**ExPASy**](https://prosite.expasy.org/)"
   ]
  },
  {
   "cell_type": "markdown",
   "id": "thorough-absorption",
   "metadata": {
    "heading_collapsed": "true",
    "tags": []
   },
   "source": [
    "## <u>1 Пример:</u> Со користење на **NCBI Blast server**"
   ]
  },
  {
   "cell_type": "markdown",
   "id": "corresponding-virginia",
   "metadata": {},
   "source": [
    "Пример сме изолирале некое парче од ДНА во лабораторија и сме ја добиле соодветната секвенца. Потоа сакаме да видиме на каков организам припаѓа таа ДНА. Доколку прашаме некој биолог ќе ни речe: \"BLAST it\" ~ што е слично на \"Google it\" во овој свет на биоинформатика. \n",
    "\n",
    "**BLAST** е алгритам за совпаѓање (aligment) што ја пребарува секвенцата што ја имаме од интерес во енормна база од податоци за вакви секвенци чии корени се познати. Доколку не користиме BioPython можеме да земеме едноставна секвенца да одиме на [NCBI BLAST web server](https://blast.ncbi.nlm.nih.gov/Blast.cgi?PROGRAM=blastn&PAGE_TYPE=BlastSearch&LINK_LOC=blasthome) и со неколку кликови да добиеме дека пример таа припаѓа на црв или мајмун. Но, со помош на BioPython ова може да го правиме со неколку линии код. \n",
    " \n",
    "\n",
    "Qblast методот од <code>Bio.Blast.NCBIWWW</code> есенцијално ја праќа секвенцата која ја даваме како влез до овој BLAST веб сервер. Во примерот кој ќе го користам за демонстрирање го користам \"nucleotice BLAST\" алгоритамот така што може да речеме дека користиме дата база од сите вакви нуклеотидни секвенци кои се викаат <code>nt</code>:"
   ]
  },
  {
   "cell_type": "code",
   "execution_count": 1,
   "id": "surface-portugal",
   "metadata": {},
   "outputs": [],
   "source": [
    "from Bio.Blast import NCBIWWW\n",
    "from Bio.Seq import Seq\n",
    "\n",
    "result_handle = NCBIWWW.qblast(\"blastn\", \"nt\", Seq(\"AAAAGGAGAGAGAGTTTATA\"))"
   ]
  },
  {
   "cell_type": "markdown",
   "id": "worse-observation",
   "metadata": {},
   "source": [
    "Чекаме неколку секунди и добиваме резултат во <code>result_handle</code>, што е еден вид на привремен објект од кој ќе читаме. Форматот на овој фајл е <u><code>XML</code></u> така што не е лесно да се чита, но благодарение на BioPython кој има XML parser може лесно да се екстрахира оваа информација:"
   ]
  },
  {
   "cell_type": "code",
   "execution_count": 3,
   "id": "underlying-singer",
   "metadata": {},
   "outputs": [],
   "source": [
    "from Bio.Blast import NCBIXML\n",
    "\n",
    "blast_records = NCBIXML.parse(result_handle)"
   ]
  },
  {
   "cell_type": "markdown",
   "id": "undefined-gamma",
   "metadata": {},
   "source": [
    "Значи добиваме еден вид на итератор од BLAST објекти или \"резултати од пребарување\". Можеме да ги итрерираме сите во циклус и да принтаме одредени информации. \n",
    "\n",
    "Следната ќелија код е итерирање низ сите резултати, и секаде каде има некакви совпаѓања со секвенци од организми во дата базата во која пребарувавме тие се печтатат: "
   ]
  },
  {
   "cell_type": "code",
   "execution_count": 4,
   "id": "lyric-treat",
   "metadata": {},
   "outputs": [
    {
     "name": "stdout",
     "output_type": "stream",
     "text": [
      "----Alignment----\n",
      "sequence: gi|1676320234|emb|LR594564.1| Streptopelia turtur genome assembly, chromosome: 13\n",
      "length: 20810306\n",
      "e value: 7.09013\n",
      "AAAAGGAGAGAGAGTTTATA...\n",
      "||||||||||||||||||||...\n",
      "AAAAGGAGAGAGAGTTTATA...\n",
      "----Alignment----\n",
      "sequence: gi|1395234831|gb|CP026251.1| Scophthalmus maximus chromosome 9\n",
      "length: 25242470\n",
      "e value: 7.09013\n",
      "AAAAGGAGAGAGAGTTTATA...\n",
      "||||||||||||||||||||...\n",
      "AAAAGGAGAGAGAGTTTATA...\n",
      "----Alignment----\n",
      "sequence: gi|1964820264|emb|OC916336.1| Oppiella nova\n",
      "length: 16143\n",
      "e value: 7.09013\n",
      "AAAAGGAGAGAGAGTTTATA...\n",
      "||||||||||||||||||||...\n",
      "AAAAGGAGAGAGAGTTTATA...\n"
     ]
    }
   ],
   "source": [
    "for b in blast_records:\n",
    "    for alignment in b.alignments:\n",
    "        for hsp in alignment.hsps:\n",
    "            print('----Alignment----')\n",
    "            print('sequence:', alignment.title)\n",
    "            print('length:', alignment.length)\n",
    "            print('e value:', hsp.expect)\n",
    "            print(hsp.query[0:75] + '...')\n",
    "            print(hsp.match[0:75] + '...')\n",
    "            print(hsp.sbjct[0:75] + '...')"
   ]
  },
  {
   "cell_type": "markdown",
   "id": "satisfactory-turning",
   "metadata": {
    "heading_collapsed": "true",
    "tags": []
   },
   "source": [
    "## <u> 2 Пример:</u> Со користење на **Entrez** "
   ]
  },
  {
   "cell_type": "code",
   "execution_count": 9,
   "id": "subject-matter",
   "metadata": {},
   "outputs": [],
   "source": [
    "from Bio import Entrez\n",
    "from Bio import SeqIO\n",
    "\n",
    "Entrez.email = \"zelenkastiot@gmail.com\"  \n",
    "handle = Entrez.efetch(db=\"nucleotide\", id=\"EU490707\", rettype=\"gb\", retmode=\"text\")\n",
    "record = SeqIO.read(handle, \"genbank\")"
   ]
  },
  {
   "cell_type": "code",
   "execution_count": 11,
   "id": "dietary-solid",
   "metadata": {},
   "outputs": [
    {
     "name": "stdout",
     "output_type": "stream",
     "text": [
      "EU490707.1\n",
      "Selenipedium aequinoctiale maturase K (matK) gene, partial cds; chloroplast\n",
      "3\n"
     ]
    }
   ],
   "source": [
    "print(record.id)\n",
    "print(record.description)\n",
    "print(len(record.features))"
   ]
  },
  {
   "cell_type": "code",
   "execution_count": 16,
   "id": "vulnerable-template",
   "metadata": {},
   "outputs": [
    {
     "name": "stdout",
     "output_type": "stream",
     "text": [
      "Првите 20 бази: ATTTTTTACGAACCTGTGGA\n"
     ]
    }
   ],
   "source": [
    "print(f'Првите 20 бази: {record.seq[0:20]}')"
   ]
  },
  {
   "cell_type": "markdown",
   "id": "under-appliance",
   "metadata": {
    "heading_collapsed": "true",
    "tags": []
   },
   "source": [
    "## <u> 3 Пример:</u> Со користење на **SwissProt** "
   ]
  },
  {
   "cell_type": "code",
   "execution_count": 17,
   "id": "fitting-customs",
   "metadata": {},
   "outputs": [],
   "source": [
    "from Bio import SwissProt\n",
    "from urllib.request import urlopen\n",
    "url = \"https://raw.githubusercontent.com/biopython/biopython/master/Tests/SwissProt/F2CXE6.txt\"\n",
    "handle = urlopen(url)\n",
    "record = SwissProt.read(handle)"
   ]
  },
  {
   "cell_type": "code",
   "execution_count": 18,
   "id": "monetary-lafayette",
   "metadata": {},
   "outputs": [
    {
     "name": "stdout",
     "output_type": "stream",
     "text": [
      "SubName: Full=Plasma membrane intrinsic protein {ECO:0000313|EMBL:BAN04711.1}; SubName: Full=Predicted protein {ECO:0000313|EMBL:BAJ87517.1};\n"
     ]
    }
   ],
   "source": [
    "print(record.description)"
   ]
  },
  {
   "cell_type": "code",
   "execution_count": 19,
   "id": "neutral-channels",
   "metadata": {},
   "outputs": [
    {
     "name": "stdout",
     "output_type": "stream",
     "text": [
      "MTMAAAQGKLSPDAIDNEVISNGSAKDYLDPPPAPLVDAGELGKWSLYRAVIAEFTATLLFVYVAVATVVGHKRQTDAQACSGAGVLGIAWAFGGTIAVLVYCTAGISGGHINPAVTFGLLLARKVSLPRAFLYMVAQCVGAICGAALVRAVHGGHHYALYGGGANELAPGYSRMAGLIAEIAGTFVLVYTVFSATDPKRIARDPHVPVLAPLLIGFSVLMAHLATIPVTGTGINPARSFGAAVVYNNKKAWGDQWIFWVGPFIGSAVAMVYHQYVLRNSAIFRSNYDAAV\n"
     ]
    }
   ],
   "source": [
    "print(record.sequence)"
   ]
  },
  {
   "cell_type": "markdown",
   "id": "alike-internet",
   "metadata": {
    "heading_collapsed": "true",
    "tags": []
   },
   "source": [
    "## <u>4 Пример:</u> Со користење на **ExPASy**"
   ]
  },
  {
   "cell_type": "code",
   "execution_count": 22,
   "id": "standing-costa",
   "metadata": {
    "scrolled": true,
    "tags": [
     "output_scroll"
    ]
   },
   "outputs": [
    {
     "data": {
      "text/html": [
       "<!DOCTYPE HTML PUBLIC \"-//W3C//DTD HTML 4.01 Transitional//EN\" \"http://www.w3.org/TR/html4/loose.dtd\">\n",
       "<html lang=\"en-US\" prefix=\"bioschema: https://bioschemas.org/\">\n",
       "  <head>\n",
       "    <meta http-equiv=\"Content-Type\" content=\"text/html;charset=iso-8859-1\"><!-- automatically added by Apache -->\n",
       "<script type=\"application/ld+json\">{\n",
       "\t\t\"@context\" : [ \"https://schema.org/\" ],\n",
       "\t\t\"@type\" : \"Organization\",\n",
       "\t\t\"url\" : \"https://prosite.expasy.org\",\n",
       "  \t\t\"name\": \"PROSITE\"\n",
       "\t\t, \"logo\": \"https://prosite.expasy.org//images/prosite/prosite.gif\"\n",
       "\t\t, \"memberof\" : {\n",
       "\t\t\t\t\"@type\" : \"NGO\",\n",
       "\t\t\t\t\"name\"  : \"SIB Swiss Institute of Bioinformatics\",\n",
       "\t\t\t\t\"url\"   : \"https://sib.swiss/\"\n",
       "\t\t\t        }\n",
       "\t\t, \"parentOrganization\" : \n",
       "\t\t\t\t{\n",
       "\t\t\t\t\"@type\" : \"Organization\",\n",
       "                                \"name\"  : \"ExPASy\",\n",
       "                                \"url\"   : \"https://www.expasy.org/\"\n",
       "\t\t\t\t}\n",
       "\t\t}</script><!-- automatically added by Apache -->\n",
       "    <link rel=\"icon\" href=\"https://web.expasy.org/favicon.ico\" ><!-- automatically added by Apache -->\n",
       "\n",
       "\t<link rel=\"stylesheet\" href=\"/css/sib_css/sib.css\" type=\"text/css\" media=\"screen\" charset=\"utf-8\">\n",
       "\t<link rel=\"stylesheet\" href=\"/css/sib_css/sib_print.css\" type=\"text/css\" media=\"print\" charset=\"utf-8\">\n",
       "\t<!--[if lte IE 6]>\n",
       "\t\t<link rel=\"stylesheet\" href=\"/css/sib_css/sib_ie6.css\" type=\"text/css\" media=\"screen\" title=\"\" charset=\"utf-8\">\n",
       "\t<![endif]-->\n",
       "    <!-- automatically added by Apache -->\n",
       "\n",
       "\t<style type=\"text/css\">\n",
       "\t\t.bg-neutral-100 {\n",
       "\t\t\t--bg-opacity: 1;\n",
       "\t\t\t/* not the same as expasy-global.css anymore */\n",
       "\t\t\tbackground-color: #e1e1e1;\n",
       "\t\t\tbackground-color: rgba(225, 225, 225, var);\n",
       "\t\t}\n",
       "\t\t.container {\n",
       "\t\t\tfont-family: Helvetica; /* not in expasy-global.css, same as sib_body */\n",
       "\t\t\tmargin-left: auto;\n",
       "\t\t\tmargin-right: auto;\n",
       "\t\t\tpadding-left: 1rem;\n",
       "\t\t\tpadding-right: 1rem;\n",
       "\t\t\tmax-width: 1440px;\n",
       "\t\t}\n",
       "\t\t.flex {\n",
       "\t\t\tdisplay: -webkit-box;\n",
       "\t\t\tdisplay: -ms-flexbox;\n",
       "\t\t\tdisplay: flex;\n",
       "\t\t}\n",
       "\t\t.flex-1 {\n",
       "\t\t\t-webkit-box-flex: 1;\n",
       "\t\t\t-ms-flex: 1 1 0%;\n",
       "\t\t\tflex: 1 1 0%;\n",
       "\t\t}\n",
       "\t\t.icon {\n",
       "\t\t\tdisplay: inline-block;\n",
       "\t\t\tvertical-align: middle;\n",
       "\t\t\tpointer-events: none;\n",
       "\t\t\tfill: currentColor;\n",
       "\t\t\twill-change: transform;\n",
       "\t\t}\n",
       "\t\t.icon--sib-mark {\n",
       "\t\t\twidth: 36px;\n",
       "\t\t\theight: 27px;\n",
       "\t\t}\n",
       "\t\t.inline-block {\n",
       "\t\t\tdisplay: inline-block;\n",
       "\t\t}\n",
       "\t\t.max-w-sm {\n",
       "\t\t\tmax-width: 24rem;\n",
       "\t\t}\n",
       "\t\t.mb-2 {\n",
       "\t\t\tmargin-bottom: 0.5rem;\n",
       "\t\t}\n",
       "\t\t.mb-8 {\n",
       "\t\t\tmargin-bottom: 2rem;\n",
       "\t\t}\n",
       "\t\t.nav__link {\n",
       "\t\t\tpadding-top: 1rem;\n",
       "\t\t\tpadding-bottom: 1rem;\n",
       "\t\t\tdisplay: inline-block;\n",
       "\t\t\tfont-family: Source Sans pro, Arial, sans-serif;\n",
       "\t\t\t--text-opacity: 1;\n",
       "\t\t\tcolor: #313233;\n",
       "\t\t\tcolor: rgba(49, 50, 51, var);\n",
       "\t\t\ttext-decoration: none;\n",
       "\t\t\t-webkit-transition: background 0.1s ease-in-out;\n",
       "\t\t\ttransition: background 0.1s ease-in-out;\n",
       "\t\t}\n",
       "\t\t/* Not in expasy-styling/css/ */\n",
       "\t\t.pb-4 {\n",
       "\t\t\tpadding-bottom: 1rem;\n",
       "\t\t}\n",
       "\t\t.pb-8 {\n",
       "\t\t\tpadding-bottom: 2rem;\n",
       "\t\t}\n",
       "\t\t.pt-4 {\n",
       "\t \t\tpadding-top: 1rem;\n",
       "\t\t}\n",
       "\t\t.pt-6 {\n",
       "\t \t\tpadding-top: 1.5rem;\n",
       "\t\t}\n",
       "\t\t.pt-8 {\n",
       "\t\t\tpadding-top: 2rem;\n",
       "\t\t}\n",
       "\t\t.text-neutral-700 {\n",
       "\t\t\t--text-opacity: 1;\n",
       "\t\t\t/* not the same as expasy-global.css anymore */\n",
       "\t\t\tcolor: #313233;\n",
       "\t\t\tcolor: rgba(49, 50, 51, var);\n",
       "\t\t}\n",
       "\t\t.text-sm {\n",
       "\t\t\tfont-size: 0.875rem;\n",
       "\t\t}\n",
       "\t\t@media (min-width: 480px) {\n",
       "\t\t\t.sm\\:items-center {\n",
       "\t\t\t\t-webkit-box-align: center;\n",
       "\t\t\t\t-ms-flex-align: center;\n",
       "\t\t\t\talign-items: center;\n",
       "\t\t\t}\n",
       "\t\t\t.sm\\:mt-12 {\n",
       "\t\t\t\tmargin-top: 3rem;\n",
       "\t\t\t}\n",
       "\t\t\t.sm\\:w-1\\/2 {\n",
       "\t\t\t\twidth: 50%;\n",
       "\t\t\t}\n",
       "\t\t}\n",
       "\t\t@media (min-width: 480px) {\n",
       "\t\t\t.container {\n",
       "\t\t\t\tpadding-left: 1.5rem;\n",
       "\t\t\t\tpadding-right: 1.5rem;\n",
       "\t\t\t}\n",
       "\t\t}\n",
       "\t\t@media (max-width: 767px) {\n",
       "\t\t\t.max-sm\\:hidden {\n",
       "\t\t\t\tdisplay: none;\n",
       "\t\t\t}\n",
       "\t\t\t.max-sm\\:flex-col {\n",
       "\t\t\t\t-webkit-box-orient: vertical;\n",
       "\t\t\t\t-webkit-box-direction: normal;\n",
       "\t\t\t\t-ms-flex-direction: column;\n",
       "\t\t\t\tflex-direction: column;\n",
       "\t\t\t}\n",
       "\t\t\t.max-sm\\:text-center {\n",
       "\t\t\t\ttext-align: center;\n",
       "\t\t\t}\n",
       "\t\t\t.max-sm\\:w-full {\n",
       "\t\t\t\twidth: 100%;\n",
       "\t\t\t}\n",
       "\t\t}\n",
       "\t\t@media (max-width: 767px) {\n",
       "\t\t\t.nav {\n",
       "\t\t\t\twidth: 100%;\n",
       "\t\t\t\tdisplay: -webkit-box;\n",
       "\t\t\t\tdisplay: -ms-flexbox;\n",
       "\t\t\t\tdisplay: flex;\n",
       "\t\t\t\t-webkit-box-pack: justify;\n",
       "\t\t\t\t-ms-flex-pack: justify;\n",
       "\t\t\t\tjustify-content: space-between;\n",
       "\t\t\t}\n",
       "\t\t}\n",
       "\t\t@media (min-width: 768px) {\n",
       "\t\t\t.md\\:inline-block {\n",
       "\t\t\t\tdisplay: inline-block;\n",
       "\t\t\t}\n",
       "\t\t\t.md\\:flex {\n",
       "\t\t\t\tdisplay: -webkit-box;\n",
       "\t\t\t\tdisplay: -ms-flexbox;\n",
       "\t\t\t\tdisplay: flex;\n",
       "\t\t\t}\n",
       "\t\t\t.md\\:hidden {\n",
       "\t\t\t\tdisplay: none;\n",
       "\t\t\t}\n",
       "\t\t\t.md\\:items-center {\n",
       "\t\t\t\t-webkit-box-align: center;\n",
       "\t\t\t\t-ms-flex-align: center;\n",
       "\t\t\t\talign-items: center;\n",
       "\t\t\t}\n",
       "\t\t\t.md\\:flex-1 {\n",
       "\t\t\t\t-webkit-box-flex: 1;\n",
       "\t\t\t\t-ms-flex: 1 1 0%;\n",
       "\t\t\t\tflex: 1 1 0%;\n",
       "\t\t\t}\n",
       "\t\t\t.md\\:mb-0 {\n",
       "\t\t\t\tmargin-bottom: 0;\n",
       "\t\t\t}\n",
       "\t\t\t.md\\:mr-2 {\n",
       "\t\t\t\tmargin-right: 0.5rem;\n",
       "\t\t\t}\n",
       "\t\t\t.md\\:max-w-3xl {\n",
       "\t\t\t\tmax-width: 48rem;\n",
       "\t\t\t}\n",
       "\t\t\t.md\\:pr-12 {\n",
       "\t\t\t\tpadding-right: 3rem;\n",
       "\t\t\t}\n",
       "\t\t\t.md\\:w-1\\/2 {\n",
       "\t\t\t\twidth: 50%;\n",
       "\t\t\t}\n",
       "\t\t\t.md\\:w-1\\/3 {\n",
       "\t\t\t\twidth: 33.333333%;\n",
       "\t\t\t}\n",
       "\t\t\t.md\\:w-2\\/3 {\n",
       "\t\t\t\twidth: 66.666667%;\n",
       "\t\t\t}\n",
       "\t\t}\n",
       "\t\t@media (min-width: 768px) {\n",
       "\t\t\t.nav__link {\n",
       "\t\t\t\tpadding: 1.5rem 1rem 0.75rem;\n",
       "\t\t\t}\n",
       "\t\t\t.nav__link.nuxt-link-exact-active, .nav__link:focus, .nav__link:hover {\n",
       "\t\t\t\t--text-opacity: 1;\n",
       "\t\t\t\tcolor: #313233;\n",
       "\t\t\t\tcolor: rgba(49, 50, 51, var);\n",
       "\t\t\t\t--bg-opacity: 1;\n",
       "\t\t\t\tbackground-color: #e1e1e1;\n",
       "\t\t\t\tbackground-color: rgba(225, 225, 225, var);\n",
       "\t\t\t}\n",
       "\t\t}\n",
       "\t\t@media (min-width: 768px) {\n",
       "\t\t\t.container {\n",
       "\t\t\t\tpadding-left: 2rem;\n",
       "\t\t\t\tpadding-right: 2rem;\n",
       "\t\t\t}\n",
       "\t\t}\n",
       "    </style><!-- automatically added by Apache -->\n",
       "<link rel=\"stylesheet\" href=\"/css/unirule.css\" type=\"text/css\">\n",
       "\t<title>PROSITE: PS51092</title>\n",
       "  </head>\n",
       "  <body  typeof=\"schema:WebPage\"> \n",
       "<div id=\"sib_top\"><a name=\"top\"></a></div>\n",
       "<!-- start of sib_container -->\n",
       "<div id=\"sib_container\">\n",
       "\t<!-- start of sib_header_small -->\n",
       "\t<div id=\"sib_header_small\">\n",
       "\t\t<div id=\"sib_expasy_logo\" property=\"schema:isPartOf\" typeof=\"schema:CreativeWork\" >\n",
       "\t\t\t<a property=\"schema:url\" href=\"https://www.expasy.org\" id=\"expasy_link\" title=\"Expasy - SIB Bioinformatics Resource Portal\"></a>\n",
       "\t\t</div>\n",
       "\t\t<div class=\"sib_title_no_logo\">\n",
       "\t\t\t<h1><a href=\"https://prosite.expasy.org\">PROSITE</a></h1>\n",
       "\t\t</div>\n",
       "\t\t<div id=\"resource_header\"></div>\n",
       "\t\t<div id=\"sib_header_nav\">\n",
       "\t\t\t<a property=\"\" href=\"https://prosite.expasy.org\" title=\"Home page\">Home</a>\n",
       "\t\t\t&nbsp;|&nbsp;\n",
       "\t\t\t<a style=\"font-weight: bold; color: rgb(204,0,0) !important;\" href=\"/contact\" title=\"Contact\">Contact</a>\n",
       "\t\t</div>\n",
       "\t</div>\n",
       "\t<!-- end of sib_header_small, start of sib_body -->\n",
       "\t<div id=\"sib_body\">\n",
       "<!-- automatically added by Apache -->\n",
       "<h1>PROSITE: PS51092</h1>\n",
       "<pre>ID   FN2_2; MATRIX.\n",
       "AC   PS51092;\n",
       "DT   01-MAR-2005 CREATED; 01-OCT-2013 DATA UPDATE; 10-FEB-2021 INFO UPDATE.\n",
       "DE   Fibronectin type-II collagen-binding domain profile.\n",
       "MA   /GENERAL_SPEC: ALPHABET='ABCDEFGHIKLMNPQRSTVWYZ'; LENGTH=49;\n",
       "MA   /DISJOINT: DEFINITION=PROTECT; N1=5; N2=45;\n",
       "MA   /NORMALIZATION: MODE=1; FUNCTION=LINEAR; R1=2.2742712; R2=0.0110785; TEXT='NScore';\n",
       "MA   /CUT_OFF: LEVEL=0; SCORE=788; N_SCORE=11.0; MODE=1; TEXT='R';\n",
       "MA   /CUT_OFF: LEVEL=-1; SCORE=562; N_SCORE=8.5; MODE=1; TEXT='R?';\n",
       "MA   /DEFAULT: M0=-9; D=-20; I=-20; B1=-200; E1=-200; MI=-105; MD=-105; IM=-105; DM=-105;\n",
       "MA   /I: B1=0; BI=-105; BD=-105;\n",
       "MA   /M: SY='S'; M=8,-2,-17,-2,3,-19,-7,-13,-15,-7,-18,-14,-1,-9,-3,-12,14,6,-8,-30,-17,0;\n",
       "MA   /M: SY='D'; M=-8,12,-25,15,10,-20,-11,1,-23,-3,-19,-14,8,-9,2,-7,1,-4,-21,-28,-11,5;\n",
       "MA   /M: SY='G'; M=-5,-3,-29,-1,-11,-26,42,-10,-35,-12,-27,-18,1,-18,-13,-13,-1,-16,-27,-19,-17,-13;\n",
       "MA   /M: SY='E'; M=-1,6,-27,9,18,-28,-11,-6,-25,9,-22,-15,2,0,7,2,-1,-8,-22,-27,-18,12;\n",
       "MA   /M: SY='P'; M=-6,-14,-31,-10,0,-22,-15,-15,-18,-1,-19,-12,-13,35,-6,-6,-7,-7,-21,-25,-19,-6;\n",
       "MA   /M: SY='C'; M=-10,-20,120,-30,-30,-20,-30,-30,-30,-30,-20,-20,-20,-40,-30,-30,-10,-10,-10,-50,-30,-30;\n",
       "MA   /M: SY='V'; M=-3,-17,-20,-18,-12,-10,-25,-4,6,-6,-3,3,-14,-21,-11,-8,-9,-6,14,-26,-5,-13;\n",
       "MA   /M: SY='F'; M=-19,-30,-20,-39,-29,74,-30,-20,3,-30,12,2,-21,-30,-38,-20,-21,-10,1,8,28,-29;\n",
       "MA   /M: SY='P'; M=-10,-20,-40,-10,0,-30,-20,-20,-20,-10,-30,-20,-20,90,-10,-20,-10,-10,-30,-30,-30,-10;\n",
       "MA   /M: SY='F'; M=-18,-28,-20,-37,-28,73,-28,-19,-1,-29,7,-1,-18,-29,-37,-19,-16,-8,-1,7,28,-28;\n",
       "MA   /M: SY='I'; M=-4,-14,-21,-19,-12,-10,-25,-18,8,-7,2,4,-10,-18,-7,-8,-7,3,8,-24,-7,-11;\n",
       "MA   /M: SY='Y'; M=-19,-25,-26,-29,-25,47,-31,1,4,-20,5,2,-20,-29,-23,-15,-20,-10,-2,17,52,-25;\n",
       "MA   /M: SY='R'; M=-12,3,-27,2,5,-23,-9,2,-23,10,-17,-8,6,-16,10,14,-5,-10,-22,-24,-10,6;\n",
       "MA   /M: SY='G'; M=-2,0,-28,-3,-12,-28,46,-13,-34,-12,-28,-19,10,-19,-12,-10,2,-15,-28,-24,-26,-12;\n",
       "MA   /M: SY='R'; M=-11,1,-26,-1,6,-21,-19,2,-22,17,-21,-9,4,-14,9,19,-3,-4,-18,-24,-7,6;\n",
       "MA   /M: SY='T'; M=-4,-6,-22,-9,-2,-14,-16,-13,-12,-4,-13,-9,-3,-15,-2,-5,3,4,-10,-10,-8,-1;\n",
       "MA   /M: SY='Y'; M=-19,-18,-29,-19,-18,24,-29,25,-2,-13,-1,1,-16,-28,-10,-10,-18,-11,-9,16,62,-18;\n",
       "MA   /M: SY='H'; M=-12,2,-24,2,-2,-1,-17,15,-18,-8,-15,-10,3,-18,-3,-6,0,-3,-17,-17,11,-3;\n",
       "MA   /M: SY='D'; M=-3,13,-21,18,10,-27,-3,-7,-26,-1,-25,-19,9,-10,1,-6,14,4,-19,-34,-19,5;\n",
       "MA   /M: SY='C'; M=-10,-20,118,-30,-30,-20,-30,-30,-30,-29,-20,-20,-20,-40,-30,-29,-10,-10,-10,-50,-30,-30;\n",
       "MA   /M: SY='T'; M=-3,-11,-16,-20,-17,-6,-26,-22,9,-16,1,1,-8,-14,-13,-16,6,29,10,-27,-7,-16;\n",
       "MA   /M: SY='T'; M=-4,-5,-19,-6,0,-14,-18,-4,-14,-2,-12,-8,-2,-14,-1,2,7,11,-7,-28,-9,-1;\n",
       "MA   /M: SY='E'; M=-9,11,-26,17,25,-28,-13,1,-27,4,-21,-17,4,-8,9,-2,3,-3,-23,-30,-15,16;\n",
       "MA   /M: SY='G'; M=-5,0,-29,1,-6,-29,44,-11,-37,-12,-28,-20,6,-17,-11,-11,0,-16,-30,-24,-25,-9;\n",
       "MA   /M: SY='R'; M=-8,0,-23,1,3,-23,-12,-3,-27,12,-25,-15,5,-15,8,29,9,1,-18,-29,-14,4;\n",
       "MA   /I: I=-6; MD=-29;\n",
       "MA   /M: SY='E'; M=-5,2,-15,2,4,-9,-8,0,-15,-2,-13,-9,3,-6,1,-1,3,0,-12,-17,-7,2; D=-6;\n",
       "MA   /I: I=-6; MD=-29;\n",
       "MA   /M: SY='D'; M=-9,18,-17,26,6,-16,-3,-3,-19,-4,-13,-14,7,-8,-3,-7,0,-5,-15,-20,-10,2; D=-6;\n",
       "MA   /I: I=-6; MI=-29; IM=-29; DM=-29;\n",
       "MA   /M: SY='G'; M=-3,-8,-25,-11,-15,-14,23,-13,-21,-15,-15,-12,1,-17,-16,-14,-3,-11,-17,-21,-17,-16;\n",
       "MA   /I: I=-6; MD=-32;\n",
       "MA   /M: SY='Y'; M=-13,-13,-26,-15,-8,0,-21,1,-11,3,-7,-1,-10,-20,-2,6,-12,-9,-12,-1,13,-6; D=-6;\n",
       "MA   /I: I=-6; MI=-32; IM=-32; DM=-32;\n",
       "MA   /M: SY='L'; M=-11,-22,-28,-19,-10,-8,-25,-13,-3,-10,10,3,-20,5,-10,-3,-19,-10,-8,-22,-8,-12;\n",
       "MA   /M: SY='W'; M=-19,-36,-48,-35,-23,7,-20,-28,-21,-18,-20,-20,-37,-28,-17,-18,-37,-28,-30,136,26,-15;\n",
       "MA   /M: SY='C'; M=-10,-20,120,-30,-30,-20,-30,-30,-30,-30,-20,-20,-20,-40,-30,-30,-10,-10,-10,-50,-30,-30;\n",
       "MA   /M: SY='A'; M=27,-7,-13,-11,-6,-21,3,-16,-16,-11,-20,-15,-2,-5,-7,-16,20,6,-8,-28,-21,-7;\n",
       "MA   /M: SY='T'; M=-2,-8,-12,-16,-14,-6,-23,-21,0,-14,1,-3,-8,-15,-14,-13,9,34,8,-28,-8,-14;\n",
       "MA   /M: SY='T'; M=-3,1,-13,-6,-8,-12,-20,-18,-11,-8,-11,-10,1,-11,-8,-6,16,40,-2,-30,-10,-9;\n",
       "MA   /M: SY='A'; M=7,-4,-20,-4,4,-18,-10,-8,-16,-7,-15,-12,-5,-3,-1,-11,7,2,-13,-24,-10,0;\n",
       "MA   /M: SY='N'; M=-10,28,-22,25,4,-23,-8,1,-22,-1,-25,-19,29,-16,-2,-3,7,-1,-20,-36,-16,1;\n",
       "MA   /M: SY='Y'; M=-19,-23,-28,-26,-23,40,-29,7,1,-15,3,3,-21,-29,-17,-13,-21,-11,-7,26,61,-22;\n",
       "MA   /M: SY='D'; M=-14,32,-27,44,19,-33,-9,-1,-32,0,-26,-22,15,-10,4,-7,3,-7,-25,-36,-19,12;\n",
       "MA   /M: SY='R'; M=-8,-2,-27,-2,6,-23,-1,-6,-25,9,-21,-11,1,-14,5,10,-2,-7,-21,-22,-12,4;\n",
       "MA   /I: I=-6; MD=-29;\n",
       "MA   /M: SY='D'; M=-15,37,-23,49,15,-30,-8,0,-30,2,-24,-22,17,-8,1,-6,0,-7,-23,-31,-15,8; D=-6;\n",
       "MA   /I: I=-6; MI=-29; MD=-29; IM=-29; DM=-29;\n",
       "MA   /M: SY='Q'; M=-7,-2,-24,-2,6,-24,1,-1,-23,10,-19,-8,0,-11,14,9,-3,-10,-20,-16,-10,9; D=-6;\n",
       "MA   /I: I=-6; DM=-29;\n",
       "MA   /M: SY='K'; M=-9,-2,-27,-2,8,-27,-17,-6,-25,28,-22,-8,0,-13,15,24,-5,-7,-20,-22,-11,11;\n",
       "MA   /M: SY='W'; M=-20,-34,-42,-34,-27,21,-24,-15,-13,-18,-12,-13,-33,-30,-19,-17,-33,-23,-22,106,44,-21;\n",
       "MA   /M: SY='G'; M=0,-6,-26,-6,-8,-28,31,-15,-33,1,-29,-17,1,-16,-8,-2,4,-10,-23,-23,-22,-8;\n",
       "MA   /M: SY='F'; M=-19,-25,-24,-31,-23,53,-30,-7,2,-22,7,1,-19,-28,-26,-16,-19,-10,-3,12,41,-23;\n",
       "MA   /M: SY='C'; M=-10,-20,120,-30,-30,-20,-30,-30,-30,-30,-20,-20,-20,-40,-30,-30,-10,-10,-10,-50,-30,-30;\n",
       "MA   /M: SY='P'; M=-2,-14,-27,-12,-1,-19,-19,-16,-12,-7,-11,-8,-14,26,-6,-9,-6,-1,-13,-26,-18,-6;\n",
       "MA   /M: SY='D'; M=-5,7,-21,9,9,-20,-15,-1,-17,-5,-15,-11,3,-11,3,-8,3,-1,-15,-28,-10,5;\n",
       "MA   /I: E1=0; IE=-105; DE=-105;\n",
       "NR   /RELEASE=2021_01,564277;\n",
       "NR   /TOTAL=112(62); /POSITIVE=112(62); /UNKNOWN=0(0); /FALSE_POS=0(0);\n",
       "NR   /FALSE_NEG=0; /PARTIAL=1;\n",
       "CC   /MATRIX_TYPE=protein_domain;\n",
       "CC   /SCALING_DB=window20;\n",
       "CC   /AUTHOR=N_Hulo;\n",
       "CC   /TAXO-RANGE=??E??; /MAX-REPEAT=4;\n",
       "CC   /FT_KEY=DOMAIN; /FT_DESC=Fibronectin type-II;\n",
       "CC   /VERSION=4;\n",
       "DR   <a href=\"https://www.uniprot.org/uniprot/Q075Z2   \">Q075Z2   </a>, BSPH1_HUMAN, T; <a href=\"https://www.uniprot.org/uniprot/Q3UW26    \">Q3UW26    </a>, BSPH1_MOUSE, T; <br/>DR   <a href=\"https://www.uniprot.org/uniprot/Q0Q236   \">Q0Q236   </a>, BSPH2_MOUSE, T; <a href=\"https://www.uniprot.org/uniprot/Q9GL25    \">Q9GL25    </a>, ESPB1_CANLF, T; <br/>DR   <a href=\"https://www.uniprot.org/uniprot/Q96BH3   \">Q96BH3   </a>, ESPB1_HUMAN, T; <a href=\"https://www.uniprot.org/uniprot/Q7YR83    \">Q7YR83    </a>, ESPB1_PIG  , T; <br/>DR   <a href=\"https://www.uniprot.org/uniprot/P98140   \">P98140   </a>, FA12_BOVIN , T; <a href=\"https://www.uniprot.org/uniprot/Q04962    \">Q04962    </a>, FA12_CAVPO , T; <br/>DR   <a href=\"https://www.uniprot.org/uniprot/P00748   \">P00748   </a>, FA12_HUMAN , T; <a href=\"https://www.uniprot.org/uniprot/Q80YC5    \">Q80YC5    </a>, FA12_MOUSE , T; <br/>DR   <a href=\"https://www.uniprot.org/uniprot/O97507   \">O97507   </a>, FA12_PIG   , T; <a href=\"https://www.uniprot.org/uniprot/D3ZTE0    \">D3ZTE0    </a>, FA12_RAT   , T; <br/>DR   <a href=\"https://www.uniprot.org/uniprot/P07589   \">P07589   </a>, FINC_BOVIN , T; <a href=\"https://www.uniprot.org/uniprot/Q28275    \">Q28275    </a>, FINC_CANLF , T; <br/>DR   <a href=\"https://www.uniprot.org/uniprot/P11722   \">P11722   </a>, FINC_CHICK , T; <a href=\"https://www.uniprot.org/uniprot/Q28377    \">Q28377    </a>, FINC_HORSE , T; <br/>DR   <a href=\"https://www.uniprot.org/uniprot/P02751   \">P02751   </a>, FINC_HUMAN , T; <a href=\"https://www.uniprot.org/uniprot/P11276    \">P11276    </a>, FINC_MOUSE , T; <br/>DR   <a href=\"https://www.uniprot.org/uniprot/Q91400   \">Q91400   </a>, FINC_NOTVI , T; <a href=\"https://www.uniprot.org/uniprot/Q28749    \">Q28749    </a>, FINC_RABIT , T; <br/>DR   <a href=\"https://www.uniprot.org/uniprot/P04937   \">P04937   </a>, FINC_RAT   , T; <a href=\"https://www.uniprot.org/uniprot/Q91740    \">Q91740    </a>, FINC_XENLA , T; <br/>DR   <a href=\"https://www.uniprot.org/uniprot/Q6QNF4   \">Q6QNF4   </a>, HGFA_CANLF , T; <a href=\"https://www.uniprot.org/uniprot/Q04756    \">Q04756    </a>, HGFA_HUMAN , T; <br/>DR   <a href=\"https://www.uniprot.org/uniprot/Q9R098   \">Q9R098   </a>, HGFA_MOUSE , T; <a href=\"https://www.uniprot.org/uniprot/O60449    \">O60449    </a>, LY75_HUMAN , T; <br/>DR   <a href=\"https://www.uniprot.org/uniprot/Q920P9   \">Q920P9   </a>, LY75_MESAU , T; <a href=\"https://www.uniprot.org/uniprot/Q60767    \">Q60767    </a>, LY75_MOUSE , T; <br/>DR   <a href=\"https://www.uniprot.org/uniprot/Q9GLE5   \">Q9GLE5   </a>, MMP2_BOVIN , T; <a href=\"https://www.uniprot.org/uniprot/Q90611    \">Q90611    </a>, MMP2_CHICK , T; <br/>DR   <a href=\"https://www.uniprot.org/uniprot/P08253   \">P08253   </a>, MMP2_HUMAN , T; <a href=\"https://www.uniprot.org/uniprot/P33434    \">P33434    </a>, MMP2_MOUSE , T; <br/>DR   <a href=\"https://www.uniprot.org/uniprot/P50757   \">P50757   </a>, MMP2_RABIT , T; <a href=\"https://www.uniprot.org/uniprot/P33436    \">P33436    </a>, MMP2_RAT   , T; <br/>DR   <a href=\"https://www.uniprot.org/uniprot/P52176   \">P52176   </a>, MMP9_BOVIN , T; <a href=\"https://www.uniprot.org/uniprot/O18733    \">O18733    </a>, MMP9_CANLF , T; <br/>DR   <a href=\"https://www.uniprot.org/uniprot/P14780   \">P14780   </a>, MMP9_HUMAN , T; <a href=\"https://www.uniprot.org/uniprot/P41245    \">P41245    </a>, MMP9_MOUSE , T; <br/>DR   <a href=\"https://www.uniprot.org/uniprot/P41246   \">P41246   </a>, MMP9_RABIT , T; <a href=\"https://www.uniprot.org/uniprot/P50282    \">P50282    </a>, MMP9_RAT   , T; <br/>DR   <a href=\"https://www.uniprot.org/uniprot/P08169   \">P08169   </a>, MPRI_BOVIN , T; <a href=\"https://www.uniprot.org/uniprot/P11717    \">P11717    </a>, MPRI_HUMAN , T; <br/>DR   <a href=\"https://www.uniprot.org/uniprot/Q07113   \">Q07113   </a>, MPRI_MOUSE , T; <a href=\"https://www.uniprot.org/uniprot/P22897    \">P22897    </a>, MRC1_HUMAN , T; <br/>DR   <a href=\"https://www.uniprot.org/uniprot/Q61830   \">Q61830   </a>, MRC1_MOUSE , T; <a href=\"https://www.uniprot.org/uniprot/Q9UBG0    \">Q9UBG0    </a>, MRC2_HUMAN , T; <br/>DR   <a href=\"https://www.uniprot.org/uniprot/Q64449   \">Q64449   </a>, MRC2_MOUSE , T; <a href=\"https://www.uniprot.org/uniprot/Q4TU93    \">Q4TU93    </a>, MRC2_RAT   , T; <br/>DR   <a href=\"https://www.uniprot.org/uniprot/P80964   \">P80964   </a>, PB1_PIG    , T; <a href=\"https://www.uniprot.org/uniprot/P49259    \">P49259    </a>, PLA2R_BOVIN, T; <br/>DR   <a href=\"https://www.uniprot.org/uniprot/Q13018   \">Q13018   </a>, PLA2R_HUMAN, T; <a href=\"https://www.uniprot.org/uniprot/Q62028    \">Q62028    </a>, PLA2R_MOUSE, T; <br/>DR   <a href=\"https://www.uniprot.org/uniprot/Q5R880   \">Q5R880   </a>, PLA2R_PONAB, T; <a href=\"https://www.uniprot.org/uniprot/P49260    \">P49260    </a>, PLA2R_RABIT, T; <br/>DR   <a href=\"https://www.uniprot.org/uniprot/Q9UBV2   \">Q9UBV2   </a>, SE1L1_HUMAN, T; <a href=\"https://www.uniprot.org/uniprot/Q9ESM7    \">Q9ESM7    </a>, SE1L1_MESAU, T; <br/>DR   <a href=\"https://www.uniprot.org/uniprot/Q9Z2G6   \">Q9Z2G6   </a>, SE1L1_MOUSE, T; <a href=\"https://www.uniprot.org/uniprot/Q80Z70    \">Q80Z70    </a>, SE1L1_RAT  , T; <br/>DR   <a href=\"https://www.uniprot.org/uniprot/P02784   \">P02784   </a>, SFP1_BOVIN , T; <a href=\"https://www.uniprot.org/uniprot/P04557    \">P04557    </a>, SFP3_BOVIN , T; <br/>DR   <a href=\"https://www.uniprot.org/uniprot/P81019   \">P81019   </a>, SFP4_BOVIN , T; <a href=\"https://www.uniprot.org/uniprot/P81121    \">P81121    </a>, SP1_HORSE  , T; <br/>DR   <a href=\"https://www.uniprot.org/uniprot/B3EWK6   \">B3EWK6   </a>, SFP1_BOSIN , P; <br/>3D   <a href = \"/cgi-bin/pdb/pdb_structure_viewer.cgi?pdb=1CK7&ps=PS51092\">1CK7</a>; <a href = \"/cgi-bin/pdb/pdb_structure_viewer.cgi?pdb=1CXW&ps=PS51092\">1CXW</a>; <a href = \"/cgi-bin/pdb/pdb_structure_viewer.cgi?pdb=1E88&ps=PS51092\">1E88</a>; <a href = \"/cgi-bin/pdb/pdb_structure_viewer.cgi?pdb=1E8B&ps=PS51092\">1E8B</a>; <a href = \"/cgi-bin/pdb/pdb_structure_viewer.cgi?pdb=1EAK&ps=PS51092\">1EAK</a>; <a href = \"/cgi-bin/pdb/pdb_structure_viewer.cgi?pdb=1GXD&ps=PS51092\">1GXD</a>; <a href = \"/cgi-bin/pdb/pdb_structure_viewer.cgi?pdb=1H8P&ps=PS51092\">1H8P</a>; <a href = \"/cgi-bin/pdb/pdb_structure_viewer.cgi?pdb=1J7M&ps=PS51092\">1J7M</a>; <a href = \"/cgi-bin/pdb/pdb_structure_viewer.cgi?pdb=1KS0&ps=PS51092\">1KS0</a>; <a href = \"/cgi-bin/pdb/pdb_structure_viewer.cgi?pdb=1L6J&ps=PS51092\">1L6J</a>; <a href = \"/cgi-bin/pdb/pdb_structure_viewer.cgi?pdb=1PDC&ps=PS51092\">1PDC</a>; <a href = \"/cgi-bin/pdb/pdb_structure_viewer.cgi?pdb=1QO6&ps=PS51092\">1QO6</a>; \n",
       "3D   <a href = \"/cgi-bin/pdb/pdb_structure_viewer.cgi?pdb=2FN2&ps=PS51092\">2FN2</a>; <a href = \"/cgi-bin/pdb/pdb_structure_viewer.cgi?pdb=2V5O&ps=PS51092\">2V5O</a>; <a href = \"/cgi-bin/pdb/pdb_structure_viewer.cgi?pdb=2V5P&ps=PS51092\">2V5P</a>; <a href = \"/cgi-bin/pdb/pdb_structure_viewer.cgi?pdb=3M7P&ps=PS51092\">3M7P</a>; <a href = \"/cgi-bin/pdb/pdb_structure_viewer.cgi?pdb=3MQL&ps=PS51092\">3MQL</a>; <a href = \"/cgi-bin/pdb/pdb_structure_viewer.cgi?pdb=5AO5&ps=PS51092\">5AO5</a>; <a href = \"/cgi-bin/pdb/pdb_structure_viewer.cgi?pdb=5AO6&ps=PS51092\">5AO6</a>; <a href = \"/cgi-bin/pdb/pdb_structure_viewer.cgi?pdb=5E4K&ps=PS51092\">5E4K</a>; <a href = \"/cgi-bin/pdb/pdb_structure_viewer.cgi?pdb=5E4L&ps=PS51092\">5E4L</a>; <a href = \"/cgi-bin/pdb/pdb_structure_viewer.cgi?pdb=5EW6&ps=PS51092\">5EW6</a>; <a href = \"/cgi-bin/pdb/pdb_structure_viewer.cgi?pdb=5XTS&ps=PS51092\">5XTS</a>; <a href = \"/cgi-bin/pdb/pdb_structure_viewer.cgi?pdb=5XTW&ps=PS51092\">5XTW</a>; \n",
       "3D   <a href = \"/cgi-bin/pdb/pdb_structure_viewer.cgi?pdb=6INN&ps=PS51092\">6INN</a>; <a href = \"/cgi-bin/pdb/pdb_structure_viewer.cgi?pdb=6INO&ps=PS51092\">6INO</a>; <a href = \"/cgi-bin/pdb/pdb_structure_viewer.cgi?pdb=6INU&ps=PS51092\">6INU</a>; <a href = \"/cgi-bin/pdb/pdb_structure_viewer.cgi?pdb=6INV&ps=PS51092\">6INV</a>; <a href = \"/cgi-bin/pdb/pdb_structure_viewer.cgi?pdb=6IOE&ps=PS51092\">6IOE</a>; <a href = \"/cgi-bin/pdb/pdb_structure_viewer.cgi?pdb=6SZW&ps=PS51092\">6SZW</a>; <a href = \"/cgi-bin/pdb/pdb_structure_viewer.cgi?pdb=6UM1&ps=PS51092\">6UM1</a>; <a href = \"/cgi-bin/pdb/pdb_structure_viewer.cgi?pdb=6UM2&ps=PS51092\">6UM2</a>; \n",
       "PR   <a href=\"/rule/PRU00479\">PRU00479</a>; \n",
       "DO   <a href=\"/cgi-bin/prosite/get-prodoc-entry?PDOC00022\">PDOC00022</a>;\n",
       "//\n",
       "</pre><address><a href=\"/cgi-bin/prosite/nicesite.pl?PS51092\">NiceSite</a> - a user-friendly view of this PROSITE entry</address>\n",
       "\t\t<br clear=\"left\" />\n",
       "\t</div>\n",
       "\t<!-- end of sib_body, start of footer -->\n",
       "\t<footer role=\"contentinfo\" class=\"text-sm text-neutral-700 max-sm:text-center sm:mt-12 pt-4 pb-4 bg-neutral-100\">\n",
       "\t\t<div class=\"container\">\n",
       "\t\t\t<div class=\"flex max-sm:flex-col sm:items-center\">\n",
       "\t\t\t\t<div class=\"md:flex-1 mb-8 md:mb-0\">\n",
       "\t\t\t\t\t<div class=\"max-w-sm md:max-w-3xl md:pr-12\">\n",
       "\t\t\t\t\t\t<img src=\"/images/icons/expasy_icons/sib-mark.svg\" class=\"md:mr-2 mb-2 inline-block icon icon--sib-mark icon--sib-mark\">\n",
       "\t\t\t\t\t\t<div class=\"md:inline-block\" property=\"schema:creator\" typeof=\"schema:NGO\">\n",
       "\t\t\t\t\t\t\tExpasy is operated by the\n",
       "\t\t\t\t\t\t\t<a property=\"schema:url\" href=\"https://sib.swiss\" target=\"blank\" rel=\"noopener noreferer\">SIB Swiss Institute of Bioinformatics</a>\n",
       "\t\t\t\t\t\t\t|\n",
       "\t\t\t\t\t\t\t<a href=\"https://www.expasy.org/terms-of-use\" class=\"\">Terms of Use</a>\n",
       "\t\t\t\t\t\t</div>\n",
       "\t\t\t\t\t</div>\n",
       "\t\t\t\t</div>\n",
       "\t\t\t\t<a href=\"#top\">Back to the top</a>\n",
       "\t\t\t</div>\n",
       "\t\t</div>\n",
       "\t</footer>\n",
       "\t<!-- end of footer -->\n",
       "</div> \n",
       "<!-- end of sib_container -->\n",
       "\n",
       "<script async=\"async\" src='https://www.google-analytics.com/analytics.js' type=\"text/javascript\"></script>\n",
       "<script type=\"text/javascript\">\n",
       "\twindow.ga=window.ga||function(){(ga.q=ga.q||[]).push(arguments)};ga.l=+new Date;\n",
       "\tga('create', 'UA-23823438-1', 'auto');\n",
       "    ga('set', 'anonymizeIp', true);\n",
       "    ga('send', 'pageview');\n",
       "</script>\n",
       "<!-- automatically added by Apache -->\n",
       "\n",
       "    </body>\n",
       "</html>"
      ],
      "text/plain": [
       "<IPython.core.display.HTML object>"
      ]
     },
     "metadata": {},
     "output_type": "display_data"
    }
   ],
   "source": [
    "from IPython.core.display import display, HTML\n",
    "from Bio import ExPASy\n",
    "from Bio.ExPASy import Prodoc\n",
    "# Земен од: https://prosite.expasy.org/\n",
    "# Fibronectin type-II collagen-binding domain signature and profile\n",
    "\n",
    "handle = ExPASy.get_prosite_entry(\"PS51092\")\n",
    "html = handle.read() \n",
    "with open(\"html/Fibronectin.html\", \"w\") as out_handle:\n",
    "    out_handle.write(html)\n",
    "display(HTML(\"Fibronectin.html\"))"
   ]
  }
 ],
 "metadata": {
  "celltoolbar": "Edit Metadata",
  "kernelspec": {
   "display_name": "Python 3",
   "language": "python",
   "name": "python3"
  },
  "language_info": {
   "codemirror_mode": {
    "name": "ipython",
    "version": 3
   },
   "file_extension": ".py",
   "mimetype": "text/x-python",
   "name": "python",
   "nbconvert_exporter": "python",
   "pygments_lexer": "ipython3",
   "version": "3.7.10"
  },
  "latex_envs": {
   "LaTeX_envs_menu_present": true,
   "autoclose": false,
   "autocomplete": true,
   "bibliofile": "biblio.bib",
   "cite_by": "apalike",
   "current_citInitial": 1,
   "eqLabelWithNumbers": true,
   "eqNumInitial": 1,
   "hotkeys": {
    "equation": "Ctrl-E",
    "itemize": "Ctrl-I"
   },
   "labels_anchors": false,
   "latex_user_defs": false,
   "report_style_numbering": false,
   "user_envs_cfg": false
  },
  "varInspector": {
   "cols": {
    "lenName": 16,
    "lenType": 16,
    "lenVar": 40
   },
   "kernels_config": {
    "python": {
     "delete_cmd_postfix": "",
     "delete_cmd_prefix": "del ",
     "library": "var_list.py",
     "varRefreshCmd": "print(var_dic_list())"
    },
    "r": {
     "delete_cmd_postfix": ") ",
     "delete_cmd_prefix": "rm(",
     "library": "var_list.r",
     "varRefreshCmd": "cat(var_dic_list()) "
    }
   },
   "types_to_exclude": [
    "module",
    "function",
    "builtin_function_or_method",
    "instance",
    "_Feature"
   ],
   "window_display": false
  }
 },
 "nbformat": 4,
 "nbformat_minor": 5
}