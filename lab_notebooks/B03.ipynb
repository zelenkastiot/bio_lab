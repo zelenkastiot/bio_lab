{
 "cells": [
  {
   "cell_type": "markdown",
   "id": "banner-papua",
   "metadata": {},
   "source": [
    "# 💻 Б3: Seq објекти"
   ]
  },
  {
   "cell_type": "markdown",
   "id": "organizational-emphasis",
   "metadata": {},
   "source": [
    "```{admonition} Опис на барање\n",
    ":class: tip\n",
    "Да се напише пример за работа со Seq објекти, како што е\n",
    "опишано во поглавје 3, и да се обрне внимание на процесите\n",
    "транскрипција и транслација.\n",
    "```"
   ]
  },
  {
   "cell_type": "markdown",
   "id": "comprehensive-mediterranean",
   "metadata": {},
   "source": [
    "```{image} http://compeau.cbd.cmu.edu/wp-content/uploads/2016/08/rosalindlogo.jpg\n",
    ":alt: rosalind\n",
    ":class: bg-primary mb-1\n",
    ":width: 210px\n",
    ":height: 72px\n",
    ":align: right\n",
    "```\n",
    "\n",
    "На [**Rosalind**](http://rosalind.info/problems/list-view/) има многу интересни проблеми каде мислев дека можеби е интересно да се обидам да ги решам со користење на <code>Bio.Seq</code> објекти. За ова барање ги решив точно следните проблеми: \n",
    "\n",
    "1. **Complementing a Strand of DNA**: http://rosalind.info/problems/revc/\n",
    "2. **Transcribing DNA into RNA:** http://rosalind.info/problems/rna/\n",
    "3. **Translating RNA into Protein:** http://rosalind.info/problems/prot/\n",
    "4. **Computing GC Content**: http://rosalind.info/problems/gc/\n",
    "5. **Finding a Motif in DNA**: http://rosalind.info/problems/subs/\n",
    "\n",
    "\n",
    "```{admonition} **Rosalind** профил\n",
    ":class: note\n",
    "\n",
    "Профилот каде може да се види дека ги решив: http://rosalind.info/users/zelenkastiot/\n",
    "```"
   ]
  },
  {
   "cell_type": "markdown",
   "id": "defined-magic",
   "metadata": {
    "heading_collapsed": "true",
    "tags": []
   },
   "source": [
    "## 1. [Complementing a Strand of DNA](http://rosalind.info/problems/revc/)"
   ]
  },
  {
   "cell_type": "markdown",
   "id": "sacred-ancient",
   "metadata": {},
   "source": [
    "Овој проблем е поврзан со стрингови од ДНА, каде комплементи се паровите: A-T и C-G. \n",
    "\n",
    "Обратен комплемент (reverse complement) од ДНА стринг а стринг формиран со зимање на стрингот во обратен редослед и применување на комплемент, т.е. менување на базните парови со своите комплементарни парови (пример \"*GTCA*\" ако е влез, соодветен излез е \"*TGAC*\")\n",
    "\n",
    "\n",
    "- **Влез:** <code>/rosalind/rosalind_revc.txt</code>текст фајл со ДНА стринг со должина од најмногу 1000 базни парови \n",
    "- **Излез:** Обратен комплемент од стрингот "
   ]
  },
  {
   "cell_type": "code",
   "execution_count": 6,
   "id": "broad-savage",
   "metadata": {},
   "outputs": [
    {
     "name": "stdout",
     "output_type": "stream",
     "text": [
      "GCTTTGTTAATCGGCTAAAACACTATCTCTCGCACTAGGCAGCCCAAAGTCCTCCATACGGAGCTTGCGTCGTATCGTAGTAGCTGCAATCTACCTGGGCGGTGGTGGATGAGCGTGAGCTAAAGCGGGACATCTGTATGGCAAGTAGTCTGCCGTGAACGAGCCAGCCCCTACGGTGTGGACACGTCCTTCAGGTGGTATGGATACGGACACCACATCTGTAGCTTTTGACGTCAGAGAGAGACGTATGAGGGGCGAGACGAGTGATATCTGCACCACCATGCCGGACACGGCGCAGTGGCCATGTATATTTAACGCCTAGTGCCACGAAACTAGGTTCTCTACACTGACACGTACGCCCACGTGCTCAACCTTATGCTGCACATGTCCGTATTTTGTCAATGACTTTGCCACCTTTTACCTCCGTGGTCCATGCGGAGTTTAGAAGTGTTACGCTTGGAGTAATCTCGCCCCCGTTTGGTGGACTGGCACCCGCAGACAGGCCAGAAAGAGCCCGTCCCTGGCACAGTTCCTGGGATAGTAAGGGAATTTACCGCAACTGGCTCACGCCGTTGGTGAAGCTCAGAGCACGTGCCCAGGCTTAGAGTTTCCGCTTAGATGCTCTACGGTAGCACTAAACCAAAATGTTAGGGAATGCCCGGAAAGTTTAATGTGCTTGCAGATAATCATATGCTATTGACCTAGAGACAGTCGAACGCCTCCTCAGGTTCCTAGCAATCCACTTTTGCAATACACATAACTCTTAGCATTATGACCGGAAGCCTAGCTCCTGTAACACCTCCTCTTGTCGGTCCTAACCTATCATCGTGAGCATTTACGGACACTTTAGTTATGCGCTAGCTAATGATATCTTGTGTCTTTTCTAATCAATGAGGCCGGGTAAAACCGCTGCTGCGAGGAA\n"
     ]
    }
   ],
   "source": [
    "from Bio.Seq import Seq \n",
    "\n",
    "with open('rosalind/rosalind_revc.txt', 'r') as file:\n",
    "    sample_dataset = file.read().replace('\\n', '')\n",
    "\n",
    "input_dna = Seq(sample_dataset)\n",
    "output_rna = input_dna.reverse_complement()\n",
    "print(output_rna)"
   ]
  },
  {
   "cell_type": "markdown",
   "id": "welcome-moment",
   "metadata": {
    "heading_collapsed": "true",
    "tags": []
   },
   "source": [
    "## 2. [Transcribing DNA into RNA](http://rosalind.info/problems/rna/)"
   ]
  },
  {
   "cell_type": "markdown",
   "id": "integral-genome",
   "metadata": {},
   "source": [
    "Овој проблем е поврзан со процесот на *транскрипција* каде идејата е при даден фајл со ДНА стринг преку процесот на *транскрипција* да се добие соодветната РНА. \n",
    "\n",
    "- **Влез:** <code>/rosalind/rosalind_rna.txt</code> - текст фајл со ДНА стринг со должина од најмногу 1000 базни парови \n",
    "- **Излез:** РНА стринг добиен од транскрипција на ДНА стрингот "
   ]
  },
  {
   "cell_type": "markdown",
   "id": "early-immune",
   "metadata": {},
   "source": [
    "**Решение (Со примена на Bio.Seq):**"
   ]
  },
  {
   "cell_type": "code",
   "execution_count": 7,
   "id": "bigger-subsection",
   "metadata": {},
   "outputs": [
    {
     "name": "stdout",
     "output_type": "stream",
     "text": [
      "GAAGUGCCUUAGUAGCUAACAGAGGUUCGUACAACAGCGAUGACUUUUGACAAGAUACCAGGCUGCGGCGAAUUUGAGAGGAAUGAUUAAGCAUGGCACACGGGGUGCGCAAGGAGUAUUUCGGGGACCGGGACCUCCAGCGUGCGGCGGCUGGUGAGCUGAGCGUACGCGGCGGCAGGGGCCGUUUACACACCAGGUAGGGUUUUAGAGCCGAUAGAAGUCUAGGUAGCCAUAUGUAGGGCAUCUAGAUUUUCAUAGGUCCUAGGCACCUACGAGAUCCCCAACUAACCAUAGCGGUGACGACGGGUGAUGAGAAAAUUCGGUUUGGUACCAAUGAAACGAUGGACAGAGACAACUGCAUAGGGUGCGGCGUGGCCCAAUCUCCUCUCUCCAUCGCGCAGCGGCUUAAUCCAGCGUGCGUUAUCGAUAAAUUCGCGUAGUAGAGUGAAGACUUGGGCUCUUCCGCGAUGAUGCCUUCCUGUCAUAAGGGGACCUUUAGGACAUUCACGGGUACUUUUGCCUUCCACGCGAGAGGUUGUAGUUGCCGGUCAUGUCGGUACGACCUAGAAAAGUAUGAAUGCCAGGCGUGGGGUUCAUGUACGGCACCCGUUGUUCUCGCUGUUUAGGAAUGGCCAAAUAGUACUUUACUAAGGAAGGAAGAAUUUCCUUCACAAUGCAAAGCAGGGACGCUCCCGACCGCACACCGCAGAGAUAAAUGCUUAAACAACGCUCUAUCGACGUAAGAUGGGAUGCAGCCUCAACCUAAGUUGUGCAAUCACUGUAACGGGCCGCAAGUACAAUGUAGAUAGUGCCUGCCCCUUGGCAAUCACCCUUGCGUUUUCGACAUUAGUUGCAGCUGUCGGAUUGACGUCUUAGGAGUCGUGAUACUUUAGGCAAGAGGGUGCGGUGGCGAAGACAGAACACUGCAUGCUACUCGCCAGUCUAUUUCAUUGGUGUCUCGCAAGGU\n"
     ]
    }
   ],
   "source": [
    "from Bio.Seq import Seq\n",
    "\n",
    "with open('rosalind/rosalind_rna.txt', 'r') as file:\n",
    "    sample_dataset = file.read().replace('\\n', '')\n",
    "\n",
    "input_dna = Seq(sample_dataset)\n",
    "output_rna = input_dna.transcribe()\n",
    "print(output_rna)"
   ]
  },
  {
   "cell_type": "markdown",
   "id": "bibliographic-meaning",
   "metadata": {},
   "source": [
    "**Решение (Со операции на стрингови):**"
   ]
  },
  {
   "cell_type": "code",
   "execution_count": 8,
   "id": "soviet-unemployment",
   "metadata": {},
   "outputs": [
    {
     "name": "stdout",
     "output_type": "stream",
     "text": [
      "GAAGUGCCUUAGUAGCUAACAGAGGUUCGUACAACAGCGAUGACUUUUGACAAGAUACCAGGCUGCGGCGAAUUUGAGAGGAAUGAUUAAGCAUGGCACACGGGGUGCGCAAGGAGUAUUUCGGGGACCGGGACCUCCAGCGUGCGGCGGCUGGUGAGCUGAGCGUACGCGGCGGCAGGGGCCGUUUACACACCAGGUAGGGUUUUAGAGCCGAUAGAAGUCUAGGUAGCCAUAUGUAGGGCAUCUAGAUUUUCAUAGGUCCUAGGCACCUACGAGAUCCCCAACUAACCAUAGCGGUGACGACGGGUGAUGAGAAAAUUCGGUUUGGUACCAAUGAAACGAUGGACAGAGACAACUGCAUAGGGUGCGGCGUGGCCCAAUCUCCUCUCUCCAUCGCGCAGCGGCUUAAUCCAGCGUGCGUUAUCGAUAAAUUCGCGUAGUAGAGUGAAGACUUGGGCUCUUCCGCGAUGAUGCCUUCCUGUCAUAAGGGGACCUUUAGGACAUUCACGGGUACUUUUGCCUUCCACGCGAGAGGUUGUAGUUGCCGGUCAUGUCGGUACGACCUAGAAAAGUAUGAAUGCCAGGCGUGGGGUUCAUGUACGGCACCCGUUGUUCUCGCUGUUUAGGAAUGGCCAAAUAGUACUUUACUAAGGAAGGAAGAAUUUCCUUCACAAUGCAAAGCAGGGACGCUCCCGACCGCACACCGCAGAGAUAAAUGCUUAAACAACGCUCUAUCGACGUAAGAUGGGAUGCAGCCUCAACCUAAGUUGUGCAAUCACUGUAACGGGCCGCAAGUACAAUGUAGAUAGUGCCUGCCCCUUGGCAAUCACCCUUGCGUUUUCGACAUUAGUUGCAGCUGUCGGAUUGACGUCUUAGGAGUCGUGAUACUUUAGGCAAGAGGGUGCGGUGGCGAAGACAGAACACUGCAUGCUACUCGCCAGUCUAUUUCAUUGGUGUCUCGCAAGGU\n"
     ]
    }
   ],
   "source": [
    "rna = sample_dataset.replace(\"T\", \"U\")\n",
    "print(output_rna)"
   ]
  },
  {
   "cell_type": "markdown",
   "id": "sharing-words",
   "metadata": {},
   "source": [
    "**Проверка за излезот:**"
   ]
  },
  {
   "cell_type": "code",
   "execution_count": 9,
   "id": "descending-trance",
   "metadata": {},
   "outputs": [
    {
     "name": "stdout",
     "output_type": "stream",
     "text": [
      "True\n"
     ]
    }
   ],
   "source": [
    "print(output_rna == rna)"
   ]
  },
  {
   "cell_type": "markdown",
   "id": "opposite-peripheral",
   "metadata": {
    "heading_collapsed": "true",
    "tags": []
   },
   "source": [
    "## 3. [Translating RNA into Protein](http://rosalind.info/problems/prot/)"
   ]
  },
  {
   "cell_type": "markdown",
   "id": "accurate-garage",
   "metadata": {},
   "source": [
    "Овој проблем е поврзан со *транскрипција* од РНА во протеини. 20 најчести аминокиселни се означуваат користејќи ги сите 20 букви од Англиската азбука (сите освен B, J, O, U, X и Z). Стрингови од протеини се создаваат од овие 20 симболи. Овие секвенци заедно со ДНА и РНА секвенците исто така се вика генетски стринг.   \n",
    "\n",
    "- **Влез:** <code>/rosalind/rosalind_prot.txt</code>текст фајл со РНА стринг со должина од најмногу 1000 базни парови \n",
    "- **Излез:** Протеинска секвенца (без стоп кодони)"
   ]
  },
  {
   "cell_type": "markdown",
   "id": "impressive-black",
   "metadata": {},
   "source": [
    "Следната табeла е таа што се користи за процесот на транслација: "
   ]
  },
  {
   "cell_type": "code",
   "execution_count": 10,
   "id": "other-toilet",
   "metadata": {},
   "outputs": [
    {
     "name": "stdout",
     "output_type": "stream",
     "text": [
      "Table 1 Standard, SGC0\n",
      "\n",
      "  |  U      |  C      |  A      |  G      |\n",
      "--+---------+---------+---------+---------+--\n",
      "U | UUU F   | UCU S   | UAU Y   | UGU C   | U\n",
      "U | UUC F   | UCC S   | UAC Y   | UGC C   | C\n",
      "U | UUA L   | UCA S   | UAA Stop| UGA Stop| A\n",
      "U | UUG L(s)| UCG S   | UAG Stop| UGG W   | G\n",
      "--+---------+---------+---------+---------+--\n",
      "C | CUU L   | CCU P   | CAU H   | CGU R   | U\n",
      "C | CUC L   | CCC P   | CAC H   | CGC R   | C\n",
      "C | CUA L   | CCA P   | CAA Q   | CGA R   | A\n",
      "C | CUG L(s)| CCG P   | CAG Q   | CGG R   | G\n",
      "--+---------+---------+---------+---------+--\n",
      "A | AUU I   | ACU T   | AAU N   | AGU S   | U\n",
      "A | AUC I   | ACC T   | AAC N   | AGC S   | C\n",
      "A | AUA I   | ACA T   | AAA K   | AGA R   | A\n",
      "A | AUG M(s)| ACG T   | AAG K   | AGG R   | G\n",
      "--+---------+---------+---------+---------+--\n",
      "G | GUU V   | GCU A   | GAU D   | GGU G   | U\n",
      "G | GUC V   | GCC A   | GAC D   | GGC G   | C\n",
      "G | GUA V   | GCA A   | GAA E   | GGA G   | A\n",
      "G | GUG V   | GCG A   | GAG E   | GGG G   | G\n",
      "--+---------+---------+---------+---------+--\n"
     ]
    }
   ],
   "source": [
    "from Bio.Data import CodonTable\n",
    "\n",
    "standard_rna_table = CodonTable.unambiguous_rna_by_name[\"Standard\"]\n",
    "print(standard_rna_table)"
   ]
  },
  {
   "cell_type": "markdown",
   "id": "prerequisite-purple",
   "metadata": {},
   "source": [
    "**Решение:**"
   ]
  },
  {
   "cell_type": "code",
   "execution_count": 11,
   "id": "judicial-migration",
   "metadata": {},
   "outputs": [
    {
     "name": "stdout",
     "output_type": "stream",
     "text": [
      "METQHTLPCNCRELDKTGSHVVRSGLAYVFAHHITLYRASYGMVSLLSRGHTSGTLLRPMASIRQLCQILDINKLKNQDVLLRYPNGVGLRSVWTSYVVIIFQRWSRRANPLSVIAVLTVYLDMFRGNCSQRRDGRSSDYFYQTSSRPCLLLGAYSLGAIPVTPLNQTTVPPIRCLALQGMQNTAGFAAIESVYRTTCRQLNQREGLSTPSRLRELIWPARYLPVRCECNNGLNTVYSVTVRISSKATTIRTCCRPTYYLLEVMLTRPDSGERTRRAAKYHKHDHIPSARRARRRRVGNPFNTAKTVYGRKDATVHSSSTLAFTSCEGHGGPACHESLASSTARGRLVTKSNKSGPSRRAILFIPQLIEHIMSMERGQWTFTNPSASTRGTKSWGPSWDKRSPGLKPPVAVGIRTRLYGPVLYRMNDRPLMSHIAYGAQSYNQLFRRKCEILFLSPAGPWSACRSQRMLNTTGSCDTFVDAALTLSLYTVNVWEPISNTDPITRAPLVLSRQINSEGIGIHNRPSTSIRVCTGTSNRIQHNILDSGSDLMATPVCDLRGLVCSDRAELPIHSPGGKASSLRWTPSNRPNGNIYSRYASLSDCVLCCSRRLETQVSRQSPRMIRDLLSGFTDMRNVWDRVSCLDAARRALGATSRSTFAGERRWCLVSNVSRKRLSFTTDFISIRTQHGIPSNSLSTNKGSRDTPVCAGDDVSVECPRKESKAKIKFLVLGGVRGSLTGRRKISMLDPTKSSRALAAMGTLVIRIMAVVDDWISSPACTHQDTQLEDLNWVTETWAFRAVGIGLSSAQYHVHRGQRTQHTAARCVLPRRRVRTDDKPIGYIGDRDRPVEDSNGSCSECGRRTERCRNRATRLLTYTRKQLLITGRHNQIRLEIPRLGARCCHYILQVQPQPLSISKLLLENFFGTQTAPDTLSLPSSQDMLPINRPLRFVNIQWRDLPIRGALQATLTLGALLSPFGPCFPMFVSKRPSQFRFNGASSLSGFTYYIIRGCRRSASKREHTPWHLKLPTTHPSPQLVPDPANLKCTKWKWANRTRVLAKTDCCFNAVGRRPASAYHMKMPSQNLSRHIVKKSLVTVGEASQVEHHCINVKVMAKDTGLSGATILWSFKVLRCFVECRPSHRRSGRMLIQFVGAFRNLRLGMRLVSGVDCTFLHLLKISLWSGVSGPERRMHGWLQIGATPRRARLNAKTNLLHLRETDVQTVPTDTAVGSGPLIIVESTALIAVVPEMTIALCQREMVFLYRCRGSQNNAPGRGQVSKHRPQPSKSQGAYRPRSILSCSPVSAPYSTSVPDSRECRESQPTTALRNYRVSGIIAGASASTLNYLTGSCVLFLLRTRCHVAWRAANTTNVDSRSYLPAARLTTSLGEIWIARVEKLRLSNARTALADAVSPNCPSNTFRCPTSFLGNAHLRMYTMLTWFIPLTVSVKGYTGFLNAQVASTDRSKECGSVHGLAMVAWEYAALVVSWRLQGVAILMQLKRIVQITITSTFGRIVCCTKPHLKHFGPGGPRMLSSACIWRGARWINAPARAPESLAHASAGVTRVFSLRNRPSQLHTIHGTACNVKGNEAKHVPNQYPTGGSENVYPPMLIPVCIGTDGDKDHTVMLGAGSLPPRRGGCKSQFTTTLSGTLLDPLALCSSTIVAPVVVANKTRRPRRRSIVNLAGKRQARHRDEVLNTGHALRASHSFVPPCHVPHPGKSPFTRTDHNVVGGHTGFSCRPRKDRGISNAQLESLDPGNLRAQVPLVDALRLSGLLGHSVKLNRYWFVAAYHLGRVGSSELRTAQPTYRGAVDIGNSWGTAGFKSRRLRQSSDKAYGARRLTSEVSNTRVSLPMHYVSIHCEGLTDHHAQRSLKNTSLIRPSRDSRRLPRTSENKQILPRPSCRLSHWPSNTHPGAPTSVNPYLRHRGIRDHCAPRCAGRTTYCEQSAGIFELAHAGEKATIHKPIRWDIEAGLIGCCVCSGAPYTNDLYASPRLLRVPKRRLRCLIALSRSHYILTPINMWENGTNNAEFSGINGTVGIAHDDSAYKGYRPADSQATRRSDTGWCLIPDRLWSKDYLVPFSLTYDDTTTACTALTFDPVRKSLGVGLFSQHHESNLPIPVMEASTAYVKKIGIRTAVSQAGDGAFTSLVADRRIKLGLKFILLLGLVYWFNIRNKPLCRMAKSWRFLFNLSATSSKSFAIADRGSGLEIADKIRDFTGRSTWRMVCSVLQVNERGNNYITDMDALWSYYPRYVIGRGIVVKKCSFPAEAKRDAMTEIGTDDYAKEGTDLLIPSGYGNETSCSSGAEDPYPPLTMWSGGLRILMQPNLCQYKSGTTSQGYFCIFHFGSPLAVSSHWSSSTGRRPPPLFSALQHIPVKLLTTRINACAGDYHDNVPWPPSGYSVSSLYCSSTTRLAHFLGQEFHELRRPWLIEGLPSSIEASCQQTQQDCYRRPAAPIFYSVLKLALVPLRPIIVGGLGCLEPAIVYSYFTTNLTRRVGPRSENLYLRLLRVVDTVTCNNCGKLGTPDLCYCSDMLLKLNRSELESVHWVCRLSGPENSSKHISTLSDSPKFLWDYYVNCSATVTSKRPMSRAGACSHRRSHVGHTSTDVKSVRSLLGCVLRLTVWSRIFGARRWRETQGRVVRSLHLRRRIFPDWSGHGLRLSCHDSRDYVVRAIRARSYEGSLIFLSSILTACLCQQCLAQERRQRPLWDGTQPTPVLRIVHDCTRPPGRFPLDCSPSVPMPLRDMHICAIHSKYSTETCSRTSIGELRTPQPEYIPERWQVFGGLERSIGDLTSVLHWFDSGYLRHNISIYPRIGRRRRSVIMTAFACIRLYRIQTVAVCFSGIACKAREKTTHSFGFLSLDEHQWSELASTTTDNCFRALSGVTAIYVRGTLLSRAECARDLESIEPHCVRSTHRRRYVRESWAVMRFTRMRSGKRFFPLSVYNLVQGDQVNKLDQSRSGSNMDWWQEVTEGPSNTIKNLSDYSPDLGASNEGLRRVWLSTIFIFEEIAQISFLPLGVKPCYPLSHPFENLPSVILNSAAERGVGPGSEPHRPPRMGGKVSSCNLRGSREVIFYISCCGTGIKPGKKAHRLRIHFPPFKTRFPTSRSLRYALARSTTNIRRSLNSIKDDQFLDSWTAGAIKSYWSSIVWGARDMTRRRELIYQCTTPG\n"
     ]
    }
   ],
   "source": [
    "from Bio.Seq import Seq \n",
    "\n",
    "with open('rosalind/rosalind_prot.txt', 'r') as file:\n",
    "    sample_dataset = file.read().replace('\\n', '')\n",
    "\n",
    "messenger_rna = Seq(sample_dataset)\n",
    "protein_seq = messenger_rna.translate(to_stop=True)\n",
    "\n",
    "print(protein_seq)"
   ]
  },
  {
   "cell_type": "markdown",
   "id": "prerequisite-anchor",
   "metadata": {
    "heading_collapsed": "true",
    "tags": []
   },
   "source": [
    "## 4. [Computing GC Content](http://rosalind.info/problems/gc/)"
   ]
  },
  {
   "cell_type": "markdown",
   "id": "coated-defeat",
   "metadata": {},
   "source": [
    "Овој проблем е поврзан со процентот на GC во ДНА секвенца.  \n",
    "\n",
    "- **Влез:** <code>/rosalind/rosalind_gc.txt</code>FASTA фајл со неколку ID и своите секвенци \n",
    "- **Излез:** Најголемиот GC процент од целиот FASTA фајл"
   ]
  },
  {
   "cell_type": "code",
   "execution_count": 12,
   "id": "selected-settle",
   "metadata": {},
   "outputs": [],
   "source": [
    "dict_records = {}\n",
    "for seq_record in SeqIO.parse(\"rosalind/rosalind_gc.fasta\", \"fasta\"):\n",
    "    seq_temp = seq_record.seq\n",
    "    dict_records[seq_record.id] = 100 * float(seq_temp.count(\"G\") + seq_temp.count(\"C\")) / len(seq_temp)"
   ]
  },
  {
   "cell_type": "code",
   "execution_count": 14,
   "id": "cosmetic-worship",
   "metadata": {},
   "outputs": [
    {
     "data": {
      "text/plain": [
       "{'Rosalind_0344': 49.22907488986784,\n",
       " 'Rosalind_2995': 50.100806451612904,\n",
       " 'Rosalind_0589': 51.345029239766085,\n",
       " 'Rosalind_6146': 46.45006016847172,\n",
       " 'Rosalind_7650': 51.56081808396125,\n",
       " 'Rosalind_1350': 48.55670103092783,\n",
       " 'Rosalind_1601': 51.83374083129584,\n",
       " 'Rosalind_1751': 48.466257668711656,\n",
       " 'Rosalind_1226': 50.89179548156956}"
      ]
     },
     "execution_count": 14,
     "metadata": {},
     "output_type": "execute_result"
    }
   ],
   "source": [
    "dict_records"
   ]
  },
  {
   "cell_type": "code",
   "execution_count": 15,
   "id": "lovely-retreat",
   "metadata": {},
   "outputs": [
    {
     "name": "stdout",
     "output_type": "stream",
     "text": [
      "Rosalind_1601\n",
      "51.833741\n"
     ]
    }
   ],
   "source": [
    "max_value = max(dict_records.values())  # најголема вредност\n",
    "max_keys = [k for k, v in dict_records.items() if v == max_value] # клуч со максимална вредност\n",
    "\n",
    "print(max_keys[0])\n",
    "print(f'{max_value:.6f}')"
   ]
  },
  {
   "cell_type": "markdown",
   "id": "whole-pickup",
   "metadata": {
    "heading_collapsed": "true",
    "tags": []
   },
   "source": [
    "## 5. [Finding a Motif in DNA](http://rosalind.info/problems/subs/)"
   ]
  },
  {
   "cell_type": "markdown",
   "id": "limited-examination",
   "metadata": {},
   "source": [
    "Овој проблем е поврзан со стрингови од ДНА и подстрингови од ДНА, познати како Motif. Наоѓање на вакви интерави од ДНА во геноми од различни организми (најчесто различен вид) покажува кон тоа дека тој подинтервал има иста функција кај двата организми. \n",
    "\n",
    "Motif е често споделувано парче од DNA, честа задача во молекуларна биологија е да се бараат вакви подстрингови.\n",
    "\n",
    "\n",
    "- **Влез:** <code>/rosalind/rosalind_subs.txt</code> текст фајл со ДНА (прв ред), подстринг т.е. парче ДНА (втор ред)\n",
    "- **Излез:** Сите позиции каде се јавува тој подстринг"
   ]
  },
  {
   "cell_type": "code",
   "execution_count": 16,
   "id": "several-romantic",
   "metadata": {},
   "outputs": [
    {
     "name": "stdout",
     "output_type": "stream",
     "text": [
      "13 75 118 125 175 213 220 255 285 292 299 395 473 480 580 587 594 704 728 739 765 874 "
     ]
    }
   ],
   "source": [
    "file = open('rosalind/rosalind_subs.txt', 'r')\n",
    "\n",
    "Lines = file.readlines()\n",
    "\n",
    "dna_string = Lines[0].strip()\n",
    "sub_string = Lines[1].strip()\n",
    "\n",
    "found = []\n",
    "\n",
    "k = 0\n",
    "while k < len(dna_string)-3:\n",
    "    current_codon = dna_string[k:k+(len(sub_string))]\n",
    "    if current_codon == sub_string:\n",
    "        found.append(k+1)\n",
    "    k+=1\n",
    "\n",
    "for i in range(len(found)):\n",
    "    print(found[i], end=\" \")"
   ]
  }
 ],
 "metadata": {
  "kernelspec": {
   "display_name": "Python 3",
   "language": "python",
   "name": "python3"
  },
  "language_info": {
   "codemirror_mode": {
    "name": "ipython",
    "version": 3
   },
   "file_extension": ".py",
   "mimetype": "text/x-python",
   "name": "python",
   "nbconvert_exporter": "python",
   "pygments_lexer": "ipython3",
   "version": "3.7.9"
  }
 },
 "nbformat": 4,
 "nbformat_minor": 5
}
