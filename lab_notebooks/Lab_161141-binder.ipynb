{
 "cells": [
  {
   "cell_type": "markdown",
   "id": "rural-dividend",
   "metadata": {
    "tags": []
   },
   "source": [
    "# Лабораториска вежба"
   ]
  },
  {
   "cell_type": "markdown",
   "id": "jewish-origin",
   "metadata": {},
   "source": [
    "**Предмет:** Вовед во биоинформатика <br>\n",
    "**Рок:** 01.07.2021 <br>\n",
    "**Изработил:** Кирил Зеленковски [161141] <br>\n",
    "**OSF извор:** https://osf.io/pc7q9/ <br>\n",
    "[**Google colab тетратка**](https://colab.research.google.com/drive/1awuAkJtHOMPezHostnGHZ8sTpMXEDhCI#scrollTo=packed-professor&uniqifier=2)"
   ]
  },
  {
   "cell_type": "markdown",
   "id": "chief-roller",
   "metadata": {
    "heading_collapsed": "true",
    "tags": []
   },
   "source": [
    "## Барање 1: Парсирање на фајлови"
   ]
  },
  {
   "cell_type": "markdown",
   "id": "measured-pearl",
   "metadata": {},
   "source": [
    "*Да се реализираат примери за парсирање на FASTA и\n",
    "GenBank формати, онака како што е објаснето во поглавје 2.4\n",
    "од туторијалот.*"
   ]
  },
  {
   "cell_type": "markdown",
   "id": "sexual-swaziland",
   "metadata": {},
   "source": [
    "*FASTA* datasets: \n",
    "1. **Setaria italica** strain Yugu1 chromosome VIII, whole genome shotgun sequence <br>\n",
    "ENA: CM003535 [[1]](https://www.ebi.ac.uk/ena/browser/view/CM003535)\n",
    "2. **Variola major virus** (strain Bangladesh-1975) complete genome <br>\n",
    "GenBank: L22579.1 [[2]](https://www.ncbi.nlm.nih.gov/nuccore/L22579.1?report=docsum&log$=seqview)\n",
    "3. **Bovine papular stomatitis virus**, complete genome <br> \n",
    "NCBI Reference Sequence: NC_005337.1 [[3]](https://www.ncbi.nlm.nih.gov/nuccore/NC_005337.1?report=genbank)\n",
    "4. **Homo sapiens hepatitis A virus cellular receptor 1 (HAVCR1)**, transcript variant 1, mRNA <br>\n",
    "NCBI Reference Sequence: NM_012206.3 [[4]](https://www.ncbi.nlm.nih.gov/nuccore/NM_012206.3)"
   ]
  },
  {
   "cell_type": "code",
   "execution_count": 1,
   "id": "combined-student",
   "metadata": {},
   "outputs": [],
   "source": [
    "from Bio import SeqIO"
   ]
  },
  {
   "cell_type": "markdown",
   "id": "rolled-edition",
   "metadata": {
    "tags": []
   },
   "source": [
    "### <u>1:</u> **Setaria italica strain Yugu1 chromosome VIII, whole genome shotgun sequence.**"
   ]
  },
  {
   "cell_type": "code",
   "execution_count": 2,
   "id": "timely-permission",
   "metadata": {},
   "outputs": [
    {
     "name": "stdout",
     "output_type": "stream",
     "text": [
      "ENA|CM003535|CM003535.1\n",
      "Seq('ACAGTCGTCGACACAGGGCGATTCTATAAAACGGGTCTGGAGGCCATTTTCACG...AGG')\n",
      "40689132\n"
     ]
    }
   ],
   "source": [
    "for seq_record in SeqIO.parse(\"fasta-examples/CM003535.1.fasta\", \"fasta\"):\n",
    "    print(seq_record.id)\n",
    "    print(repr(seq_record.seq))\n",
    "    print(len(seq_record))"
   ]
  },
  {
   "cell_type": "markdown",
   "id": "voluntary-civilian",
   "metadata": {
    "tags": []
   },
   "source": [
    "### <u>2:</u> **Variola major virus (strain Bangladesh-1975) complete genome**"
   ]
  },
  {
   "cell_type": "code",
   "execution_count": 3,
   "id": "gothic-stake",
   "metadata": {
    "tags": []
   },
   "outputs": [
    {
     "name": "stdout",
     "output_type": "stream",
     "text": [
      "L22579.1\n",
      "Seq('TAGTTAGATAAATTAATAATACATAAGTTTTAATACATTAATATTATATTATAC...CTT')\n",
      "186103\n"
     ]
    }
   ],
   "source": [
    "for seq_record in SeqIO.parse(\"fasta-examples/variola-major-virus-1.fasta\", \"fasta\"):\n",
    "    print(seq_record.id)\n",
    "    print(repr(seq_record.seq))\n",
    "    print(len(seq_record))"
   ]
  },
  {
   "cell_type": "code",
   "execution_count": 4,
   "id": "acting-transsexual",
   "metadata": {},
   "outputs": [
    {
     "name": "stdout",
     "output_type": "stream",
     "text": [
      "L22579.1\n",
      "Seq('TAGTTAGATAAATTAATAATACATAAGTTTTAATACATTAATATTATATTATAC...CTT')\n",
      "186103\n"
     ]
    }
   ],
   "source": [
    "for seq_record in SeqIO.parse(\"fasta-examples/variola-major-virus-2.gb\", \"genbank\"):\n",
    "    print(seq_record.id)\n",
    "    print(repr(seq_record.seq))\n",
    "    print(len(seq_record))"
   ]
  },
  {
   "cell_type": "markdown",
   "id": "black-property",
   "metadata": {
    "tags": []
   },
   "source": [
    "### <u>3:</u> **Bovine papular stomatitis virus, complete genome**"
   ]
  },
  {
   "cell_type": "code",
   "execution_count": 5,
   "id": "fifth-leeds",
   "metadata": {},
   "outputs": [
    {
     "name": "stdout",
     "output_type": "stream",
     "text": [
      "NC_005337.1\n",
      "Seq('GAACTCGGGAGGCGGTCGTGCGGACGCACGGACGCACGGACGCACGGACGGGCT...TTC')\n",
      "134431\n"
     ]
    }
   ],
   "source": [
    "for seq_record in SeqIO.parse(\"fasta-examples/bovine-papular-stomatitis-virus-1.fasta\", \"fasta\"):\n",
    "    print(seq_record.id)\n",
    "    print(repr(seq_record.seq))\n",
    "    print(len(seq_record))"
   ]
  },
  {
   "cell_type": "code",
   "execution_count": 6,
   "id": "extended-truth",
   "metadata": {},
   "outputs": [
    {
     "name": "stdout",
     "output_type": "stream",
     "text": [
      "NC_005337.1\n",
      "Seq('GAACTCGGGAGGCGGTCGTGCGGACGCACGGACGCACGGACGCACGGACGGGCT...TTC')\n",
      "134431\n"
     ]
    }
   ],
   "source": [
    "for seq_record in SeqIO.parse(\"fasta-examples/bovine-papular-stomatitis-virus-2.gb\", \"genbank\"):\n",
    "    print(seq_record.id)\n",
    "    print(repr(seq_record.seq))\n",
    "    print(len(seq_record))"
   ]
  },
  {
   "cell_type": "markdown",
   "id": "aboriginal-trading",
   "metadata": {
    "tags": []
   },
   "source": [
    "### <u>4:</u> **Homo sapiens hepatitis A virus cellular receptor 1 (HAVCR1), transcript variant 1, mRNA**"
   ]
  },
  {
   "cell_type": "code",
   "execution_count": 7,
   "id": "polish-homework",
   "metadata": {},
   "outputs": [
    {
     "name": "stdout",
     "output_type": "stream",
     "text": [
      "NM_012206.3\n",
      "Seq('GACCAGGAGTCAGTTTGGCGGTTATGTGTGGGGAAGAAGCTGGGAAGTCAGGGG...GAA')\n",
      "1713\n"
     ]
    }
   ],
   "source": [
    "for seq_record in SeqIO.parse(\"fasta-examples/HAVCR1-1.fasta\", \"fasta\"):\n",
    "    print(seq_record.id)\n",
    "    print(repr(seq_record.seq))\n",
    "    print(len(seq_record))"
   ]
  },
  {
   "cell_type": "code",
   "execution_count": 8,
   "id": "micro-ethernet",
   "metadata": {},
   "outputs": [
    {
     "name": "stdout",
     "output_type": "stream",
     "text": [
      "NM_012206.3\n",
      "Seq('GACCAGGAGTCAGTTTGGCGGTTATGTGTGGGGAAGAAGCTGGGAAGTCAGGGG...GAA')\n",
      "1713\n"
     ]
    }
   ],
   "source": [
    "for seq_record in SeqIO.parse(\"fasta-examples/HAVCR1-2.gb\", \"genbank\"):\n",
    "    print(seq_record.id)\n",
    "    print(repr(seq_record.seq))\n",
    "    print(len(seq_record))"
   ]
  },
  {
   "cell_type": "markdown",
   "id": "starting-ability",
   "metadata": {
    "tags": []
   },
   "source": [
    "## Барање 2: Поврзување со различни биолошки бази"
   ]
  },
  {
   "cell_type": "markdown",
   "id": "incomplete-process",
   "metadata": {},
   "source": [
    "*Да се напишат 3 примери за поврзување со различни\n",
    "биолошки бази, како што е опишано во поглавје 2.5 од\n",
    "туторијалот.*"
   ]
  },
  {
   "cell_type": "markdown",
   "id": "departmental-stopping",
   "metadata": {},
   "source": [
    "Од наведените можности за поврзување со различни биолошки бази одлучив да се обидам со: \n",
    "- [**Entrez**](https://www.ncbi.nlm.nih.gov/Web/Search/entrezfs.html)\n",
    "- [**SwissProt**](https://www.uniprot.org/)\n",
    "- [**ExPASy**](https://prosite.expasy.org/)\n",
    "- [**NCBI BLAST web server**](https://blast.ncbi.nlm.nih.gov/Blast.cgi?PROGRAM=blastn&PAGE_TYPE=BlastSearch&LINK_LOC=blasthome)"
   ]
  },
  {
   "cell_type": "markdown",
   "id": "appreciated-reason",
   "metadata": {
    "heading_collapsed": "true",
    "tags": []
   },
   "source": [
    "### <u> 1 Пример:</u> Со користење на **Entrez** "
   ]
  },
  {
   "cell_type": "code",
   "execution_count": 9,
   "id": "dimensional-laundry",
   "metadata": {},
   "outputs": [],
   "source": [
    "from Bio import Entrez\n",
    "Entrez.email = \"zelenkastiot@gmail.com\"  \n",
    "handle = Entrez.efetch(db=\"nucleotide\", id=\"EU490707\", rettype=\"gb\", retmode=\"text\")\n",
    "record = SeqIO.read(handle, \"genbank\")"
   ]
  },
  {
   "cell_type": "code",
   "execution_count": 10,
   "id": "affected-examination",
   "metadata": {
    "scrolled": true,
    "tags": []
   },
   "outputs": [
    {
     "name": "stdout",
     "output_type": "stream",
     "text": [
      "ID: EU490707.1\n",
      "Name: EU490707\n",
      "Description: Selenipedium aequinoctiale maturase K (matK) gene, partial cds; chloroplast\n",
      "Number of features: 3\n",
      "/molecule_type=DNA\n",
      "/topology=linear\n",
      "/data_file_division=PLN\n",
      "/date=26-JUL-2016\n",
      "/accessions=['EU490707']\n",
      "/sequence_version=1\n",
      "/keywords=['']\n",
      "/source=chloroplast Selenipedium aequinoctiale\n",
      "/organism=Selenipedium aequinoctiale\n",
      "/taxonomy=['Eukaryota', 'Viridiplantae', 'Streptophyta', 'Embryophyta', 'Tracheophyta', 'Spermatophyta', 'Magnoliopsida', 'Liliopsida', 'Asparagales', 'Orchidaceae', 'Cypripedioideae', 'Selenipedium']\n",
      "/references=[Reference(title='Phylogenetic utility of ycf1 in orchids: a plastid gene more variable than matK', ...), Reference(title='Direct Submission', ...)]\n",
      "Seq('ATTTTTTACGAACCTGTGGAAATTTTTGGTTATGACAATAAATCTAGTTTAGTA...GAA')\n"
     ]
    }
   ],
   "source": [
    "print(record)"
   ]
  },
  {
   "cell_type": "code",
   "execution_count": 11,
   "id": "partial-brazil",
   "metadata": {},
   "outputs": [
    {
     "name": "stdout",
     "output_type": "stream",
     "text": [
      "EU490707.1\n",
      "Selenipedium aequinoctiale maturase K (matK) gene, partial cds; chloroplast\n",
      "3\n"
     ]
    }
   ],
   "source": [
    "print(record.id)\n",
    "print(record.description)\n",
    "print(len(record.features))"
   ]
  },
  {
   "cell_type": "code",
   "execution_count": 12,
   "id": "potential-pavilion",
   "metadata": {},
   "outputs": [
    {
     "data": {
      "text/plain": [
       "Seq('ATTTTTTACGAACCTGTGGAAATTTTTGGTTATGACAATAAATCTAGTTTAGTA...GAA')"
      ]
     },
     "execution_count": 12,
     "metadata": {},
     "output_type": "execute_result"
    }
   ],
   "source": [
    "record.seq"
   ]
  },
  {
   "cell_type": "markdown",
   "id": "structural-montana",
   "metadata": {
    "heading_collapsed": "true",
    "tags": []
   },
   "source": [
    "### <u> 2 Пример:</u> Со користење на **SwissProt** "
   ]
  },
  {
   "cell_type": "code",
   "execution_count": 13,
   "id": "cardiac-swaziland",
   "metadata": {},
   "outputs": [],
   "source": [
    "from Bio import SwissProt\n",
    "from urllib.request import urlopen\n",
    "url = \"https://raw.githubusercontent.com/biopython/biopython/master/Tests/SwissProt/F2CXE6.txt\"\n",
    "handle = urlopen(url)\n",
    "record = SwissProt.read(handle)"
   ]
  },
  {
   "cell_type": "code",
   "execution_count": 14,
   "id": "danish-clothing",
   "metadata": {},
   "outputs": [
    {
     "name": "stdout",
     "output_type": "stream",
     "text": [
      "SubName: Full=Plasma membrane intrinsic protein {ECO:0000313|EMBL:BAN04711.1}; SubName: Full=Predicted protein {ECO:0000313|EMBL:BAJ87517.1};\n"
     ]
    }
   ],
   "source": [
    "print(record.description)"
   ]
  },
  {
   "cell_type": "code",
   "execution_count": 15,
   "id": "magnetic-battery",
   "metadata": {},
   "outputs": [
    {
     "data": {
      "text/plain": [
       "'MTMAAAQGKLSPDAIDNEVISNGSAKDYLDPPPAPLVDAGELGKWSLYRAVIAEFTATLLFVYVAVATVVGHKRQTDAQACSGAGVLGIAWAFGGTIAVLVYCTAGISGGHINPAVTFGLLLARKVSLPRAFLYMVAQCVGAICGAALVRAVHGGHHYALYGGGANELAPGYSRMAGLIAEIAGTFVLVYTVFSATDPKRIARDPHVPVLAPLLIGFSVLMAHLATIPVTGTGINPARSFGAAVVYNNKKAWGDQWIFWVGPFIGSAVAMVYHQYVLRNSAIFRSNYDAAV'"
      ]
     },
     "execution_count": 15,
     "metadata": {},
     "output_type": "execute_result"
    }
   ],
   "source": [
    "record.sequence"
   ]
  },
  {
   "cell_type": "markdown",
   "id": "persistent-looking",
   "metadata": {
    "tags": []
   },
   "source": [
    "### <u>3 Пример:</u> Со користење на **ExPASy**"
   ]
  },
  {
   "cell_type": "code",
   "execution_count": 16,
   "id": "placed-allen",
   "metadata": {
    "scrolled": true,
    "tags": []
   },
   "outputs": [
    {
     "data": {
      "text/html": [
       "<!DOCTYPE HTML PUBLIC \"-//W3C//DTD HTML 4.01 Transitional//EN\" \"http://www.w3.org/TR/html4/loose.dtd\">\n",
       "<html lang=\"en-US\" prefix=\"bioschema: https://bioschemas.org/\">\n",
       "  <head>\n",
       "    <meta http-equiv=\"Content-Type\" content=\"text/html;charset=iso-8859-1\"><!-- automatically added by Apache -->\n",
       "<script type=\"application/ld+json\">{\n",
       "\t\t\"@context\" : [ \"https://schema.org/\" ],\n",
       "\t\t\"@type\" : \"Organization\",\n",
       "\t\t\"url\" : \"https://prosite.expasy.org\",\n",
       "  \t\t\"name\": \"PROSITE\"\n",
       "\t\t, \"logo\": \"https://prosite.expasy.org//images/prosite/prosite.gif\"\n",
       "\t\t, \"memberof\" : {\n",
       "\t\t\t\t\"@type\" : \"NGO\",\n",
       "\t\t\t\t\"name\"  : \"SIB Swiss Institute of Bioinformatics\",\n",
       "\t\t\t\t\"url\"   : \"https://sib.swiss/\"\n",
       "\t\t\t        }\n",
       "\t\t, \"parentOrganization\" : \n",
       "\t\t\t\t{\n",
       "\t\t\t\t\"@type\" : \"Organization\",\n",
       "                                \"name\"  : \"ExPASy\",\n",
       "                                \"url\"   : \"https://www.expasy.org/\"\n",
       "\t\t\t\t}\n",
       "\t\t}</script><!-- automatically added by Apache -->\n",
       "    <link rel=\"icon\" href=\"https://web.expasy.org/favicon.ico\" ><!-- automatically added by Apache -->\n",
       "\n",
       "\t<link rel=\"stylesheet\" href=\"/css/sib_css/sib.css\" type=\"text/css\" media=\"screen\" charset=\"utf-8\">\n",
       "\t<link rel=\"stylesheet\" href=\"/css/sib_css/sib_print.css\" type=\"text/css\" media=\"print\" charset=\"utf-8\">\n",
       "\t<!--[if lte IE 6]>\n",
       "\t\t<link rel=\"stylesheet\" href=\"/css/sib_css/sib_ie6.css\" type=\"text/css\" media=\"screen\" title=\"\" charset=\"utf-8\">\n",
       "\t<![endif]-->\n",
       "    <!-- automatically added by Apache -->\n",
       "\n",
       "\t<style type=\"text/css\">\n",
       "\t\t.bg-neutral-100 {\n",
       "\t\t\t--bg-opacity: 1;\n",
       "\t\t\t/* not the same as expasy-global.css anymore */\n",
       "\t\t\tbackground-color: #e1e1e1;\n",
       "\t\t\tbackground-color: rgba(225, 225, 225, var);\n",
       "\t\t}\n",
       "\t\t.container {\n",
       "\t\t\tfont-family: Helvetica; /* not in expasy-global.css, same as sib_body */\n",
       "\t\t\tmargin-left: auto;\n",
       "\t\t\tmargin-right: auto;\n",
       "\t\t\tpadding-left: 1rem;\n",
       "\t\t\tpadding-right: 1rem;\n",
       "\t\t\tmax-width: 1440px;\n",
       "\t\t}\n",
       "\t\t.flex {\n",
       "\t\t\tdisplay: -webkit-box;\n",
       "\t\t\tdisplay: -ms-flexbox;\n",
       "\t\t\tdisplay: flex;\n",
       "\t\t}\n",
       "\t\t.flex-1 {\n",
       "\t\t\t-webkit-box-flex: 1;\n",
       "\t\t\t-ms-flex: 1 1 0%;\n",
       "\t\t\tflex: 1 1 0%;\n",
       "\t\t}\n",
       "\t\t.icon {\n",
       "\t\t\tdisplay: inline-block;\n",
       "\t\t\tvertical-align: middle;\n",
       "\t\t\tpointer-events: none;\n",
       "\t\t\tfill: currentColor;\n",
       "\t\t\twill-change: transform;\n",
       "\t\t}\n",
       "\t\t.icon--sib-mark {\n",
       "\t\t\twidth: 36px;\n",
       "\t\t\theight: 27px;\n",
       "\t\t}\n",
       "\t\t.inline-block {\n",
       "\t\t\tdisplay: inline-block;\n",
       "\t\t}\n",
       "\t\t.max-w-sm {\n",
       "\t\t\tmax-width: 24rem;\n",
       "\t\t}\n",
       "\t\t.mb-2 {\n",
       "\t\t\tmargin-bottom: 0.5rem;\n",
       "\t\t}\n",
       "\t\t.mb-8 {\n",
       "\t\t\tmargin-bottom: 2rem;\n",
       "\t\t}\n",
       "\t\t.nav__link {\n",
       "\t\t\tpadding-top: 1rem;\n",
       "\t\t\tpadding-bottom: 1rem;\n",
       "\t\t\tdisplay: inline-block;\n",
       "\t\t\tfont-family: Source Sans pro, Arial, sans-serif;\n",
       "\t\t\t--text-opacity: 1;\n",
       "\t\t\tcolor: #313233;\n",
       "\t\t\tcolor: rgba(49, 50, 51, var);\n",
       "\t\t\ttext-decoration: none;\n",
       "\t\t\t-webkit-transition: background 0.1s ease-in-out;\n",
       "\t\t\ttransition: background 0.1s ease-in-out;\n",
       "\t\t}\n",
       "\t\t/* Not in expasy-styling/css/ */\n",
       "\t\t.pb-4 {\n",
       "\t\t\tpadding-bottom: 1rem;\n",
       "\t\t}\n",
       "\t\t.pb-8 {\n",
       "\t\t\tpadding-bottom: 2rem;\n",
       "\t\t}\n",
       "\t\t.pt-4 {\n",
       "\t \t\tpadding-top: 1rem;\n",
       "\t\t}\n",
       "\t\t.pt-6 {\n",
       "\t \t\tpadding-top: 1.5rem;\n",
       "\t\t}\n",
       "\t\t.pt-8 {\n",
       "\t\t\tpadding-top: 2rem;\n",
       "\t\t}\n",
       "\t\t.text-neutral-700 {\n",
       "\t\t\t--text-opacity: 1;\n",
       "\t\t\t/* not the same as expasy-global.css anymore */\n",
       "\t\t\tcolor: #313233;\n",
       "\t\t\tcolor: rgba(49, 50, 51, var);\n",
       "\t\t}\n",
       "\t\t.text-sm {\n",
       "\t\t\tfont-size: 0.875rem;\n",
       "\t\t}\n",
       "\t\t@media (min-width: 480px) {\n",
       "\t\t\t.sm\\:items-center {\n",
       "\t\t\t\t-webkit-box-align: center;\n",
       "\t\t\t\t-ms-flex-align: center;\n",
       "\t\t\t\talign-items: center;\n",
       "\t\t\t}\n",
       "\t\t\t.sm\\:mt-12 {\n",
       "\t\t\t\tmargin-top: 3rem;\n",
       "\t\t\t}\n",
       "\t\t\t.sm\\:w-1\\/2 {\n",
       "\t\t\t\twidth: 50%;\n",
       "\t\t\t}\n",
       "\t\t}\n",
       "\t\t@media (min-width: 480px) {\n",
       "\t\t\t.container {\n",
       "\t\t\t\tpadding-left: 1.5rem;\n",
       "\t\t\t\tpadding-right: 1.5rem;\n",
       "\t\t\t}\n",
       "\t\t}\n",
       "\t\t@media (max-width: 767px) {\n",
       "\t\t\t.max-sm\\:hidden {\n",
       "\t\t\t\tdisplay: none;\n",
       "\t\t\t}\n",
       "\t\t\t.max-sm\\:flex-col {\n",
       "\t\t\t\t-webkit-box-orient: vertical;\n",
       "\t\t\t\t-webkit-box-direction: normal;\n",
       "\t\t\t\t-ms-flex-direction: column;\n",
       "\t\t\t\tflex-direction: column;\n",
       "\t\t\t}\n",
       "\t\t\t.max-sm\\:text-center {\n",
       "\t\t\t\ttext-align: center;\n",
       "\t\t\t}\n",
       "\t\t\t.max-sm\\:w-full {\n",
       "\t\t\t\twidth: 100%;\n",
       "\t\t\t}\n",
       "\t\t}\n",
       "\t\t@media (max-width: 767px) {\n",
       "\t\t\t.nav {\n",
       "\t\t\t\twidth: 100%;\n",
       "\t\t\t\tdisplay: -webkit-box;\n",
       "\t\t\t\tdisplay: -ms-flexbox;\n",
       "\t\t\t\tdisplay: flex;\n",
       "\t\t\t\t-webkit-box-pack: justify;\n",
       "\t\t\t\t-ms-flex-pack: justify;\n",
       "\t\t\t\tjustify-content: space-between;\n",
       "\t\t\t}\n",
       "\t\t}\n",
       "\t\t@media (min-width: 768px) {\n",
       "\t\t\t.md\\:inline-block {\n",
       "\t\t\t\tdisplay: inline-block;\n",
       "\t\t\t}\n",
       "\t\t\t.md\\:flex {\n",
       "\t\t\t\tdisplay: -webkit-box;\n",
       "\t\t\t\tdisplay: -ms-flexbox;\n",
       "\t\t\t\tdisplay: flex;\n",
       "\t\t\t}\n",
       "\t\t\t.md\\:hidden {\n",
       "\t\t\t\tdisplay: none;\n",
       "\t\t\t}\n",
       "\t\t\t.md\\:items-center {\n",
       "\t\t\t\t-webkit-box-align: center;\n",
       "\t\t\t\t-ms-flex-align: center;\n",
       "\t\t\t\talign-items: center;\n",
       "\t\t\t}\n",
       "\t\t\t.md\\:flex-1 {\n",
       "\t\t\t\t-webkit-box-flex: 1;\n",
       "\t\t\t\t-ms-flex: 1 1 0%;\n",
       "\t\t\t\tflex: 1 1 0%;\n",
       "\t\t\t}\n",
       "\t\t\t.md\\:mb-0 {\n",
       "\t\t\t\tmargin-bottom: 0;\n",
       "\t\t\t}\n",
       "\t\t\t.md\\:mr-2 {\n",
       "\t\t\t\tmargin-right: 0.5rem;\n",
       "\t\t\t}\n",
       "\t\t\t.md\\:max-w-3xl {\n",
       "\t\t\t\tmax-width: 48rem;\n",
       "\t\t\t}\n",
       "\t\t\t.md\\:pr-12 {\n",
       "\t\t\t\tpadding-right: 3rem;\n",
       "\t\t\t}\n",
       "\t\t\t.md\\:w-1\\/2 {\n",
       "\t\t\t\twidth: 50%;\n",
       "\t\t\t}\n",
       "\t\t\t.md\\:w-1\\/3 {\n",
       "\t\t\t\twidth: 33.333333%;\n",
       "\t\t\t}\n",
       "\t\t\t.md\\:w-2\\/3 {\n",
       "\t\t\t\twidth: 66.666667%;\n",
       "\t\t\t}\n",
       "\t\t}\n",
       "\t\t@media (min-width: 768px) {\n",
       "\t\t\t.nav__link {\n",
       "\t\t\t\tpadding: 1.5rem 1rem 0.75rem;\n",
       "\t\t\t}\n",
       "\t\t\t.nav__link.nuxt-link-exact-active, .nav__link:focus, .nav__link:hover {\n",
       "\t\t\t\t--text-opacity: 1;\n",
       "\t\t\t\tcolor: #313233;\n",
       "\t\t\t\tcolor: rgba(49, 50, 51, var);\n",
       "\t\t\t\t--bg-opacity: 1;\n",
       "\t\t\t\tbackground-color: #e1e1e1;\n",
       "\t\t\t\tbackground-color: rgba(225, 225, 225, var);\n",
       "\t\t\t}\n",
       "\t\t}\n",
       "\t\t@media (min-width: 768px) {\n",
       "\t\t\t.container {\n",
       "\t\t\t\tpadding-left: 2rem;\n",
       "\t\t\t\tpadding-right: 2rem;\n",
       "\t\t\t}\n",
       "\t\t}\n",
       "    </style><!-- automatically added by Apache -->\n",
       "<link rel=\"stylesheet\" href=\"/css/unirule.css\" type=\"text/css\">\n",
       "\t<title>PROSITE: PS51092</title>\n",
       "  </head>\n",
       "  <body  typeof=\"schema:WebPage\"> \n",
       "<div id=\"sib_top\"><a name=\"top\"></a></div>\n",
       "<!-- start of sib_container -->\n",
       "<div id=\"sib_container\">\n",
       "\t<!-- start of sib_header_small -->\n",
       "\t<div id=\"sib_header_small\">\n",
       "\t\t<div id=\"sib_expasy_logo\" property=\"schema:isPartOf\" typeof=\"schema:CreativeWork\" >\n",
       "\t\t\t<a property=\"schema:url\" href=\"https://www.expasy.org\" id=\"expasy_link\" title=\"Expasy - SIB Bioinformatics Resource Portal\"></a>\n",
       "\t\t</div>\n",
       "\t\t<div class=\"sib_title_no_logo\">\n",
       "\t\t\t<h1><a href=\"https://prosite.expasy.org\">PROSITE</a></h1>\n",
       "\t\t</div>\n",
       "\t\t<div id=\"resource_header\"></div>\n",
       "\t\t<div id=\"sib_header_nav\">\n",
       "\t\t\t<a property=\"\" href=\"https://prosite.expasy.org\" title=\"Home page\">Home</a>\n",
       "\t\t\t&nbsp;|&nbsp;\n",
       "\t\t\t<a style=\"font-weight: bold; color: rgb(204,0,0) !important;\" href=\"/contact\" title=\"Contact\">Contact</a>\n",
       "\t\t</div>\n",
       "\t</div>\n",
       "\t<!-- end of sib_header_small, start of sib_body -->\n",
       "\t<div id=\"sib_body\">\n",
       "<!-- automatically added by Apache -->\n",
       "<h1>PROSITE: PS51092</h1>\n",
       "<pre>ID   FN2_2; MATRIX.\n",
       "AC   PS51092;\n",
       "DT   01-MAR-2005 CREATED; 01-OCT-2013 DATA UPDATE; 10-FEB-2021 INFO UPDATE.\n",
       "DE   Fibronectin type-II collagen-binding domain profile.\n",
       "MA   /GENERAL_SPEC: ALPHABET='ABCDEFGHIKLMNPQRSTVWYZ'; LENGTH=49;\n",
       "MA   /DISJOINT: DEFINITION=PROTECT; N1=5; N2=45;\n",
       "MA   /NORMALIZATION: MODE=1; FUNCTION=LINEAR; R1=2.2742712; R2=0.0110785; TEXT='NScore';\n",
       "MA   /CUT_OFF: LEVEL=0; SCORE=788; N_SCORE=11.0; MODE=1; TEXT='R';\n",
       "MA   /CUT_OFF: LEVEL=-1; SCORE=562; N_SCORE=8.5; MODE=1; TEXT='R?';\n",
       "MA   /DEFAULT: M0=-9; D=-20; I=-20; B1=-200; E1=-200; MI=-105; MD=-105; IM=-105; DM=-105;\n",
       "MA   /I: B1=0; BI=-105; BD=-105;\n",
       "MA   /M: SY='S'; M=8,-2,-17,-2,3,-19,-7,-13,-15,-7,-18,-14,-1,-9,-3,-12,14,6,-8,-30,-17,0;\n",
       "MA   /M: SY='D'; M=-8,12,-25,15,10,-20,-11,1,-23,-3,-19,-14,8,-9,2,-7,1,-4,-21,-28,-11,5;\n",
       "MA   /M: SY='G'; M=-5,-3,-29,-1,-11,-26,42,-10,-35,-12,-27,-18,1,-18,-13,-13,-1,-16,-27,-19,-17,-13;\n",
       "MA   /M: SY='E'; M=-1,6,-27,9,18,-28,-11,-6,-25,9,-22,-15,2,0,7,2,-1,-8,-22,-27,-18,12;\n",
       "MA   /M: SY='P'; M=-6,-14,-31,-10,0,-22,-15,-15,-18,-1,-19,-12,-13,35,-6,-6,-7,-7,-21,-25,-19,-6;\n",
       "MA   /M: SY='C'; M=-10,-20,120,-30,-30,-20,-30,-30,-30,-30,-20,-20,-20,-40,-30,-30,-10,-10,-10,-50,-30,-30;\n",
       "MA   /M: SY='V'; M=-3,-17,-20,-18,-12,-10,-25,-4,6,-6,-3,3,-14,-21,-11,-8,-9,-6,14,-26,-5,-13;\n",
       "MA   /M: SY='F'; M=-19,-30,-20,-39,-29,74,-30,-20,3,-30,12,2,-21,-30,-38,-20,-21,-10,1,8,28,-29;\n",
       "MA   /M: SY='P'; M=-10,-20,-40,-10,0,-30,-20,-20,-20,-10,-30,-20,-20,90,-10,-20,-10,-10,-30,-30,-30,-10;\n",
       "MA   /M: SY='F'; M=-18,-28,-20,-37,-28,73,-28,-19,-1,-29,7,-1,-18,-29,-37,-19,-16,-8,-1,7,28,-28;\n",
       "MA   /M: SY='I'; M=-4,-14,-21,-19,-12,-10,-25,-18,8,-7,2,4,-10,-18,-7,-8,-7,3,8,-24,-7,-11;\n",
       "MA   /M: SY='Y'; M=-19,-25,-26,-29,-25,47,-31,1,4,-20,5,2,-20,-29,-23,-15,-20,-10,-2,17,52,-25;\n",
       "MA   /M: SY='R'; M=-12,3,-27,2,5,-23,-9,2,-23,10,-17,-8,6,-16,10,14,-5,-10,-22,-24,-10,6;\n",
       "MA   /M: SY='G'; M=-2,0,-28,-3,-12,-28,46,-13,-34,-12,-28,-19,10,-19,-12,-10,2,-15,-28,-24,-26,-12;\n",
       "MA   /M: SY='R'; M=-11,1,-26,-1,6,-21,-19,2,-22,17,-21,-9,4,-14,9,19,-3,-4,-18,-24,-7,6;\n",
       "MA   /M: SY='T'; M=-4,-6,-22,-9,-2,-14,-16,-13,-12,-4,-13,-9,-3,-15,-2,-5,3,4,-10,-10,-8,-1;\n",
       "MA   /M: SY='Y'; M=-19,-18,-29,-19,-18,24,-29,25,-2,-13,-1,1,-16,-28,-10,-10,-18,-11,-9,16,62,-18;\n",
       "MA   /M: SY='H'; M=-12,2,-24,2,-2,-1,-17,15,-18,-8,-15,-10,3,-18,-3,-6,0,-3,-17,-17,11,-3;\n",
       "MA   /M: SY='D'; M=-3,13,-21,18,10,-27,-3,-7,-26,-1,-25,-19,9,-10,1,-6,14,4,-19,-34,-19,5;\n",
       "MA   /M: SY='C'; M=-10,-20,118,-30,-30,-20,-30,-30,-30,-29,-20,-20,-20,-40,-30,-29,-10,-10,-10,-50,-30,-30;\n",
       "MA   /M: SY='T'; M=-3,-11,-16,-20,-17,-6,-26,-22,9,-16,1,1,-8,-14,-13,-16,6,29,10,-27,-7,-16;\n",
       "MA   /M: SY='T'; M=-4,-5,-19,-6,0,-14,-18,-4,-14,-2,-12,-8,-2,-14,-1,2,7,11,-7,-28,-9,-1;\n",
       "MA   /M: SY='E'; M=-9,11,-26,17,25,-28,-13,1,-27,4,-21,-17,4,-8,9,-2,3,-3,-23,-30,-15,16;\n",
       "MA   /M: SY='G'; M=-5,0,-29,1,-6,-29,44,-11,-37,-12,-28,-20,6,-17,-11,-11,0,-16,-30,-24,-25,-9;\n",
       "MA   /M: SY='R'; M=-8,0,-23,1,3,-23,-12,-3,-27,12,-25,-15,5,-15,8,29,9,1,-18,-29,-14,4;\n",
       "MA   /I: I=-6; MD=-29;\n",
       "MA   /M: SY='E'; M=-5,2,-15,2,4,-9,-8,0,-15,-2,-13,-9,3,-6,1,-1,3,0,-12,-17,-7,2; D=-6;\n",
       "MA   /I: I=-6; MD=-29;\n",
       "MA   /M: SY='D'; M=-9,18,-17,26,6,-16,-3,-3,-19,-4,-13,-14,7,-8,-3,-7,0,-5,-15,-20,-10,2; D=-6;\n",
       "MA   /I: I=-6; MI=-29; IM=-29; DM=-29;\n",
       "MA   /M: SY='G'; M=-3,-8,-25,-11,-15,-14,23,-13,-21,-15,-15,-12,1,-17,-16,-14,-3,-11,-17,-21,-17,-16;\n",
       "MA   /I: I=-6; MD=-32;\n",
       "MA   /M: SY='Y'; M=-13,-13,-26,-15,-8,0,-21,1,-11,3,-7,-1,-10,-20,-2,6,-12,-9,-12,-1,13,-6; D=-6;\n",
       "MA   /I: I=-6; MI=-32; IM=-32; DM=-32;\n",
       "MA   /M: SY='L'; M=-11,-22,-28,-19,-10,-8,-25,-13,-3,-10,10,3,-20,5,-10,-3,-19,-10,-8,-22,-8,-12;\n",
       "MA   /M: SY='W'; M=-19,-36,-48,-35,-23,7,-20,-28,-21,-18,-20,-20,-37,-28,-17,-18,-37,-28,-30,136,26,-15;\n",
       "MA   /M: SY='C'; M=-10,-20,120,-30,-30,-20,-30,-30,-30,-30,-20,-20,-20,-40,-30,-30,-10,-10,-10,-50,-30,-30;\n",
       "MA   /M: SY='A'; M=27,-7,-13,-11,-6,-21,3,-16,-16,-11,-20,-15,-2,-5,-7,-16,20,6,-8,-28,-21,-7;\n",
       "MA   /M: SY='T'; M=-2,-8,-12,-16,-14,-6,-23,-21,0,-14,1,-3,-8,-15,-14,-13,9,34,8,-28,-8,-14;\n",
       "MA   /M: SY='T'; M=-3,1,-13,-6,-8,-12,-20,-18,-11,-8,-11,-10,1,-11,-8,-6,16,40,-2,-30,-10,-9;\n",
       "MA   /M: SY='A'; M=7,-4,-20,-4,4,-18,-10,-8,-16,-7,-15,-12,-5,-3,-1,-11,7,2,-13,-24,-10,0;\n",
       "MA   /M: SY='N'; M=-10,28,-22,25,4,-23,-8,1,-22,-1,-25,-19,29,-16,-2,-3,7,-1,-20,-36,-16,1;\n",
       "MA   /M: SY='Y'; M=-19,-23,-28,-26,-23,40,-29,7,1,-15,3,3,-21,-29,-17,-13,-21,-11,-7,26,61,-22;\n",
       "MA   /M: SY='D'; M=-14,32,-27,44,19,-33,-9,-1,-32,0,-26,-22,15,-10,4,-7,3,-7,-25,-36,-19,12;\n",
       "MA   /M: SY='R'; M=-8,-2,-27,-2,6,-23,-1,-6,-25,9,-21,-11,1,-14,5,10,-2,-7,-21,-22,-12,4;\n",
       "MA   /I: I=-6; MD=-29;\n",
       "MA   /M: SY='D'; M=-15,37,-23,49,15,-30,-8,0,-30,2,-24,-22,17,-8,1,-6,0,-7,-23,-31,-15,8; D=-6;\n",
       "MA   /I: I=-6; MI=-29; MD=-29; IM=-29; DM=-29;\n",
       "MA   /M: SY='Q'; M=-7,-2,-24,-2,6,-24,1,-1,-23,10,-19,-8,0,-11,14,9,-3,-10,-20,-16,-10,9; D=-6;\n",
       "MA   /I: I=-6; DM=-29;\n",
       "MA   /M: SY='K'; M=-9,-2,-27,-2,8,-27,-17,-6,-25,28,-22,-8,0,-13,15,24,-5,-7,-20,-22,-11,11;\n",
       "MA   /M: SY='W'; M=-20,-34,-42,-34,-27,21,-24,-15,-13,-18,-12,-13,-33,-30,-19,-17,-33,-23,-22,106,44,-21;\n",
       "MA   /M: SY='G'; M=0,-6,-26,-6,-8,-28,31,-15,-33,1,-29,-17,1,-16,-8,-2,4,-10,-23,-23,-22,-8;\n",
       "MA   /M: SY='F'; M=-19,-25,-24,-31,-23,53,-30,-7,2,-22,7,1,-19,-28,-26,-16,-19,-10,-3,12,41,-23;\n",
       "MA   /M: SY='C'; M=-10,-20,120,-30,-30,-20,-30,-30,-30,-30,-20,-20,-20,-40,-30,-30,-10,-10,-10,-50,-30,-30;\n",
       "MA   /M: SY='P'; M=-2,-14,-27,-12,-1,-19,-19,-16,-12,-7,-11,-8,-14,26,-6,-9,-6,-1,-13,-26,-18,-6;\n",
       "MA   /M: SY='D'; M=-5,7,-21,9,9,-20,-15,-1,-17,-5,-15,-11,3,-11,3,-8,3,-1,-15,-28,-10,5;\n",
       "MA   /I: E1=0; IE=-105; DE=-105;\n",
       "NR   /RELEASE=2021_01,564277;\n",
       "NR   /TOTAL=112(62); /POSITIVE=112(62); /UNKNOWN=0(0); /FALSE_POS=0(0);\n",
       "NR   /FALSE_NEG=0; /PARTIAL=1;\n",
       "CC   /MATRIX_TYPE=protein_domain;\n",
       "CC   /SCALING_DB=window20;\n",
       "CC   /AUTHOR=N_Hulo;\n",
       "CC   /TAXO-RANGE=??E??; /MAX-REPEAT=4;\n",
       "CC   /FT_KEY=DOMAIN; /FT_DESC=Fibronectin type-II;\n",
       "CC   /VERSION=4;\n",
       "DR   <a href=\"https://www.uniprot.org/uniprot/Q075Z2   \">Q075Z2   </a>, BSPH1_HUMAN, T; <a href=\"https://www.uniprot.org/uniprot/Q3UW26    \">Q3UW26    </a>, BSPH1_MOUSE, T; <br/>DR   <a href=\"https://www.uniprot.org/uniprot/Q0Q236   \">Q0Q236   </a>, BSPH2_MOUSE, T; <a href=\"https://www.uniprot.org/uniprot/Q9GL25    \">Q9GL25    </a>, ESPB1_CANLF, T; <br/>DR   <a href=\"https://www.uniprot.org/uniprot/Q96BH3   \">Q96BH3   </a>, ESPB1_HUMAN, T; <a href=\"https://www.uniprot.org/uniprot/Q7YR83    \">Q7YR83    </a>, ESPB1_PIG  , T; <br/>DR   <a href=\"https://www.uniprot.org/uniprot/P98140   \">P98140   </a>, FA12_BOVIN , T; <a href=\"https://www.uniprot.org/uniprot/Q04962    \">Q04962    </a>, FA12_CAVPO , T; <br/>DR   <a href=\"https://www.uniprot.org/uniprot/P00748   \">P00748   </a>, FA12_HUMAN , T; <a href=\"https://www.uniprot.org/uniprot/Q80YC5    \">Q80YC5    </a>, FA12_MOUSE , T; <br/>DR   <a href=\"https://www.uniprot.org/uniprot/O97507   \">O97507   </a>, FA12_PIG   , T; <a href=\"https://www.uniprot.org/uniprot/D3ZTE0    \">D3ZTE0    </a>, FA12_RAT   , T; <br/>DR   <a href=\"https://www.uniprot.org/uniprot/P07589   \">P07589   </a>, FINC_BOVIN , T; <a href=\"https://www.uniprot.org/uniprot/Q28275    \">Q28275    </a>, FINC_CANLF , T; <br/>DR   <a href=\"https://www.uniprot.org/uniprot/P11722   \">P11722   </a>, FINC_CHICK , T; <a href=\"https://www.uniprot.org/uniprot/Q28377    \">Q28377    </a>, FINC_HORSE , T; <br/>DR   <a href=\"https://www.uniprot.org/uniprot/P02751   \">P02751   </a>, FINC_HUMAN , T; <a href=\"https://www.uniprot.org/uniprot/P11276    \">P11276    </a>, FINC_MOUSE , T; <br/>DR   <a href=\"https://www.uniprot.org/uniprot/Q91400   \">Q91400   </a>, FINC_NOTVI , T; <a href=\"https://www.uniprot.org/uniprot/Q28749    \">Q28749    </a>, FINC_RABIT , T; <br/>DR   <a href=\"https://www.uniprot.org/uniprot/P04937   \">P04937   </a>, FINC_RAT   , T; <a href=\"https://www.uniprot.org/uniprot/Q91740    \">Q91740    </a>, FINC_XENLA , T; <br/>DR   <a href=\"https://www.uniprot.org/uniprot/Q6QNF4   \">Q6QNF4   </a>, HGFA_CANLF , T; <a href=\"https://www.uniprot.org/uniprot/Q04756    \">Q04756    </a>, HGFA_HUMAN , T; <br/>DR   <a href=\"https://www.uniprot.org/uniprot/Q9R098   \">Q9R098   </a>, HGFA_MOUSE , T; <a href=\"https://www.uniprot.org/uniprot/O60449    \">O60449    </a>, LY75_HUMAN , T; <br/>DR   <a href=\"https://www.uniprot.org/uniprot/Q920P9   \">Q920P9   </a>, LY75_MESAU , T; <a href=\"https://www.uniprot.org/uniprot/Q60767    \">Q60767    </a>, LY75_MOUSE , T; <br/>DR   <a href=\"https://www.uniprot.org/uniprot/Q9GLE5   \">Q9GLE5   </a>, MMP2_BOVIN , T; <a href=\"https://www.uniprot.org/uniprot/Q90611    \">Q90611    </a>, MMP2_CHICK , T; <br/>DR   <a href=\"https://www.uniprot.org/uniprot/P08253   \">P08253   </a>, MMP2_HUMAN , T; <a href=\"https://www.uniprot.org/uniprot/P33434    \">P33434    </a>, MMP2_MOUSE , T; <br/>DR   <a href=\"https://www.uniprot.org/uniprot/P50757   \">P50757   </a>, MMP2_RABIT , T; <a href=\"https://www.uniprot.org/uniprot/P33436    \">P33436    </a>, MMP2_RAT   , T; <br/>DR   <a href=\"https://www.uniprot.org/uniprot/P52176   \">P52176   </a>, MMP9_BOVIN , T; <a href=\"https://www.uniprot.org/uniprot/O18733    \">O18733    </a>, MMP9_CANLF , T; <br/>DR   <a href=\"https://www.uniprot.org/uniprot/P14780   \">P14780   </a>, MMP9_HUMAN , T; <a href=\"https://www.uniprot.org/uniprot/P41245    \">P41245    </a>, MMP9_MOUSE , T; <br/>DR   <a href=\"https://www.uniprot.org/uniprot/P41246   \">P41246   </a>, MMP9_RABIT , T; <a href=\"https://www.uniprot.org/uniprot/P50282    \">P50282    </a>, MMP9_RAT   , T; <br/>DR   <a href=\"https://www.uniprot.org/uniprot/P08169   \">P08169   </a>, MPRI_BOVIN , T; <a href=\"https://www.uniprot.org/uniprot/P11717    \">P11717    </a>, MPRI_HUMAN , T; <br/>DR   <a href=\"https://www.uniprot.org/uniprot/Q07113   \">Q07113   </a>, MPRI_MOUSE , T; <a href=\"https://www.uniprot.org/uniprot/P22897    \">P22897    </a>, MRC1_HUMAN , T; <br/>DR   <a href=\"https://www.uniprot.org/uniprot/Q61830   \">Q61830   </a>, MRC1_MOUSE , T; <a href=\"https://www.uniprot.org/uniprot/Q9UBG0    \">Q9UBG0    </a>, MRC2_HUMAN , T; <br/>DR   <a href=\"https://www.uniprot.org/uniprot/Q64449   \">Q64449   </a>, MRC2_MOUSE , T; <a href=\"https://www.uniprot.org/uniprot/Q4TU93    \">Q4TU93    </a>, MRC2_RAT   , T; <br/>DR   <a href=\"https://www.uniprot.org/uniprot/P80964   \">P80964   </a>, PB1_PIG    , T; <a href=\"https://www.uniprot.org/uniprot/P49259    \">P49259    </a>, PLA2R_BOVIN, T; <br/>DR   <a href=\"https://www.uniprot.org/uniprot/Q13018   \">Q13018   </a>, PLA2R_HUMAN, T; <a href=\"https://www.uniprot.org/uniprot/Q62028    \">Q62028    </a>, PLA2R_MOUSE, T; <br/>DR   <a href=\"https://www.uniprot.org/uniprot/Q5R880   \">Q5R880   </a>, PLA2R_PONAB, T; <a href=\"https://www.uniprot.org/uniprot/P49260    \">P49260    </a>, PLA2R_RABIT, T; <br/>DR   <a href=\"https://www.uniprot.org/uniprot/Q9UBV2   \">Q9UBV2   </a>, SE1L1_HUMAN, T; <a href=\"https://www.uniprot.org/uniprot/Q9ESM7    \">Q9ESM7    </a>, SE1L1_MESAU, T; <br/>DR   <a href=\"https://www.uniprot.org/uniprot/Q9Z2G6   \">Q9Z2G6   </a>, SE1L1_MOUSE, T; <a href=\"https://www.uniprot.org/uniprot/Q80Z70    \">Q80Z70    </a>, SE1L1_RAT  , T; <br/>DR   <a href=\"https://www.uniprot.org/uniprot/P02784   \">P02784   </a>, SFP1_BOVIN , T; <a href=\"https://www.uniprot.org/uniprot/P04557    \">P04557    </a>, SFP3_BOVIN , T; <br/>DR   <a href=\"https://www.uniprot.org/uniprot/P81019   \">P81019   </a>, SFP4_BOVIN , T; <a href=\"https://www.uniprot.org/uniprot/P81121    \">P81121    </a>, SP1_HORSE  , T; <br/>DR   <a href=\"https://www.uniprot.org/uniprot/B3EWK6   \">B3EWK6   </a>, SFP1_BOSIN , P; <br/>3D   <a href = \"/cgi-bin/pdb/pdb_structure_viewer.cgi?pdb=1CK7&ps=PS51092\">1CK7</a>; <a href = \"/cgi-bin/pdb/pdb_structure_viewer.cgi?pdb=1CXW&ps=PS51092\">1CXW</a>; <a href = \"/cgi-bin/pdb/pdb_structure_viewer.cgi?pdb=1E88&ps=PS51092\">1E88</a>; <a href = \"/cgi-bin/pdb/pdb_structure_viewer.cgi?pdb=1E8B&ps=PS51092\">1E8B</a>; <a href = \"/cgi-bin/pdb/pdb_structure_viewer.cgi?pdb=1EAK&ps=PS51092\">1EAK</a>; <a href = \"/cgi-bin/pdb/pdb_structure_viewer.cgi?pdb=1GXD&ps=PS51092\">1GXD</a>; <a href = \"/cgi-bin/pdb/pdb_structure_viewer.cgi?pdb=1H8P&ps=PS51092\">1H8P</a>; <a href = \"/cgi-bin/pdb/pdb_structure_viewer.cgi?pdb=1J7M&ps=PS51092\">1J7M</a>; <a href = \"/cgi-bin/pdb/pdb_structure_viewer.cgi?pdb=1KS0&ps=PS51092\">1KS0</a>; <a href = \"/cgi-bin/pdb/pdb_structure_viewer.cgi?pdb=1L6J&ps=PS51092\">1L6J</a>; <a href = \"/cgi-bin/pdb/pdb_structure_viewer.cgi?pdb=1PDC&ps=PS51092\">1PDC</a>; <a href = \"/cgi-bin/pdb/pdb_structure_viewer.cgi?pdb=1QO6&ps=PS51092\">1QO6</a>; \n",
       "3D   <a href = \"/cgi-bin/pdb/pdb_structure_viewer.cgi?pdb=2FN2&ps=PS51092\">2FN2</a>; <a href = \"/cgi-bin/pdb/pdb_structure_viewer.cgi?pdb=2V5O&ps=PS51092\">2V5O</a>; <a href = \"/cgi-bin/pdb/pdb_structure_viewer.cgi?pdb=2V5P&ps=PS51092\">2V5P</a>; <a href = \"/cgi-bin/pdb/pdb_structure_viewer.cgi?pdb=3M7P&ps=PS51092\">3M7P</a>; <a href = \"/cgi-bin/pdb/pdb_structure_viewer.cgi?pdb=3MQL&ps=PS51092\">3MQL</a>; <a href = \"/cgi-bin/pdb/pdb_structure_viewer.cgi?pdb=5AO5&ps=PS51092\">5AO5</a>; <a href = \"/cgi-bin/pdb/pdb_structure_viewer.cgi?pdb=5AO6&ps=PS51092\">5AO6</a>; <a href = \"/cgi-bin/pdb/pdb_structure_viewer.cgi?pdb=5E4K&ps=PS51092\">5E4K</a>; <a href = \"/cgi-bin/pdb/pdb_structure_viewer.cgi?pdb=5E4L&ps=PS51092\">5E4L</a>; <a href = \"/cgi-bin/pdb/pdb_structure_viewer.cgi?pdb=5EW6&ps=PS51092\">5EW6</a>; <a href = \"/cgi-bin/pdb/pdb_structure_viewer.cgi?pdb=5XTS&ps=PS51092\">5XTS</a>; <a href = \"/cgi-bin/pdb/pdb_structure_viewer.cgi?pdb=5XTW&ps=PS51092\">5XTW</a>; \n",
       "3D   <a href = \"/cgi-bin/pdb/pdb_structure_viewer.cgi?pdb=6INN&ps=PS51092\">6INN</a>; <a href = \"/cgi-bin/pdb/pdb_structure_viewer.cgi?pdb=6INO&ps=PS51092\">6INO</a>; <a href = \"/cgi-bin/pdb/pdb_structure_viewer.cgi?pdb=6INU&ps=PS51092\">6INU</a>; <a href = \"/cgi-bin/pdb/pdb_structure_viewer.cgi?pdb=6INV&ps=PS51092\">6INV</a>; <a href = \"/cgi-bin/pdb/pdb_structure_viewer.cgi?pdb=6IOE&ps=PS51092\">6IOE</a>; <a href = \"/cgi-bin/pdb/pdb_structure_viewer.cgi?pdb=6SZW&ps=PS51092\">6SZW</a>; <a href = \"/cgi-bin/pdb/pdb_structure_viewer.cgi?pdb=6UM1&ps=PS51092\">6UM1</a>; <a href = \"/cgi-bin/pdb/pdb_structure_viewer.cgi?pdb=6UM2&ps=PS51092\">6UM2</a>; \n",
       "PR   <a href=\"/rule/PRU00479\">PRU00479</a>; \n",
       "DO   <a href=\"/cgi-bin/prosite/get-prodoc-entry?PDOC00022\">PDOC00022</a>;\n",
       "//\n",
       "</pre><address><a href=\"/cgi-bin/prosite/nicesite.pl?PS51092\">NiceSite</a> - a user-friendly view of this PROSITE entry</address>\n",
       "\t\t<br clear=\"left\" />\n",
       "\t</div>\n",
       "\t<!-- end of sib_body, start of footer -->\n",
       "\t<footer role=\"contentinfo\" class=\"text-sm text-neutral-700 max-sm:text-center sm:mt-12 pt-4 pb-4 bg-neutral-100\">\n",
       "\t\t<div class=\"container\">\n",
       "\t\t\t<div class=\"flex max-sm:flex-col sm:items-center\">\n",
       "\t\t\t\t<div class=\"md:flex-1 mb-8 md:mb-0\">\n",
       "\t\t\t\t\t<div class=\"max-w-sm md:max-w-3xl md:pr-12\">\n",
       "\t\t\t\t\t\t<img src=\"/images/icons/expasy_icons/sib-mark.svg\" class=\"md:mr-2 mb-2 inline-block icon icon--sib-mark icon--sib-mark\">\n",
       "\t\t\t\t\t\t<div class=\"md:inline-block\" property=\"schema:creator\" typeof=\"schema:NGO\">\n",
       "\t\t\t\t\t\t\tExpasy is operated by the\n",
       "\t\t\t\t\t\t\t<a property=\"schema:url\" href=\"https://sib.swiss\" target=\"blank\" rel=\"noopener noreferer\">SIB Swiss Institute of Bioinformatics</a>\n",
       "\t\t\t\t\t\t\t|\n",
       "\t\t\t\t\t\t\t<a href=\"https://www.expasy.org/terms-of-use\" class=\"\">Terms of Use</a>\n",
       "\t\t\t\t\t\t</div>\n",
       "\t\t\t\t\t</div>\n",
       "\t\t\t\t</div>\n",
       "\t\t\t\t<a href=\"#top\">Back to the top</a>\n",
       "\t\t\t</div>\n",
       "\t\t</div>\n",
       "\t</footer>\n",
       "\t<!-- end of footer -->\n",
       "</div> \n",
       "<!-- end of sib_container -->\n",
       "\n",
       "<script async=\"async\" src='https://www.google-analytics.com/analytics.js' type=\"text/javascript\"></script>\n",
       "<script type=\"text/javascript\">\n",
       "\twindow.ga=window.ga||function(){(ga.q=ga.q||[]).push(arguments)};ga.l=+new Date;\n",
       "\tga('create', 'UA-23823438-1', 'auto');\n",
       "    ga('set', 'anonymizeIp', true);\n",
       "    ga('send', 'pageview');\n",
       "</script>\n",
       "<!-- automatically added by Apache -->\n",
       "\n",
       "    </body>\n",
       "</html>"
      ],
      "text/plain": [
       "<IPython.core.display.HTML object>"
      ]
     },
     "metadata": {},
     "output_type": "display_data"
    }
   ],
   "source": [
    "from IPython.core.display import display, HTML\n",
    "from Bio import ExPASy\n",
    "from Bio.ExPASy import Prodoc\n",
    "# Земен од: https://prosite.expasy.org/\n",
    "# Fibronectin type-II collagen-binding domain signature and profile\n",
    "\n",
    "handle = ExPASy.get_prosite_entry(\"PS51092\")\n",
    "html = handle.read() \n",
    "with open(\"Fibronectin.html\", \"w\") as out_handle:\n",
    "    out_handle.write(html)\n",
    "display(HTML(\"Fibronectin.html\"))"
   ]
  },
  {
   "cell_type": "markdown",
   "id": "rocky-implementation",
   "metadata": {
    "heading_collapsed": "true",
    "tags": []
   },
   "source": [
    "### <u>4 Пример:</u> NCBI Blast server"
   ]
  },
  {
   "cell_type": "markdown",
   "id": "finnish-hygiene",
   "metadata": {},
   "source": [
    "Пример сме изолирале некое парче од ДНА во лабораторија и сме ја добиле соодветната секвенца. Потоа сакаме да видиме на каков организам припаѓа таа ДНА. Доколку прашаме некој биолог ќе ни речe: \"BLAST it\" ~ што е слично на \"Google it\" во овој свет на биоинформатика. \n",
    "\n",
    "**BLAST** е алгритам за совпаѓање (aligment) што ја пребарува секвенцата што ја имаме од интерес во енормна база од податоци за вакви секвенци чии корени се познати. Доколку не користиме BioPython можеме да земеме едноставна секвенца да одиме на [NCBI BLAST web server](https://blast.ncbi.nlm.nih.gov/Blast.cgi?PROGRAM=blastn&PAGE_TYPE=BlastSearch&LINK_LOC=blasthome) и со неколку кликови да добиеме дека пример таа припаѓа на црв или мајмун. Но, со помош на BioPython ова може да го правиме со неколку линии код. \n",
    " \n",
    "\n",
    "Qblast методот од <code>Bio.Blast.NCBIWWW</code> есенцијално ја праќа секвенцата која ја даваме како влез до овој BLAST веб сервер. Во примерот кој ќе го користам за демонстрирање го користам \"nucleotice BLAST\" алгоритамот така што може да речеме дека користиме дата база од сите вакви нуклеотидни секвенци кои се викаат <code>nt</code>:"
   ]
  },
  {
   "cell_type": "code",
   "execution_count": 4,
   "id": "supposed-silicon",
   "metadata": {},
   "outputs": [],
   "source": [
    "from Bio.Blast import NCBIWWW\n",
    "from Bio.Seq import Seq\n",
    "\n",
    "result_handle = NCBIWWW.qblast(\"blastn\", \"nt\", Seq(\"AAAAGGAGAGAGAGTTTATA\"))"
   ]
  },
  {
   "cell_type": "markdown",
   "id": "assisted-harvey",
   "metadata": {},
   "source": [
    "Чекаме неколку секунди и добиваме резултат во <code>result_handle</code>, што е еден вид на привремен објект од кој ќе читаме. Форматот на овој фајл е XML така што не е лесно да се чита, но благодарение на BioPython кој има XML parser може лесно да се екстрахира оваа информација:"
   ]
  },
  {
   "cell_type": "code",
   "execution_count": 9,
   "id": "juvenile-daily",
   "metadata": {},
   "outputs": [],
   "source": [
    "from Bio.Blast import NCBIXML\n",
    "blast_records = NCBIXML.parse(result_handle)"
   ]
  },
  {
   "cell_type": "markdown",
   "id": "proof-bridges",
   "metadata": {},
   "source": [
    "Значи добиваме еден вид на итератор од BLAST објекти или \"резултати од пребарување\". Можеме да ги итрерираме сите во циклус и да принтаме одредени информации. \n",
    "\n",
    "Тука ги итерирам сите резултати каде секој има некакви совпаѓања со секвенци од организми во дата базата во која пребарувавме. "
   ]
  },
  {
   "cell_type": "code",
   "execution_count": 10,
   "id": "approximate-alexandria",
   "metadata": {},
   "outputs": [
    {
     "name": "stdout",
     "output_type": "stream",
     "text": [
      "****Alignment****\n",
      "sequence: gi|1676320234|emb|LR594564.1| Streptopelia turtur genome assembly, chromosome: 13\n",
      "length: 20810306\n",
      "e value: 7.09013\n",
      "AAAAGGAGAGAGAGTTTATA...\n",
      "||||||||||||||||||||...\n",
      "AAAAGGAGAGAGAGTTTATA...\n",
      "****Alignment****\n",
      "sequence: gi|1395234831|gb|CP026251.1| Scophthalmus maximus chromosome 9\n",
      "length: 25242470\n",
      "e value: 7.09013\n",
      "AAAAGGAGAGAGAGTTTATA...\n",
      "||||||||||||||||||||...\n",
      "AAAAGGAGAGAGAGTTTATA...\n",
      "****Alignment****\n",
      "sequence: gi|1964820264|emb|OC916336.1| Oppiella nova\n",
      "length: 16143\n",
      "e value: 7.09013\n",
      "AAAAGGAGAGAGAGTTTATA...\n",
      "||||||||||||||||||||...\n",
      "AAAAGGAGAGAGAGTTTATA...\n"
     ]
    }
   ],
   "source": [
    "for b in blast_records:\n",
    "    for alignment in b.alignments:\n",
    "        for hsp in alignment.hsps:\n",
    "            print('****Alignment****')\n",
    "            print('sequence:', alignment.title)\n",
    "            print('length:', alignment.length)\n",
    "            print('e value:', hsp.expect)\n",
    "            print(hsp.query[0:75] + '...')\n",
    "            print(hsp.match[0:75] + '...')\n",
    "            print(hsp.sbjct[0:75] + '...')"
   ]
  },
  {
   "cell_type": "markdown",
   "id": "familiar-departure",
   "metadata": {
    "heading_collapsed": "true",
    "tags": []
   },
   "source": [
    "## Барање 3: Seq објекти"
   ]
  },
  {
   "cell_type": "markdown",
   "id": "tutorial-chancellor",
   "metadata": {},
   "source": [
    "*Да се напише пример за работа со Seq објекти, како што е\n",
    "опишано во поглавје 3, и да се обрне внимание на процесите\n",
    "транскрипција и транслација.*"
   ]
  },
  {
   "cell_type": "markdown",
   "id": "established-leisure",
   "metadata": {},
   "source": [
    "<img src=\"http://compeau.cbd.cmu.edu/wp-content/uploads/2016/08/rosalindlogo.jpg\" style=\"width:40%;height:40%;\" align=\"right\">\n",
    "\n",
    "\n",
    "На [**Rosalind**](http://rosalind.info/problems/list-view/) има многу интересни проблеми каде мислев дека можеби е интересно да се обидам да ги решам со користење на <code>Bio.Seq</code> објекти. За ова барање ги решив точно следните проблеми: \n",
    "\n",
    "1. **Complementing a Strand of DNA**: http://rosalind.info/problems/revc/\n",
    "2. **Transcribing DNA into RNA:** http://rosalind.info/problems/rna/\n",
    "3. **Translating RNA into Protein:** http://rosalind.info/problems/prot/\n",
    "4. **Computing GC Content**: http://rosalind.info/problems/gc/\n",
    "5. **Finding a Motif in DNA**: http://rosalind.info/problems/subs/\n",
    "\n",
    "Профилот каде може да се види дека ги решив: http://rosalind.info/users/zelenkastiot/\n",
    "\n"
   ]
  },
  {
   "cell_type": "markdown",
   "id": "bronze-proposition",
   "metadata": {
    "tags": []
   },
   "source": [
    "### 1. [Complementing a Strand of DNA](http://rosalind.info/problems/revc/)"
   ]
  },
  {
   "cell_type": "markdown",
   "id": "other-wings",
   "metadata": {},
   "source": [
    "Овој проблем е поврзан со стрингови од ДНА, каде комплементи се паровите: A-T и C-G. \n",
    "\n",
    "Обратен комплемент (reverse complement) од ДНА стринг а стринг формиран со зимање на стрингот во обратен редослед и применување на комплемент, т.е. менување на базните парови со своите комплементарни парови (пример \"*GTCA*\" ако е влез, соодветен излез е \"*TGAC*\")\n",
    "\n",
    "\n",
    "- **Влез:** <code>/rosalind/rosalind_revc.txt</code>текст фајл со ДНА стринг со должина од најмногу 1000 базни парови \n",
    "- **Излез:** Обратен комплемент од стрингот "
   ]
  },
  {
   "cell_type": "code",
   "execution_count": 17,
   "id": "paperback-roots",
   "metadata": {},
   "outputs": [
    {
     "name": "stdout",
     "output_type": "stream",
     "text": [
      "GCTTTGTTAATCGGCTAAAACACTATCTCTCGCACTAGGCAGCCCAAAGTCCTCCATACGGAGCTTGCGTCGTATCGTAGTAGCTGCAATCTACCTGGGCGGTGGTGGATGAGCGTGAGCTAAAGCGGGACATCTGTATGGCAAGTAGTCTGCCGTGAACGAGCCAGCCCCTACGGTGTGGACACGTCCTTCAGGTGGTATGGATACGGACACCACATCTGTAGCTTTTGACGTCAGAGAGAGACGTATGAGGGGCGAGACGAGTGATATCTGCACCACCATGCCGGACACGGCGCAGTGGCCATGTATATTTAACGCCTAGTGCCACGAAACTAGGTTCTCTACACTGACACGTACGCCCACGTGCTCAACCTTATGCTGCACATGTCCGTATTTTGTCAATGACTTTGCCACCTTTTACCTCCGTGGTCCATGCGGAGTTTAGAAGTGTTACGCTTGGAGTAATCTCGCCCCCGTTTGGTGGACTGGCACCCGCAGACAGGCCAGAAAGAGCCCGTCCCTGGCACAGTTCCTGGGATAGTAAGGGAATTTACCGCAACTGGCTCACGCCGTTGGTGAAGCTCAGAGCACGTGCCCAGGCTTAGAGTTTCCGCTTAGATGCTCTACGGTAGCACTAAACCAAAATGTTAGGGAATGCCCGGAAAGTTTAATGTGCTTGCAGATAATCATATGCTATTGACCTAGAGACAGTCGAACGCCTCCTCAGGTTCCTAGCAATCCACTTTTGCAATACACATAACTCTTAGCATTATGACCGGAAGCCTAGCTCCTGTAACACCTCCTCTTGTCGGTCCTAACCTATCATCGTGAGCATTTACGGACACTTTAGTTATGCGCTAGCTAATGATATCTTGTGTCTTTTCTAATCAATGAGGCCGGGTAAAACCGCTGCTGCGAGGAA\n"
     ]
    }
   ],
   "source": [
    "from Bio.Seq import Seq\n",
    "\n",
    "with open('rosalind/rosalind_revc.txt', 'r') as file:\n",
    "    sample_dataset = file.read().replace('\\n', '')\n",
    "\n",
    "input_dna = Seq(sample_dataset)\n",
    "output_rna = input_dna.reverse_complement()\n",
    "print(output_rna)"
   ]
  },
  {
   "cell_type": "markdown",
   "id": "expanded-tutorial",
   "metadata": {
    "tags": []
   },
   "source": [
    "### 2. [Transcribing DNA into RNA](http://rosalind.info/problems/rna/)"
   ]
  },
  {
   "cell_type": "markdown",
   "id": "other-difficulty",
   "metadata": {},
   "source": [
    "Овој проблем е поврзан со процесот на *транскрипција* каде идејата е при даден фајл со ДНА стринг преку процесот на *транскрипција* да се добие соодветната РНА. \n",
    "\n",
    "- **Влез:** <code>/rosalind/rosalind_rna.txt</code> - текст фајл со ДНА стринг со должина од најмногу 1000 базни парови \n",
    "- **Излез:** РНА стринг добиен од транскрипција на ДНА стрингот "
   ]
  },
  {
   "cell_type": "markdown",
   "id": "incoming-slovak",
   "metadata": {},
   "source": [
    "**Решение (Со примена на Bio.Seq):**"
   ]
  },
  {
   "cell_type": "code",
   "execution_count": 18,
   "id": "skilled-rogers",
   "metadata": {},
   "outputs": [
    {
     "name": "stdout",
     "output_type": "stream",
     "text": [
      "GAAGUGCCUUAGUAGCUAACAGAGGUUCGUACAACAGCGAUGACUUUUGACAAGAUACCAGGCUGCGGCGAAUUUGAGAGGAAUGAUUAAGCAUGGCACACGGGGUGCGCAAGGAGUAUUUCGGGGACCGGGACCUCCAGCGUGCGGCGGCUGGUGAGCUGAGCGUACGCGGCGGCAGGGGCCGUUUACACACCAGGUAGGGUUUUAGAGCCGAUAGAAGUCUAGGUAGCCAUAUGUAGGGCAUCUAGAUUUUCAUAGGUCCUAGGCACCUACGAGAUCCCCAACUAACCAUAGCGGUGACGACGGGUGAUGAGAAAAUUCGGUUUGGUACCAAUGAAACGAUGGACAGAGACAACUGCAUAGGGUGCGGCGUGGCCCAAUCUCCUCUCUCCAUCGCGCAGCGGCUUAAUCCAGCGUGCGUUAUCGAUAAAUUCGCGUAGUAGAGUGAAGACUUGGGCUCUUCCGCGAUGAUGCCUUCCUGUCAUAAGGGGACCUUUAGGACAUUCACGGGUACUUUUGCCUUCCACGCGAGAGGUUGUAGUUGCCGGUCAUGUCGGUACGACCUAGAAAAGUAUGAAUGCCAGGCGUGGGGUUCAUGUACGGCACCCGUUGUUCUCGCUGUUUAGGAAUGGCCAAAUAGUACUUUACUAAGGAAGGAAGAAUUUCCUUCACAAUGCAAAGCAGGGACGCUCCCGACCGCACACCGCAGAGAUAAAUGCUUAAACAACGCUCUAUCGACGUAAGAUGGGAUGCAGCCUCAACCUAAGUUGUGCAAUCACUGUAACGGGCCGCAAGUACAAUGUAGAUAGUGCCUGCCCCUUGGCAAUCACCCUUGCGUUUUCGACAUUAGUUGCAGCUGUCGGAUUGACGUCUUAGGAGUCGUGAUACUUUAGGCAAGAGGGUGCGGUGGCGAAGACAGAACACUGCAUGCUACUCGCCAGUCUAUUUCAUUGGUGUCUCGCAAGGU\n"
     ]
    }
   ],
   "source": [
    "from Bio.Seq import Seq\n",
    "\n",
    "with open('rosalind/rosalind_rna.txt', 'r') as file:\n",
    "    sample_dataset = file.read().replace('\\n', '')\n",
    "\n",
    "input_dna = Seq(sample_dataset)\n",
    "output_rna = input_dna.transcribe()\n",
    "print(output_rna)"
   ]
  },
  {
   "cell_type": "markdown",
   "id": "naval-absolute",
   "metadata": {},
   "source": [
    "**Решение (Со операции на стрингови):**"
   ]
  },
  {
   "cell_type": "code",
   "execution_count": 19,
   "id": "nuclear-siemens",
   "metadata": {},
   "outputs": [
    {
     "name": "stdout",
     "output_type": "stream",
     "text": [
      "GAAGUGCCUUAGUAGCUAACAGAGGUUCGUACAACAGCGAUGACUUUUGACAAGAUACCAGGCUGCGGCGAAUUUGAGAGGAAUGAUUAAGCAUGGCACACGGGGUGCGCAAGGAGUAUUUCGGGGACCGGGACCUCCAGCGUGCGGCGGCUGGUGAGCUGAGCGUACGCGGCGGCAGGGGCCGUUUACACACCAGGUAGGGUUUUAGAGCCGAUAGAAGUCUAGGUAGCCAUAUGUAGGGCAUCUAGAUUUUCAUAGGUCCUAGGCACCUACGAGAUCCCCAACUAACCAUAGCGGUGACGACGGGUGAUGAGAAAAUUCGGUUUGGUACCAAUGAAACGAUGGACAGAGACAACUGCAUAGGGUGCGGCGUGGCCCAAUCUCCUCUCUCCAUCGCGCAGCGGCUUAAUCCAGCGUGCGUUAUCGAUAAAUUCGCGUAGUAGAGUGAAGACUUGGGCUCUUCCGCGAUGAUGCCUUCCUGUCAUAAGGGGACCUUUAGGACAUUCACGGGUACUUUUGCCUUCCACGCGAGAGGUUGUAGUUGCCGGUCAUGUCGGUACGACCUAGAAAAGUAUGAAUGCCAGGCGUGGGGUUCAUGUACGGCACCCGUUGUUCUCGCUGUUUAGGAAUGGCCAAAUAGUACUUUACUAAGGAAGGAAGAAUUUCCUUCACAAUGCAAAGCAGGGACGCUCCCGACCGCACACCGCAGAGAUAAAUGCUUAAACAACGCUCUAUCGACGUAAGAUGGGAUGCAGCCUCAACCUAAGUUGUGCAAUCACUGUAACGGGCCGCAAGUACAAUGUAGAUAGUGCCUGCCCCUUGGCAAUCACCCUUGCGUUUUCGACAUUAGUUGCAGCUGUCGGAUUGACGUCUUAGGAGUCGUGAUACUUUAGGCAAGAGGGUGCGGUGGCGAAGACAGAACACUGCAUGCUACUCGCCAGUCUAUUUCAUUGGUGUCUCGCAAGGU\n"
     ]
    }
   ],
   "source": [
    "rna = sample_dataset.replace(\"T\", \"U\")\n",
    "print(output_rna)"
   ]
  },
  {
   "cell_type": "markdown",
   "id": "distributed-apollo",
   "metadata": {},
   "source": [
    "**Проверка за излезот:**"
   ]
  },
  {
   "cell_type": "code",
   "execution_count": 20,
   "id": "blocked-differential",
   "metadata": {},
   "outputs": [
    {
     "data": {
      "text/plain": [
       "True"
      ]
     },
     "execution_count": 20,
     "metadata": {},
     "output_type": "execute_result"
    }
   ],
   "source": [
    "output_rna == rna"
   ]
  },
  {
   "cell_type": "markdown",
   "id": "guided-wallet",
   "metadata": {
    "tags": []
   },
   "source": [
    "### 3. [Translating RNA into Protein](http://rosalind.info/problems/prot/)"
   ]
  },
  {
   "cell_type": "markdown",
   "id": "institutional-davis",
   "metadata": {},
   "source": [
    "Овој проблем е поврзан со *транскрипција* од РНА во протеини. 20 најчести аминокиселни се означуваат користејќи ги сите 20 букви од Англиската азбука (сите освен B, J, O, U, X и Z). Стрингови од протеини се создаваат од овие 20 симболи. Овие секвенци заедно со ДНА и РНА секвенците исто така се вика генетски стринг.   \n",
    "\n",
    "- **Влез:** <code>/rosalind/rosalind_prot.txt</code>текст фајл со РНА стринг со должина од најмногу 1000 базни парови \n",
    "- **Излез:** Протеинска секвенца (без стоп кодони)"
   ]
  },
  {
   "cell_type": "markdown",
   "id": "royal-warrant",
   "metadata": {},
   "source": [
    "Следната табeла е таа што се користи за процесот на транслација: "
   ]
  },
  {
   "cell_type": "code",
   "execution_count": 21,
   "id": "toxic-mystery",
   "metadata": {},
   "outputs": [
    {
     "name": "stdout",
     "output_type": "stream",
     "text": [
      "Table 1 Standard, SGC0\n",
      "\n",
      "  |  U      |  C      |  A      |  G      |\n",
      "--+---------+---------+---------+---------+--\n",
      "U | UUU F   | UCU S   | UAU Y   | UGU C   | U\n",
      "U | UUC F   | UCC S   | UAC Y   | UGC C   | C\n",
      "U | UUA L   | UCA S   | UAA Stop| UGA Stop| A\n",
      "U | UUG L(s)| UCG S   | UAG Stop| UGG W   | G\n",
      "--+---------+---------+---------+---------+--\n",
      "C | CUU L   | CCU P   | CAU H   | CGU R   | U\n",
      "C | CUC L   | CCC P   | CAC H   | CGC R   | C\n",
      "C | CUA L   | CCA P   | CAA Q   | CGA R   | A\n",
      "C | CUG L(s)| CCG P   | CAG Q   | CGG R   | G\n",
      "--+---------+---------+---------+---------+--\n",
      "A | AUU I   | ACU T   | AAU N   | AGU S   | U\n",
      "A | AUC I   | ACC T   | AAC N   | AGC S   | C\n",
      "A | AUA I   | ACA T   | AAA K   | AGA R   | A\n",
      "A | AUG M(s)| ACG T   | AAG K   | AGG R   | G\n",
      "--+---------+---------+---------+---------+--\n",
      "G | GUU V   | GCU A   | GAU D   | GGU G   | U\n",
      "G | GUC V   | GCC A   | GAC D   | GGC G   | C\n",
      "G | GUA V   | GCA A   | GAA E   | GGA G   | A\n",
      "G | GUG V   | GCG A   | GAG E   | GGG G   | G\n",
      "--+---------+---------+---------+---------+--\n"
     ]
    }
   ],
   "source": [
    "from Bio.Data import CodonTable\n",
    "\n",
    "standard_rna_table = CodonTable.unambiguous_rna_by_name[\"Standard\"]\n",
    "print(standard_rna_table)"
   ]
  },
  {
   "cell_type": "markdown",
   "id": "supreme-deadline",
   "metadata": {},
   "source": [
    "**Решение:**"
   ]
  },
  {
   "cell_type": "code",
   "execution_count": 22,
   "id": "controlling-barrier",
   "metadata": {
    "scrolled": true,
    "tags": []
   },
   "outputs": [
    {
     "name": "stdout",
     "output_type": "stream",
     "text": [
      "METQHTLPCNCRELDKTGSHVVRSGLAYVFAHHITLYRASYGMVSLLSRGHTSGTLLRPMASIRQLCQILDINKLKNQDVLLRYPNGVGLRSVWTSYVVIIFQRWSRRANPLSVIAVLTVYLDMFRGNCSQRRDGRSSDYFYQTSSRPCLLLGAYSLGAIPVTPLNQTTVPPIRCLALQGMQNTAGFAAIESVYRTTCRQLNQREGLSTPSRLRELIWPARYLPVRCECNNGLNTVYSVTVRISSKATTIRTCCRPTYYLLEVMLTRPDSGERTRRAAKYHKHDHIPSARRARRRRVGNPFNTAKTVYGRKDATVHSSSTLAFTSCEGHGGPACHESLASSTARGRLVTKSNKSGPSRRAILFIPQLIEHIMSMERGQWTFTNPSASTRGTKSWGPSWDKRSPGLKPPVAVGIRTRLYGPVLYRMNDRPLMSHIAYGAQSYNQLFRRKCEILFLSPAGPWSACRSQRMLNTTGSCDTFVDAALTLSLYTVNVWEPISNTDPITRAPLVLSRQINSEGIGIHNRPSTSIRVCTGTSNRIQHNILDSGSDLMATPVCDLRGLVCSDRAELPIHSPGGKASSLRWTPSNRPNGNIYSRYASLSDCVLCCSRRLETQVSRQSPRMIRDLLSGFTDMRNVWDRVSCLDAARRALGATSRSTFAGERRWCLVSNVSRKRLSFTTDFISIRTQHGIPSNSLSTNKGSRDTPVCAGDDVSVECPRKESKAKIKFLVLGGVRGSLTGRRKISMLDPTKSSRALAAMGTLVIRIMAVVDDWISSPACTHQDTQLEDLNWVTETWAFRAVGIGLSSAQYHVHRGQRTQHTAARCVLPRRRVRTDDKPIGYIGDRDRPVEDSNGSCSECGRRTERCRNRATRLLTYTRKQLLITGRHNQIRLEIPRLGARCCHYILQVQPQPLSISKLLLENFFGTQTAPDTLSLPSSQDMLPINRPLRFVNIQWRDLPIRGALQATLTLGALLSPFGPCFPMFVSKRPSQFRFNGASSLSGFTYYIIRGCRRSASKREHTPWHLKLPTTHPSPQLVPDPANLKCTKWKWANRTRVLAKTDCCFNAVGRRPASAYHMKMPSQNLSRHIVKKSLVTVGEASQVEHHCINVKVMAKDTGLSGATILWSFKVLRCFVECRPSHRRSGRMLIQFVGAFRNLRLGMRLVSGVDCTFLHLLKISLWSGVSGPERRMHGWLQIGATPRRARLNAKTNLLHLRETDVQTVPTDTAVGSGPLIIVESTALIAVVPEMTIALCQREMVFLYRCRGSQNNAPGRGQVSKHRPQPSKSQGAYRPRSILSCSPVSAPYSTSVPDSRECRESQPTTALRNYRVSGIIAGASASTLNYLTGSCVLFLLRTRCHVAWRAANTTNVDSRSYLPAARLTTSLGEIWIARVEKLRLSNARTALADAVSPNCPSNTFRCPTSFLGNAHLRMYTMLTWFIPLTVSVKGYTGFLNAQVASTDRSKECGSVHGLAMVAWEYAALVVSWRLQGVAILMQLKRIVQITITSTFGRIVCCTKPHLKHFGPGGPRMLSSACIWRGARWINAPARAPESLAHASAGVTRVFSLRNRPSQLHTIHGTACNVKGNEAKHVPNQYPTGGSENVYPPMLIPVCIGTDGDKDHTVMLGAGSLPPRRGGCKSQFTTTLSGTLLDPLALCSSTIVAPVVVANKTRRPRRRSIVNLAGKRQARHRDEVLNTGHALRASHSFVPPCHVPHPGKSPFTRTDHNVVGGHTGFSCRPRKDRGISNAQLESLDPGNLRAQVPLVDALRLSGLLGHSVKLNRYWFVAAYHLGRVGSSELRTAQPTYRGAVDIGNSWGTAGFKSRRLRQSSDKAYGARRLTSEVSNTRVSLPMHYVSIHCEGLTDHHAQRSLKNTSLIRPSRDSRRLPRTSENKQILPRPSCRLSHWPSNTHPGAPTSVNPYLRHRGIRDHCAPRCAGRTTYCEQSAGIFELAHAGEKATIHKPIRWDIEAGLIGCCVCSGAPYTNDLYASPRLLRVPKRRLRCLIALSRSHYILTPINMWENGTNNAEFSGINGTVGIAHDDSAYKGYRPADSQATRRSDTGWCLIPDRLWSKDYLVPFSLTYDDTTTACTALTFDPVRKSLGVGLFSQHHESNLPIPVMEASTAYVKKIGIRTAVSQAGDGAFTSLVADRRIKLGLKFILLLGLVYWFNIRNKPLCRMAKSWRFLFNLSATSSKSFAIADRGSGLEIADKIRDFTGRSTWRMVCSVLQVNERGNNYITDMDALWSYYPRYVIGRGIVVKKCSFPAEAKRDAMTEIGTDDYAKEGTDLLIPSGYGNETSCSSGAEDPYPPLTMWSGGLRILMQPNLCQYKSGTTSQGYFCIFHFGSPLAVSSHWSSSTGRRPPPLFSALQHIPVKLLTTRINACAGDYHDNVPWPPSGYSVSSLYCSSTTRLAHFLGQEFHELRRPWLIEGLPSSIEASCQQTQQDCYRRPAAPIFYSVLKLALVPLRPIIVGGLGCLEPAIVYSYFTTNLTRRVGPRSENLYLRLLRVVDTVTCNNCGKLGTPDLCYCSDMLLKLNRSELESVHWVCRLSGPENSSKHISTLSDSPKFLWDYYVNCSATVTSKRPMSRAGACSHRRSHVGHTSTDVKSVRSLLGCVLRLTVWSRIFGARRWRETQGRVVRSLHLRRRIFPDWSGHGLRLSCHDSRDYVVRAIRARSYEGSLIFLSSILTACLCQQCLAQERRQRPLWDGTQPTPVLRIVHDCTRPPGRFPLDCSPSVPMPLRDMHICAIHSKYSTETCSRTSIGELRTPQPEYIPERWQVFGGLERSIGDLTSVLHWFDSGYLRHNISIYPRIGRRRRSVIMTAFACIRLYRIQTVAVCFSGIACKAREKTTHSFGFLSLDEHQWSELASTTTDNCFRALSGVTAIYVRGTLLSRAECARDLESIEPHCVRSTHRRRYVRESWAVMRFTRMRSGKRFFPLSVYNLVQGDQVNKLDQSRSGSNMDWWQEVTEGPSNTIKNLSDYSPDLGASNEGLRRVWLSTIFIFEEIAQISFLPLGVKPCYPLSHPFENLPSVILNSAAERGVGPGSEPHRPPRMGGKVSSCNLRGSREVIFYISCCGTGIKPGKKAHRLRIHFPPFKTRFPTSRSLRYALARSTTNIRRSLNSIKDDQFLDSWTAGAIKSYWSSIVWGARDMTRRRELIYQCTTPG\n"
     ]
    }
   ],
   "source": [
    "from Bio.Seq import Seq \n",
    "\n",
    "with open('rosalind/rosalind_prot.txt', 'r') as file:\n",
    "    sample_dataset = file.read().replace('\\n', '')\n",
    "\n",
    "messenger_rna = Seq(sample_dataset)\n",
    "protein_seq = messenger_rna.translate(to_stop=True)\n",
    "\n",
    "print(protein_seq)"
   ]
  },
  {
   "cell_type": "markdown",
   "id": "running-western",
   "metadata": {
    "tags": []
   },
   "source": [
    "### 4. [Computing GC Content](http://rosalind.info/problems/gc/)"
   ]
  },
  {
   "cell_type": "markdown",
   "id": "prepared-chambers",
   "metadata": {},
   "source": [
    "Овој проблем е поврзан со процентот на GC во ДНА секвенца.  \n",
    "\n",
    "- **Влез:** <code>/rosalind/rosalind_gc.txt</code>FASTA фајл со неколку ID и своите секвенци \n",
    "- **Излез:** Најголемиот GC процент од целиот FASTA фајл"
   ]
  },
  {
   "cell_type": "code",
   "execution_count": 23,
   "id": "blond-physics",
   "metadata": {},
   "outputs": [],
   "source": [
    "dict_records = {}\n",
    "for seq_record in SeqIO.parse(\"rosalind/rosalind_gc.fasta\", \"fasta\"):\n",
    "    seq_temp = seq_record.seq\n",
    "    dict_records[seq_record.id] = 100 * float(seq_temp.count(\"G\") + seq_temp.count(\"C\")) / len(seq_temp)"
   ]
  },
  {
   "cell_type": "code",
   "execution_count": 24,
   "id": "according-remainder",
   "metadata": {},
   "outputs": [
    {
     "data": {
      "text/plain": [
       "{'Rosalind_0344': 49.22907488986784,\n",
       " 'Rosalind_2995': 50.100806451612904,\n",
       " 'Rosalind_0589': 51.345029239766085,\n",
       " 'Rosalind_6146': 46.45006016847172,\n",
       " 'Rosalind_7650': 51.56081808396125,\n",
       " 'Rosalind_1350': 48.55670103092783,\n",
       " 'Rosalind_1601': 51.83374083129584,\n",
       " 'Rosalind_1751': 48.466257668711656,\n",
       " 'Rosalind_1226': 50.89179548156956}"
      ]
     },
     "execution_count": 24,
     "metadata": {},
     "output_type": "execute_result"
    }
   ],
   "source": [
    "dict_records"
   ]
  },
  {
   "cell_type": "code",
   "execution_count": 25,
   "id": "opposite-vienna",
   "metadata": {},
   "outputs": [
    {
     "name": "stdout",
     "output_type": "stream",
     "text": [
      "Rosalind_1601\n",
      "51.833741\n"
     ]
    }
   ],
   "source": [
    "max_value = max(dict_records.values())  # најголема вредност\n",
    "max_keys = [k for k, v in dict_records.items() if v == max_value] # клуч со максимална вредност\n",
    "\n",
    "print(max_keys[0])\n",
    "print(f'{max_value:.6f}')"
   ]
  },
  {
   "cell_type": "markdown",
   "id": "precious-mayor",
   "metadata": {
    "tags": []
   },
   "source": [
    "### 5. [Finding a Motif in DNA](http://rosalind.info/problems/subs/)"
   ]
  },
  {
   "cell_type": "markdown",
   "id": "married-hours",
   "metadata": {},
   "source": [
    "Овој проблем е поврзан со стрингови од ДНА и подстрингови од ДНА, познати како Motif. Наоѓање на вакви интерави од ДНА во геноми од различни организми (најчесто различен вид) покажува кон тоа дека тој подинтервал има иста функција кај двата организми. \n",
    "\n",
    "Motif е често споделувано парче од DNA, честа задача во молекуларна биологија е да се бараат вакви подстрингови.\n",
    "\n",
    "\n",
    "- **Влез:** <code>/rosalind/rosalind_subs.txt</code> текст фајл со ДНА (прв ред), подстринг т.е. парче ДНА (втор ред)\n",
    "- **Излез:** Сите позиции каде се јавува тој подстринг"
   ]
  },
  {
   "cell_type": "code",
   "execution_count": 26,
   "id": "congressional-hobby",
   "metadata": {},
   "outputs": [
    {
     "name": "stdout",
     "output_type": "stream",
     "text": [
      "13 75 118 125 175 213 220 255 285 292 299 395 473 480 580 587 594 704 728 739 765 874 "
     ]
    }
   ],
   "source": [
    "file = open('rosalind/rosalind_subs.txt', 'r')\n",
    "\n",
    "Lines = file.readlines()\n",
    "\n",
    "dna_string = Lines[0].strip()\n",
    "sub_string = Lines[1].strip()\n",
    "\n",
    "found = []\n",
    "\n",
    "k = 0\n",
    "while k < len(dna_string)-3:\n",
    "    current_codon = dna_string[k:k+(len(sub_string))]\n",
    "    if current_codon == sub_string:\n",
    "        found.append(k+1)\n",
    "    k+=1\n",
    "\n",
    "for i in range(len(found)):\n",
    "    print(found[i], end=\" \")"
   ]
  },
  {
   "cell_type": "markdown",
   "id": "incorrect-alloy",
   "metadata": {
    "heading_collapsed": "true",
    "tags": []
   },
   "source": [
    "## Барање 4: Yersinia pestis ДНА секвенца"
   ]
  },
  {
   "cell_type": "markdown",
   "id": "beneficial-converter",
   "metadata": {},
   "source": [
    "*Да се преземе комплетната ДНА секвенција на Yersinia pestis\n",
    "(бактерија која ги инфектира белите дробови и предизвикува\n",
    "пневмонија). До неа се пристапува со употреба на\n",
    "идентификациониот број NC_005816 во GeneBank базата\n",
    "(работете со SeqIO објекти, имате детали во\n",
    "документацијата).*"
   ]
  },
  {
   "cell_type": "code",
   "execution_count": 11,
   "id": "developing-grove",
   "metadata": {
    "scrolled": true,
    "tags": []
   },
   "outputs": [
    {
     "name": "stdout",
     "output_type": "stream",
     "text": [
      "ID: NC_005816.1\n",
      "Name: NC_005816\n",
      "Description: Yersinia pestis biovar Microtus str. 91001 plasmid pPCP1, complete sequence\n",
      "Database cross-references: Project:58037\n",
      "Number of features: 41\n",
      "/molecule_type=DNA\n",
      "/topology=circular\n",
      "/data_file_division=BCT\n",
      "/date=21-JUL-2008\n",
      "/accessions=['NC_005816']\n",
      "/sequence_version=1\n",
      "/gi=45478711\n",
      "/keywords=['']\n",
      "/source=Yersinia pestis biovar Microtus str. 91001\n",
      "/organism=Yersinia pestis biovar Microtus str. 91001\n",
      "/taxonomy=['Bacteria', 'Proteobacteria', 'Gammaproteobacteria', 'Enterobacteriales', 'Enterobacteriaceae', 'Yersinia']\n",
      "/references=[Reference(title='Genetics of metabolic variations between Yersinia pestis biovars and the proposal of a new biovar, microtus', ...), Reference(title='Complete genome sequence of Yersinia pestis strain 91001, an isolate avirulent to humans', ...), Reference(title='Direct Submission', ...), Reference(title='Direct Submission', ...)]\n",
      "/comment=PROVISIONAL REFSEQ: This record has not yet been subject to final\n",
      "NCBI review. The reference sequence was derived from AE017046.\n",
      "COMPLETENESS: full length.\n",
      "Seq('TGTAACGAACGGTGCAATAGTGATCCACACCCAACGCCTGAAATCAGATCCAGG...CTG')\n"
     ]
    }
   ],
   "source": [
    "from Bio import SeqIO\n",
    "record = SeqIO.read(\"yersinia-pestis-fasta/NC_005816.gb\", \"genbank\")\n",
    "print(record)"
   ]
  },
  {
   "cell_type": "code",
   "execution_count": 12,
   "id": "middle-inspiration",
   "metadata": {},
   "outputs": [
    {
     "name": "stdout",
     "output_type": "stream",
     "text": [
      "Секвенцата: TGTAACGAACGGTGC...G\n",
      "Сите влезови во feature табалета: 41\n",
      "Извор за базата:  Yersinia pestis biovar Microtus str. 91001\n"
     ]
    }
   ],
   "source": [
    "print(f'Секвенцата: {record.seq[:15]}...{record.seq[-1]}')\n",
    "print(f'Сите влезови во feature табалета: {len(record.features)}')\n",
    "print(f'Извор за базата:  {record.annotations[\"source\"]}')"
   ]
  },
  {
   "cell_type": "markdown",
   "id": "warming-dylan",
   "metadata": {},
   "source": [
    "**Транскрипција:**"
   ]
  },
  {
   "cell_type": "code",
   "execution_count": 13,
   "id": "lucky-christian",
   "metadata": {
    "tags": []
   },
   "outputs": [
    {
     "name": "stdout",
     "output_type": "stream",
     "text": [
      "UGUAACGAACGGUGCAAUAG...UG\n"
     ]
    }
   ],
   "source": [
    "rna_seq = record.seq.transcribe()\n",
    "print(f'{rna_seq[:20]}...{rna_seq[-2]}{rna_seq[-1]}')"
   ]
  },
  {
   "cell_type": "markdown",
   "id": "twenty-michael",
   "metadata": {},
   "source": [
    "**Транслација на нуклеотидите:**"
   ]
  },
  {
   "cell_type": "code",
   "execution_count": 14,
   "id": "passing-publisher",
   "metadata": {
    "tags": []
   },
   "outputs": [
    {
     "name": "stdout",
     "output_type": "stream",
     "text": [
      "CNERCNSDPHPTPEIRSRG*SALLIQESLWSLLRQLWKLK...PL\n"
     ]
    }
   ],
   "source": [
    "protein_seq = record.seq.translate()\n",
    "print(f'{protein_seq[:40]}...{protein_seq[-2]}{protein_seq[-1]}')"
   ]
  },
  {
   "cell_type": "markdown",
   "id": "affected-crowd",
   "metadata": {},
   "source": [
    "**Транслација на нуклеотидите то првиот стоп кодон и потоа прекинува:** "
   ]
  },
  {
   "cell_type": "code",
   "execution_count": 15,
   "id": "monetary-contrast",
   "metadata": {},
   "outputs": [
    {
     "name": "stdout",
     "output_type": "stream",
     "text": [
      "CNERCNSDPHPTPEIRSRG\n"
     ]
    }
   ],
   "source": [
    "protein_seq_w = record.seq.translate(to_stop=True)\n",
    "print(protein_seq_w)"
   ]
  },
  {
   "cell_type": "markdown",
   "id": "removable-place",
   "metadata": {
    "heading_collapsed": "true",
    "tags": []
   },
   "source": [
    "## Барање 5: Репликација на секвенцата"
   ]
  },
  {
   "cell_type": "markdown",
   "id": "about-greeting",
   "metadata": {},
   "source": [
    "*Имплеметирајте репликација на секвенцијата потпомогнатаод функции во biopython.*"
   ]
  },
  {
   "cell_type": "markdown",
   "id": "hybrid-ancient",
   "metadata": {},
   "source": [
    "Пример на рандом секвенца: "
   ]
  },
  {
   "cell_type": "code",
   "execution_count": 22,
   "id": "collaborative-grant",
   "metadata": {},
   "outputs": [
    {
     "name": "stdout",
     "output_type": "stream",
     "text": [
      "Оригинална секвенца:  ATTGC\n",
      "Реплицирана секвенца: ATTGC\n"
     ]
    }
   ],
   "source": [
    "from Bio.Seq import Seq\n",
    "seq = Seq(\"ATTGC\")\n",
    "print(f'Оригинална секвенца:  {seq}')\n",
    "seq_3 = seq.complement()\n",
    "print(f'Реплицирана секвенца: {seq_3.complement()}')"
   ]
  },
  {
   "cell_type": "markdown",
   "id": "fancy-license",
   "metadata": {},
   "source": [
    "Пример врз Yersinia pestis ДНА секвенцата: "
   ]
  },
  {
   "cell_type": "code",
   "execution_count": 23,
   "id": "enhanced-aviation",
   "metadata": {},
   "outputs": [
    {
     "name": "stdout",
     "output_type": "stream",
     "text": [
      "Оригинална секвенца:  TGTAACGAACGGTGC...G\n",
      "Реплицирана секвенца: TGTAACGAACGGTGC...G\n"
     ]
    }
   ],
   "source": [
    "from Bio import SeqIO\n",
    "record = SeqIO.read(\"yersinia-pestis-fasta/NC_005816.gb\", \"genbank\")\n",
    "print(f'Оригинална секвенца:  {record.seq[:15]}...{record.seq[-1]}')\n",
    "record_comp = record.seq.complement()\n",
    "dna_rep = record_comp.complement()\n",
    "print(f'Реплицирана секвенца: {dna_rep[:15]}...{dna_rep[-1]}')"
   ]
  },
  {
   "cell_type": "markdown",
   "id": "exceptional-greene",
   "metadata": {
    "heading_collapsed": "true",
    "tags": []
   },
   "source": [
    "## Барање 6: Пронаоѓање на сите CDS"
   ]
  },
  {
   "cell_type": "markdown",
   "id": "naked-companion",
   "metadata": {},
   "source": [
    "*Со помош на biopython, пронајдете ги секвенциите на\n",
    "различните кодни региони означени како (CDS). CDS се\n",
    "регионите добиени после процедурата на отсекување на\n",
    "интроните.*"
   ]
  },
  {
   "cell_type": "code",
   "execution_count": 33,
   "id": "desirable-carolina",
   "metadata": {},
   "outputs": [],
   "source": [
    "from Bio import SeqIO\n",
    "gene_record = SeqIO.read(\"yersinia-pestis-fasta/NC_005816.gb\", \"genbank\")"
   ]
  },
  {
   "cell_type": "markdown",
   "id": "overall-warner",
   "metadata": {},
   "source": [
    "Вкупната должина на ДНА секвенцата е: "
   ]
  },
  {
   "cell_type": "code",
   "execution_count": 34,
   "id": "noble-hierarchy",
   "metadata": {},
   "outputs": [
    {
     "name": "stdout",
     "output_type": "stream",
     "text": [
      "9609\n"
     ]
    }
   ],
   "source": [
    "print(len(gene_record.seq))"
   ]
  },
  {
   "cell_type": "markdown",
   "id": "involved-stock",
   "metadata": {},
   "source": [
    "Додека нас не интересира елементот од gene_record.features, кој е листа од карактеристики од големо значење за описот на самата секвенца. Откако ќе се започне со користење на овие секвенци, ова е еден вид на организација што лесно ни озвозможува да добиеме \"поапстрактна\" информација што се знае за самата секвенца. \n",
    "\n",
    "Вкупниот број на овие features може да го добиеме со: "
   ]
  },
  {
   "cell_type": "code",
   "execution_count": 35,
   "id": "saving-objective",
   "metadata": {},
   "outputs": [
    {
     "name": "stdout",
     "output_type": "stream",
     "text": [
      "41\n"
     ]
    }
   ],
   "source": [
    "print(len(gene_record.features))"
   ]
  },
  {
   "cell_type": "markdown",
   "id": "threatened-toner",
   "metadata": {},
   "source": [
    "Секој еден feature има неколку атрибути, како на пример првиот од листата гледаме дека има повеќе променливи кои го опишваат меѓу кои најбитни се: \n",
    "\n",
    "- <code>.type:</code> типот на карактеристика (\"CDS\", \"gene\", ..) \n",
    "- <code>.location:</code> локација на самата секвенца, како вид мапирање (почеток:крај)"
   ]
  },
  {
   "cell_type": "code",
   "execution_count": 36,
   "id": "tracked-tampa",
   "metadata": {},
   "outputs": [
    {
     "data": {
      "text/plain": [
       "['__bool__',\n",
       " '__class__',\n",
       " '__contains__',\n",
       " '__delattr__',\n",
       " '__dict__',\n",
       " '__dir__',\n",
       " '__doc__',\n",
       " '__eq__',\n",
       " '__format__',\n",
       " '__ge__',\n",
       " '__getattribute__',\n",
       " '__gt__',\n",
       " '__hash__',\n",
       " '__init__',\n",
       " '__init_subclass__',\n",
       " '__iter__',\n",
       " '__le__',\n",
       " '__len__',\n",
       " '__lt__',\n",
       " '__module__',\n",
       " '__ne__',\n",
       " '__new__',\n",
       " '__reduce__',\n",
       " '__reduce_ex__',\n",
       " '__repr__',\n",
       " '__setattr__',\n",
       " '__sizeof__',\n",
       " '__str__',\n",
       " '__subclasshook__',\n",
       " '__weakref__',\n",
       " '_flip',\n",
       " '_get_location_operator',\n",
       " '_get_ref',\n",
       " '_get_ref_db',\n",
       " '_get_strand',\n",
       " '_set_location_operator',\n",
       " '_set_ref',\n",
       " '_set_ref_db',\n",
       " '_set_strand',\n",
       " '_shift',\n",
       " 'extract',\n",
       " 'id',\n",
       " 'location',\n",
       " 'location_operator',\n",
       " 'qualifiers',\n",
       " 'ref',\n",
       " 'ref_db',\n",
       " 'strand',\n",
       " 'translate',\n",
       " 'type']"
      ]
     },
     "execution_count": 36,
     "metadata": {},
     "output_type": "execute_result"
    }
   ],
   "source": [
    "dir(gene_record.features[0])"
   ]
  },
  {
   "cell_type": "markdown",
   "id": "satisfied-madonna",
   "metadata": {},
   "source": [
    "Пример од книгата, еден CDS е \"<code>pim</code>\" генот, YP_pPCP05 кој се наоѓа меѓу [4342:4780]: "
   ]
  },
  {
   "cell_type": "code",
   "execution_count": 37,
   "id": "defined-laugh",
   "metadata": {},
   "outputs": [
    {
     "name": "stdout",
     "output_type": "stream",
     "text": [
      "type: CDS\n",
      "location: [4342:4780](+)\n",
      "qualifiers:\n",
      "    Key: codon_start, Value: ['1']\n",
      "    Key: db_xref, Value: ['GI:45478716', 'GeneID:2767712']\n",
      "    Key: gene, Value: ['pim']\n",
      "    Key: locus_tag, Value: ['YP_pPCP05']\n",
      "    Key: note, Value: ['similar to many previously sequenced pesticin immunity protein entries of Yersinia pestis plasmid pPCP, e.g. gi| 16082683|,ref|NP_395230.1| (NC_003132) , gi|1200166|emb|CAA90861.1| (Z54145 ) , gi|1488655| emb|CAA63439.1| (X92856) , gi|2996219|gb|AAC62543.1| (AF053945) , and gi|5763814|emb|CAB531 67.1| (AL109969)']\n",
      "    Key: product, Value: ['pesticin immunity protein']\n",
      "    Key: protein_id, Value: ['NP_995571.1']\n",
      "    Key: transl_table, Value: ['11']\n",
      "    Key: translation, Value: ['MGGGMISKLFCLALIFLSSSGLAEKNTYTAKDILQNLELNTFGNSLSHGIYGKQTTFKQTEFTNIKSNTKKHIALINKDNSWMISLKILGIKRDEYTVCFEDFSLIRPPTYVAIHPLLIKKVKSGNFIVVKEIKKSIPGCTVYYH']\n",
      "\n"
     ]
    }
   ],
   "source": [
    "print(gene_record.features[21])"
   ]
  },
  {
   "cell_type": "markdown",
   "id": "greenhouse-mandate",
   "metadata": {},
   "source": [
    "Но, ние треба да ги најдее сите вакви CDS кодони и ова може да го направиме со тоа што ќе бараме низ целата низа од 41 features каде се наоѓаат оние кои имаат тип \"CDS\":"
   ]
  },
  {
   "cell_type": "code",
   "execution_count": 38,
   "id": "neural-mistake",
   "metadata": {},
   "outputs": [],
   "source": [
    "CDS_list = []\n",
    "\n",
    "for i in range(0, len(gene_record.features)):\n",
    "    if gene_record.features[i].type == \"CDS\":\n",
    "        CDS_list.append(i)"
   ]
  },
  {
   "cell_type": "code",
   "execution_count": 39,
   "id": "lonely-absence",
   "metadata": {},
   "outputs": [
    {
     "name": "stdout",
     "output_type": "stream",
     "text": [
      "10\n"
     ]
    }
   ],
   "source": [
    "print(len(CDS_list))"
   ]
  },
  {
   "cell_type": "markdown",
   "id": "copyrighted-quantity",
   "metadata": {},
   "source": [
    "Вакви гледаме дека се вкупно 10, и нив можеме да ги испринтаме:"
   ]
  },
  {
   "cell_type": "code",
   "execution_count": 40,
   "id": "musical-finance",
   "metadata": {},
   "outputs": [
    {
     "name": "stdout",
     "output_type": "stream",
     "text": [
      "type: CDS\n",
      "location: [86:1109](+)\n",
      "qualifiers:\n",
      "    Key: codon_start, Value: ['1']\n",
      "    Key: db_xref, Value: ['GI:45478712', 'GeneID:2767718']\n",
      "    Key: locus_tag, Value: ['YP_pPCP01']\n",
      "    Key: note, Value: ['similar to corresponding CDS from previously sequenced pPCP plasmid of Yersinia pestis KIM (AF053945) and CO92 (AL109969), also many transposase entries for insertion sequence IS100 of Yersinia pestis. Contains IS21-like element transposase, HTH domain (Interpro|IPR007101)']\n",
      "    Key: product, Value: ['putative transposase']\n",
      "    Key: protein_id, Value: ['NP_995567.1']\n",
      "    Key: transl_table, Value: ['11']\n",
      "    Key: translation, Value: ['MVTFETVMEIKILHKQGMSSRAIARELGISRNTVKRYLQAKSEPPKYTPRPAVASLLDEYRDYIRQRIADAHPYKIPATVIAREIRDQGYRGGMTILRAFIRSLSVPQEQEPAVRFETEPGRQMQVDWGTMRNGRSPLHVFVAVLGYSRMLYIEFTDNMRYDTLETCHRNAFRFFGGVPREVLYDNMKTVVLQRDAYQTGQHRFHPSLWQFGKEMGFSPRLCRPFRAQTKGKVERMVQYTRNSFYIPLMTRLRPMGITVDVETANRHGLRWLHDVANQRKHETIQARPCDRWLEEQQSMLALPPEKKEYDVHLDENLVNFDKHPLHHPLSIYDSFCRGVA']\n",
      "\n",
      "type: CDS\n",
      "location: [1105:1888](+)\n",
      "qualifiers:\n",
      "    Key: codon_start, Value: ['1']\n",
      "    Key: db_xref, Value: ['GI:45478713', 'GeneID:2767716']\n",
      "    Key: locus_tag, Value: ['YP_pPCP02']\n",
      "    Key: note, Value: ['similar to corresponding CDS form previously sequenced pPCP plasmid of Yersinia pestis KIM (AF053945) and CO92 (AL109969), also many ATP-binding protein entries for insertion sequence IS100 of Yersinia pestis. Contains Chaperonin clpA/B (Interpro|IPR001270). Contains ATP/GTP-binding site motif A (P-loop) (Interpro|IPR001687, Molecular Function: ATP binding (GO:0005524)). Contains Bacterial chromosomal replication initiator protein, DnaA (Interpro|IPR001957, Molecular Function: DNA binding (GO:0003677), Molecular Function: DNA replication origin binding (GO:0003688), Molecular Function: ATP binding (GO:0005524), Biological Process: DNA replication initiation (GO:0006270), Biological Process: regulation of DNA replication (GO:0006275)). Contains AAA ATPase (Interpro|IPR003593, Molecular Function: nucleotide binding (GO:0000166))']\n",
      "    Key: product, Value: ['transposase/IS protein']\n",
      "    Key: protein_id, Value: ['NP_995568.1']\n",
      "    Key: transl_table, Value: ['11']\n",
      "    Key: translation, Value: ['MMMELQHQRLMALAGQLQLESLISAAPALSQQAVDQEWSYMDFLEHLLHEEKLARHQRKQAMYTRMAAFPAVKTFEEYDFTFATGAPQKQLQSLRSLSFIERNENIVLLGPSGVGKTHLAIAMGYEAVRAGIKVRFTTAADLLLQLSTAQRQGRYKTTLQRGVMAPRLLIIDEIGYLPFSQEEAKLFFQVIAKRYEKSAMILTSNLPFGQWDQTFAGDAALTSAMLDRILHHSHVVQIKGESYRLRQKRKAGVIAEANPE']\n",
      "\n",
      "type: CDS\n",
      "location: [2924:3119](+)\n",
      "qualifiers:\n",
      "    Key: codon_start, Value: ['1']\n",
      "    Key: db_xref, Value: ['GI:45478714', 'GeneID:2767717']\n",
      "    Key: gene, Value: ['rop']\n",
      "    Key: gene_synonym, Value: ['rom']\n",
      "    Key: locus_tag, Value: ['YP_pPCP03']\n",
      "    Key: note, Value: ['Best Blastp hit =gi|16082682|ref|NP_395229.1| (NC_003132) putative replication regulatory protein [Yersinia pestis], gi|5763813|emb|CAB531 66.1| (AL109969) putative replication regulatory protein [Yersinia pestis]; similar to gb|AAK91579.1| (AY048853), RNAI modulator protein Rom [Salmonella choleraesuis], Contains Regulatory protein Rop (Interpro|IPR000769)']\n",
      "    Key: product, Value: ['putative replication regulatory protein']\n",
      "    Key: protein_id, Value: ['NP_995569.1']\n",
      "    Key: transl_table, Value: ['11']\n",
      "    Key: translation, Value: ['MNKQQQTALNMARFIRSQSLILLEKLDALDADEQAAMCERLHELAEELQNSIQARFEAESETGT']\n",
      "\n",
      "type: CDS\n",
      "location: [3485:3857](+)\n",
      "qualifiers:\n",
      "    Key: codon_start, Value: ['1']\n",
      "    Key: db_xref, Value: ['GI:45478715', 'GeneID:2767720']\n",
      "    Key: locus_tag, Value: ['YP_pPCP04']\n",
      "    Key: note, Value: ['Best Blastp hit = gi|321919|pir||JQ1541 hypothetical 16.9K protein - Salmonella typhi murium plasmid NTP16.']\n",
      "    Key: product, Value: ['hypothetical protein']\n",
      "    Key: protein_id, Value: ['NP_995570.1']\n",
      "    Key: transl_table, Value: ['11']\n",
      "    Key: translation, Value: ['MSKKRRPQKRPRRRRFFHRLRPPDEHHKNRRSSQRWRNPTGLKDTRRFPPEAPSCALLFRPCRLPDTSPPFSLREAWRFLIAHAVGISVRCRSFAPSWAVCTNPPFSPTTAPYPVTIVLSPTR']\n",
      "\n",
      "type: CDS\n",
      "location: [4342:4780](+)\n",
      "qualifiers:\n",
      "    Key: codon_start, Value: ['1']\n",
      "    Key: db_xref, Value: ['GI:45478716', 'GeneID:2767712']\n",
      "    Key: gene, Value: ['pim']\n",
      "    Key: locus_tag, Value: ['YP_pPCP05']\n",
      "    Key: note, Value: ['similar to many previously sequenced pesticin immunity protein entries of Yersinia pestis plasmid pPCP, e.g. gi| 16082683|,ref|NP_395230.1| (NC_003132) , gi|1200166|emb|CAA90861.1| (Z54145 ) , gi|1488655| emb|CAA63439.1| (X92856) , gi|2996219|gb|AAC62543.1| (AF053945) , and gi|5763814|emb|CAB531 67.1| (AL109969)']\n",
      "    Key: product, Value: ['pesticin immunity protein']\n",
      "    Key: protein_id, Value: ['NP_995571.1']\n",
      "    Key: transl_table, Value: ['11']\n",
      "    Key: translation, Value: ['MGGGMISKLFCLALIFLSSSGLAEKNTYTAKDILQNLELNTFGNSLSHGIYGKQTTFKQTEFTNIKSNTKKHIALINKDNSWMISLKILGIKRDEYTVCFEDFSLIRPPTYVAIHPLLIKKVKSGNFIVVKEIKKSIPGCTVYYH']\n",
      "\n",
      "type: CDS\n",
      "location: [4814:5888](-)\n",
      "qualifiers:\n",
      "    Key: codon_start, Value: ['1']\n",
      "    Key: db_xref, Value: ['GI:45478717', 'GeneID:2767721']\n",
      "    Key: gene, Value: ['pst']\n",
      "    Key: locus_tag, Value: ['YP_pPCP06']\n",
      "    Key: note, Value: ['Best Blastp hit =|16082684|ref|NP_395231.1| (NC_003132) pesticin [Yersinia pestis], gi|984824|gb|AAA75369.1| (U31974) pesticin [Yersinia pestis], gi|1488654|emb|CAA63438.1| (X92856) pesticin [Yersinia pestis], gi|2996220|gb|AAC62544.1| (AF053945) pesticin [Yersinia pestis], gi|5763815|emb|CAB53168.1| (AL1099 69) pesticin [Yersinia pestis]']\n",
      "    Key: product, Value: ['pesticin']\n",
      "    Key: protein_id, Value: ['NP_995572.1']\n",
      "    Key: transl_table, Value: ['11']\n",
      "    Key: translation, Value: ['MSDTMVVNGSGGVPAFLFSGSTLSSYRPNFEANSITIALPHYVDLPGRSNFKLMYIMGFPIDTEMEKDSEYSNKIRQESKISKTEGTVSYEQKITVETGQEKDGVKVYRVMVLEGTIAESIEHLDKKENEDILNNNRNRIVLADNTVINFDNISQLKEFLRRSVNIVDHDIFSSNGFEGFNPTSHFPSNPSSDYFNSTGVTFGSGVDLGQRSKQDLLNDGVPQYIADRLDGYYMLRGKEAYDKVRTAPLTLSDNEAHLLSNIYIDKFSHKIEGLFNDANIGLRFSDLPLRTRTALVSIGYQKGFKLSRTAPTVWNKVIAKDWNGLVNAFNNIVDGMSDRRKREGALVQKDIDSGLLK']\n",
      "\n",
      "type: CDS\n",
      "location: [6004:6421](+)\n",
      "qualifiers:\n",
      "    Key: codon_start, Value: ['1']\n",
      "    Key: db_xref, Value: ['GI:45478718', 'GeneID:2767719']\n",
      "    Key: locus_tag, Value: ['YP_pPCP07']\n",
      "    Key: note, Value: ['Best Blastp hit = gi|16082685|ref|NP_395232.1| (NC_003132) hypothetical protein [Yersinia pestis], gi|5763816|emb|CAB53169.1| (AL109969) hypothetical protein [Yersinia pestis]']\n",
      "    Key: product, Value: ['hypothetical protein']\n",
      "    Key: protein_id, Value: ['NP_995573.1']\n",
      "    Key: transl_table, Value: ['11']\n",
      "    Key: translation, Value: ['MKFHFCDLNHSYKNQEGKIRSRKTAPGNIRKKQKGDNVSKTKSGRHRLSKTDKRLLAALVVAGYEERTARDLIQKHVYTLTQADLRHLVSEISNGVGQSQAYDAIYQARRIRLARKYLSGKKPEGVEPREGQEREDLP']\n",
      "\n",
      "type: CDS\n",
      "location: [6663:7602](+)\n",
      "qualifiers:\n",
      "    Key: EC_number, Value: ['3.4.23.48']\n",
      "    Key: codon_start, Value: ['1']\n",
      "    Key: db_xref, Value: ['GI:45478719', 'GeneID:2767715']\n",
      "    Key: gene, Value: ['pla']\n",
      "    Key: locus_tag, Value: ['YP_pPCP08']\n",
      "    Key: note, Value: ['outer membrane protease; involved in virulence in many organisms; OmpT; IcsP; SopA; Pla; PgtE; omptin; in Escherichia coli OmpT can degrade antimicrobial peptides; in Yersinia Pla activates plasminogen during infection; in Shigella flexneria SopA cleaves the autotransporter IcsA']\n",
      "    Key: product, Value: ['outer membrane protease']\n",
      "    Key: protein_id, Value: ['NP_995574.1']\n",
      "    Key: transl_table, Value: ['11']\n",
      "    Key: translation, Value: ['MKKSSIVATIITILSGSANAASSQLIPNISPDSFTVAASTGMLSGKSHEMLYDAETGRKISQLDWKIKNVAILKGDISWDPYSFLTLNARGWTSLASGSGNMDDYDWMNENQSEWTDHSSHPATNVNHANEYDLNVKGWLLQDENYKAGITAGYQETRFSWTATGGSYSYNNGAYTGNFPKGVRVIGYNQRFSMPYIGLAGQYRINDFELNALFKFSDWVRAHDNDEHYMRDLTFREKTSGSRYYGTVINAGYYVTPNAKVFAEFTYSKYDEGKGGTQIIDKNSGDSVSIGGDAAGISNKNYTVTAGLQYRF']\n",
      "\n",
      "type: CDS\n",
      "location: [7788:8088](-)\n",
      "qualifiers:\n",
      "    Key: codon_start, Value: ['1']\n",
      "    Key: db_xref, Value: ['GI:45478720', 'GeneID:2767713']\n",
      "    Key: locus_tag, Value: ['YP_pPCP09']\n",
      "    Key: note, Value: ['Best Blastp hit = gi|16082687|ref|NP_395234.1| (NC_003132) putative transcriptional regulator [Yersinia pestis], gi|5763818|emb|CAB53171.1| (AL109969) putative transcriptional regulator [Yersinia pestis].']\n",
      "    Key: product, Value: ['putative transcriptional regulator']\n",
      "    Key: protein_id, Value: ['NP_995575.1']\n",
      "    Key: transl_table, Value: ['11']\n",
      "    Key: translation, Value: ['MRTLDEVIASRSPESQTRIKEMADEMILEVGLQMMREELQLSQKQVAEAMGISQPAVTKLEQRGNDLKLATLKRYVEAMGGKLSLDVELPTGRRVAFHV']\n",
      "\n",
      "type: CDS\n",
      "location: [8087:8360](-)\n",
      "qualifiers:\n",
      "    Key: codon_start, Value: ['1']\n",
      "    Key: db_xref, Value: ['GI:45478721', 'GeneID:2767714']\n",
      "    Key: locus_tag, Value: ['YP_pPCP10']\n",
      "    Key: note, Value: ['Best Blastp hit = gi|16082688|ref|NP_395235.1| (NC_003132) hypothetical protein [ Yersinia pestis], gi|5763819|emb|CAB53172.1| (AL109969) hypothetical protein [Yersinia pestis]']\n",
      "    Key: product, Value: ['hypothetical protein']\n",
      "    Key: protein_id, Value: ['NP_995576.1']\n",
      "    Key: transl_table, Value: ['11']\n",
      "    Key: translation, Value: ['MADLKKLQVYGPELPRPYADTVKGSRYKNMKELRVQFSGRPIRAFYAFDPIRRAIVLCAGDKSNDKRFYEKLVRIAEDEFTAHLNTLESK']\n",
      "\n"
     ]
    }
   ],
   "source": [
    "for i in CDS_list:\n",
    "    print(gene_record.features[i])"
   ]
  },
  {
   "cell_type": "markdown",
   "id": "discrete-verification",
   "metadata": {
    "tags": []
   },
   "source": [
    "## Барање 7: Пронаоѓање на сите старт/стоп кодони во \"pim\""
   ]
  },
  {
   "cell_type": "markdown",
   "id": "becoming-bargain",
   "metadata": {},
   "source": [
    "*Одберете еден CDS и најдете ги сите старт и стоп кодони во\n",
    "неговата РНА.*"
   ]
  },
  {
   "cell_type": "markdown",
   "id": "virtual-communications",
   "metadata": {},
   "source": [
    "За CDS се одлучив да одам со \"<code>pim</code>\" генот, YP_pPCP05. Локацијата ја зимам од главната секвенца и истотака табелата за преведување на RNA е со вредност 11! "
   ]
  },
  {
   "cell_type": "code",
   "execution_count": 41,
   "id": "beautiful-virginia",
   "metadata": {},
   "outputs": [
    {
     "name": "stdout",
     "output_type": "stream",
     "text": [
      "type: CDS\n",
      "location: [4342:4780](+)\n",
      "qualifiers:\n",
      "    Key: codon_start, Value: ['1']\n",
      "    Key: db_xref, Value: ['GI:45478716', 'GeneID:2767712']\n",
      "    Key: gene, Value: ['pim']\n",
      "    Key: locus_tag, Value: ['YP_pPCP05']\n",
      "    Key: note, Value: ['similar to many previously sequenced pesticin immunity protein entries of Yersinia pestis plasmid pPCP, e.g. gi| 16082683|,ref|NP_395230.1| (NC_003132) , gi|1200166|emb|CAA90861.1| (Z54145 ) , gi|1488655| emb|CAA63439.1| (X92856) , gi|2996219|gb|AAC62543.1| (AF053945) , and gi|5763814|emb|CAB531 67.1| (AL109969)']\n",
      "    Key: product, Value: ['pesticin immunity protein']\n",
      "    Key: protein_id, Value: ['NP_995571.1']\n",
      "    Key: transl_table, Value: ['11']\n",
      "    Key: translation, Value: ['MGGGMISKLFCLALIFLSSSGLAEKNTYTAKDILQNLELNTFGNSLSHGIYGKQTTFKQTEFTNIKSNTKKHIALINKDNSWMISLKILGIKRDEYTVCFEDFSLIRPPTYVAIHPLLIKKVKSGNFIVVKEIKKSIPGCTVYYH']\n",
      "\n"
     ]
    }
   ],
   "source": [
    "print(gene_record.features[21])"
   ]
  },
  {
   "cell_type": "markdown",
   "id": "indonesian-membrane",
   "metadata": {},
   "source": [
    "Зимање на подстринг од главната секвенца:"
   ]
  },
  {
   "cell_type": "code",
   "execution_count": 42,
   "id": "cheap-summit",
   "metadata": {},
   "outputs": [
    {
     "name": "stdout",
     "output_type": "stream",
     "text": [
      "ID: NC_005816.1\n",
      "Name: NC_005816\n",
      "Description: Yersinia pestis biovar Microtus str. 91001 plasmid pPCP1, complete sequence\n",
      "Number of features: 2\n",
      "Seq('ATGGGAGGGGGAATGATCTCAAAGTTATTTTGCTTGGCTCTCATATTTTTATCA...TAA')\n",
      "438\n"
     ]
    }
   ],
   "source": [
    "sub_record = gene_record[4342:4780]\n",
    "print(sub_record)\n",
    "print(len(sub_record))"
   ]
  },
  {
   "cell_type": "markdown",
   "id": "speaking-backing",
   "metadata": {},
   "source": [
    "Добивање на RNA со транскрипција од подстрингот:"
   ]
  },
  {
   "cell_type": "code",
   "execution_count": 43,
   "id": "lined-lexington",
   "metadata": {},
   "outputs": [
    {
     "name": "stdout",
     "output_type": "stream",
     "text": [
      "AUGGGAGGGGGAAUGAUCUCAAAGUUAUUUUGCUUGGCUCUCAUAUUUUUAUCAUCAAGUGGCCUUGCAGAAAAAAACACAUAUACAGCAAAAGACAUCUUGCAAAACCUAGAAUUAAAUACCUUUGGCAAUUCAUUGUCUCAUGGCAUCUAUGGGAAACAGACAACCUUCAAGCAAACCGAGUUUACAAAUAUUAAAAGCAACACCAAAAAACACAUUGCACUUAUCAAUAAAGACAACUCAUGGAUGAUAUCAUUAAAAAUACUAGGAAUUAAGAGAGAUGAGUAUACUGUCUGUUUUGAAGAUUUCUCUCUAAUAAGACCGCCAACAUAUGUAGCCAUACAUCCUCUACUUAUAAAAAAAGUAAAAUCUGGAAACUUUAUAGUAGUGAAAGAAAUAAAGAAAUCUAUCCCUGGUUGCACUGUAUAUUAUCAUUAA\n"
     ]
    }
   ],
   "source": [
    "sub_rna = sub_record.seq.transcribe()\n",
    "print(sub_rna)"
   ]
  },
  {
   "cell_type": "markdown",
   "id": "funky-typing",
   "metadata": {},
   "source": [
    "Табела за соодветните старт/стоп кодони според главниот запис е со број 11:"
   ]
  },
  {
   "cell_type": "code",
   "execution_count": 44,
   "id": "coordinate-cruise",
   "metadata": {},
   "outputs": [
    {
     "name": "stdout",
     "output_type": "stream",
     "text": [
      "Table 11 Bacterial, Archaeal, Plant Plastid\n",
      "\n",
      "  |  U      |  C      |  A      |  G      |\n",
      "--+---------+---------+---------+---------+--\n",
      "U | UUU F   | UCU S   | UAU Y   | UGU C   | U\n",
      "U | UUC F   | UCC S   | UAC Y   | UGC C   | C\n",
      "U | UUA L   | UCA S   | UAA Stop| UGA Stop| A\n",
      "U | UUG L(s)| UCG S   | UAG Stop| UGG W   | G\n",
      "--+---------+---------+---------+---------+--\n",
      "C | CUU L   | CCU P   | CAU H   | CGU R   | U\n",
      "C | CUC L   | CCC P   | CAC H   | CGC R   | C\n",
      "C | CUA L   | CCA P   | CAA Q   | CGA R   | A\n",
      "C | CUG L(s)| CCG P   | CAG Q   | CGG R   | G\n",
      "--+---------+---------+---------+---------+--\n",
      "A | AUU I(s)| ACU T   | AAU N   | AGU S   | U\n",
      "A | AUC I(s)| ACC T   | AAC N   | AGC S   | C\n",
      "A | AUA I(s)| ACA T   | AAA K   | AGA R   | A\n",
      "A | AUG M(s)| ACG T   | AAG K   | AGG R   | G\n",
      "--+---------+---------+---------+---------+--\n",
      "G | GUU V   | GCU A   | GAU D   | GGU G   | U\n",
      "G | GUC V   | GCC A   | GAC D   | GGC G   | C\n",
      "G | GUA V   | GCA A   | GAA E   | GGA G   | A\n",
      "G | GUG V(s)| GCG A   | GAG E   | GGG G   | G\n",
      "--+---------+---------+---------+---------+--\n",
      "Старт кодони: ['UUG', 'CUG', 'AUU', 'AUC', 'AUA', 'AUG', 'GUG']\n",
      "Стоп кодони: ['UAA', 'UAG', 'UGA']\n"
     ]
    }
   ],
   "source": [
    "mito_table = CodonTable.unambiguous_rna_by_id[11]\n",
    "print(mito_table)\n",
    "print(f\"Старт кодони: {mito_table.start_codons}\")\n",
    "print(f\"Стоп кодони: {mito_table.stop_codons}\")"
   ]
  },
  {
   "cell_type": "code",
   "execution_count": 45,
   "id": "professional-switch",
   "metadata": {},
   "outputs": [
    {
     "name": "stdout",
     "output_type": "stream",
     "text": [
      "type: CDS\n",
      "location: [4342:4780](+)\n",
      "qualifiers:\n",
      "    Key: codon_start, Value: ['1']\n",
      "    Key: db_xref, Value: ['GI:45478716', 'GeneID:2767712']\n",
      "    Key: gene, Value: ['pim']\n",
      "    Key: locus_tag, Value: ['YP_pPCP05']\n",
      "    Key: note, Value: ['similar to many previously sequenced pesticin immunity protein entries of Yersinia pestis plasmid pPCP, e.g. gi| 16082683|,ref|NP_395230.1| (NC_003132) , gi|1200166|emb|CAA90861.1| (Z54145 ) , gi|1488655| emb|CAA63439.1| (X92856) , gi|2996219|gb|AAC62543.1| (AF053945) , and gi|5763814|emb|CAB531 67.1| (AL109969)']\n",
      "    Key: product, Value: ['pesticin immunity protein']\n",
      "    Key: protein_id, Value: ['NP_995571.1']\n",
      "    Key: transl_table, Value: ['11']\n",
      "    Key: translation, Value: ['MGGGMISKLFCLALIFLSSSGLAEKNTYTAKDILQNLELNTFGNSLSHGIYGKQTTFKQTEFTNIKSNTKKHIALINKDNSWMISLKILGIKRDEYTVCFEDFSLIRPPTYVAIHPLLIKKVKSGNFIVVKEIKKSIPGCTVYYH']\n",
      "\n",
      "Вкупна должина на CBS: 438\n",
      "AUGGGAGGGGGAAUGAUCUCAAAGUUAUUUUGCUUGGCUCUCAUAUUUUUAUCAUCAAGUGGCCUUGCAGAAAAAAACACAUAUACAGCAAAAGACAUCUUGCAAAACCUAGAAUUAAAUACCUUUGGCAAUUCAUUGUCUCAUGGCAUCUAUGGGAAACAGACAACCUUCAAGCAAACCGAGUUUACAAAUAUUAAAAGCAACACCAAAAAACACAUUGCACUUAUCAAUAAAGACAACUCAUGGAUGAUAUCAUUAAAAAUACUAGGAAUUAAGAGAGAUGAGUAUACUGUCUGUUUUGAAGAUUUCUCUCUAAUAAGACCGCCAACAUAUGUAGCCAUACAUCCUCUACUUAUAAAAAAAGUAAAAUCUGGAAACUUUAUAGUAGUGAAAGAAAUAAAGAAAUCUAUCCCUGGUUGCACUGUAUAUUAUCAUUAA\n",
      "\n",
      "Вкупен број на старт кодони: 64\n",
      "Најден старт кодон со позиција: [(0, 'AUG'), (12, 'AUG'), (15, 'AUC'), (26, 'AUU'), (29, 'UUG'), (33, 'UUG'), (42, 'AUA'), (44, 'AUU'), (50, 'AUC'), (53, 'AUC'), (58, 'GUG'), (64, 'UUG'), (80, 'AUA'), (82, 'AUA'), (96, 'AUC'), (99, 'UUG'), (113, 'AUU'), (118, 'AUA'), (124, 'UUG'), (130, 'AUU'), (134, 'AUU'), (135, 'UUG'), (142, 'AUG'), (147, 'AUC'), (151, 'AUG'), (190, 'AUA'), (192, 'AUU'), (216, 'AUU'), (217, 'UUG'), (225, 'AUC'), (229, 'AUA'), (242, 'AUG'), (246, 'AUG'), (249, 'AUA'), (251, 'AUC'), (254, 'AUU'), (261, 'AUA'), (270, 'AUU'), (280, 'AUG'), (286, 'AUA'), (289, 'CUG'), (293, 'CUG'), (298, 'UUG'), (304, 'AUU'), (315, 'AUA'), (329, 'AUA'), (331, 'AUG'), (339, 'AUA'), (343, 'AUC'), (354, 'AUA'), (368, 'AUC'), (370, 'CUG'), (381, 'AUA'), (387, 'GUG'), (396, 'AUA'), (404, 'AUC'), (408, 'AUC'), (412, 'CUG'), (416, 'UUG'), (421, 'CUG'), (425, 'AUA'), (427, 'AUU'), (430, 'AUC'), (433, 'AUU')]\n",
      "\n",
      "Вкупен број на стоп кодони: 21\n",
      "Најден стоп кодон со позиција: [(13, 'UGA'), (109, 'UAG'), (115, 'UAA'), (194, 'UAA'), (230, 'UAA'), (247, 'UGA'), (256, 'UAA'), (265, 'UAG'), (272, 'UAA'), (281, 'UGA'), (299, 'UGA'), (313, 'UAA'), (316, 'UAA'), (334, 'UAG'), (355, 'UAA'), (364, 'UAA'), (382, 'UAG'), (385, 'UAG'), (388, 'UGA'), (397, 'UAA'), (435, 'UAA')]\n"
     ]
    }
   ],
   "source": [
    "# Листи за позиции на старт и стоп кодони\n",
    "start_codon_positions = []\n",
    "stop_codon_positions = []\n",
    "# Листи за имињата на најдените кодони\n",
    "start_found = []\n",
    "stop_found = []\n",
    "# Конверзија во стринг, за полесна работа\n",
    "rna_string = str(sub_rna)\n",
    "\n",
    "\"\"\"\n",
    "Идеја на пребарување: \n",
    "- Започни од 0 и движи се до целата секвенца -2\n",
    "- Земи го моменталниот триплет \n",
    "- Провери дали е во старт кодоните -> Ако е зачувај торка (позиција, триплет)\n",
    "- Ако не, провери дали е во стоп кодоните -> Ако е зачувај торка (позиција, триплет)\n",
    "- Зголеми го бројачот \n",
    "\"\"\"\n",
    "\n",
    "k = 0\n",
    "while k < len(rna_string)-2:\n",
    "    # extract a three-nucleotide subsequence\n",
    "    current_codon = rna_string[k:k+3]\n",
    "    if current_codon in mito_table.start_codons:\n",
    "        start_found.append((k, current_codon))\n",
    "    elif current_codon in mito_table.stop_codons:\n",
    "        stop_found.append((k, current_codon))\n",
    "    k += 1\n",
    "\n",
    "print(gene_record.features[21])\n",
    "print(f\"Вкупна должина на CBS: {len(sub_rna)}\")\n",
    "print(sub_rna)\n",
    "print()\n",
    "print(f'Вкупен број на старт кодони: {len(start_found)}')\n",
    "print(f'Најден старт кодон со позиција: {start_found}')\n",
    "print()\n",
    "print(f'Вкупен број на стоп кодони: {len(stop_found)}')\n",
    "print(f'Најден стоп кодон со позиција: {stop_found}')"
   ]
  },
  {
   "cell_type": "markdown",
   "id": "christian-mambo",
   "metadata": {
    "tags": []
   },
   "source": [
    "## Барање 8: Транслација на секвенција"
   ]
  },
  {
   "cell_type": "markdown",
   "id": "efficient-outline",
   "metadata": {},
   "source": [
    "*Направете транслација за да ги добиете сите можни\n",
    "протеински секвенции.*"
   ]
  },
  {
   "cell_type": "code",
   "execution_count": 46,
   "id": "major-greeting",
   "metadata": {},
   "outputs": [
    {
     "name": "stdout",
     "output_type": "stream",
     "text": [
      "Екстрахирана секвенца добиена по анализата на \"pim\" CDS:\n",
      "\n",
      "AUGGGAGGGGGAAUGAUCUCAAAGUUAUUUUGCUUGGCUCUCAUAUUUUUAUCAUCAAGUGGCCUUGCAGAAAAAAACACAUAUACAGCAAAAGACAUCUUGCAAAACCUAGAAUUAAAUACCUUUGGCAAUUCAUUGUCUCAUGGCAUCUAUGGGAAACAGACAACCUUCAAGCAAACCGAGUUUACAAAUAUUAAAAGCAACACCAAAAAACACAUUGCACUUAUCAAUAAAGACAACUCAUGGAUGAUAUCAUUAAAAAUACUAGGAAUUAAGAGAGAUGAGUAUACUGUCUGUUUUGAAGAUUUCUCUCUAAUAAGACCGCCAACAUAUGUAGCCAUACAUCCUCUACUUAUAAAAAAAGUAAAAUCUGGAAACUUUAUAGUAGUGAAAGAAAUAAAGAAAUCUAUCCCUGGUUGCACUGUAUAUUAUCAUUAA\n",
      "Должина: 438\n"
     ]
    }
   ],
   "source": [
    "print('Екстрахирана секвенца добиена по анализата на \"pim\" CDS:\\n')\n",
    "print(sub_rna[start_found[0][0]:stop_found[-1][0]+3])\n",
    "print(f'Должина: {len(sub_rna[start_found[0][0]:stop_found[-1][0]+3])}')"
   ]
  },
  {
   "cell_type": "code",
   "execution_count": 47,
   "id": "wired-finding",
   "metadata": {},
   "outputs": [],
   "source": [
    "read_pim_seq = sub_rna[start_found[0][0]:stop_found[-1][0]+3]"
   ]
  },
  {
   "cell_type": "code",
   "execution_count": 48,
   "id": "color-egyptian",
   "metadata": {},
   "outputs": [
    {
     "name": "stdout",
     "output_type": "stream",
     "text": [
      "MGGGMISKLFCLALIFLSSSGLAEKNTYTAKDILQNLELNTFGNSLSHGIYGKQTTFKQTEFTNIKSNTKKHIALINKDNSWMISLKILGIKRDEYTVCFEDFSLIRPPTYVAIHPLLIKKVKSGNFIVVKEIKKSIPGCTVYYH*\n"
     ]
    }
   ],
   "source": [
    "protein_seq = read_pim_seq.translate(table='Bacterial')\n",
    "print(protein_seq)"
   ]
  },
  {
   "cell_type": "markdown",
   "id": "compressed-interim",
   "metadata": {
    "tags": []
   },
   "source": [
    "## Барање 9: Мутација "
   ]
  },
  {
   "cell_type": "markdown",
   "id": "radio-appointment",
   "metadata": {},
   "source": [
    "*Одберете еден од кодните региони и направете мутација со\n",
    "поместување на рамката за 2 нуклеотиди. Анализирајте ги\n",
    "новите протеински секвенции. Внимавајте, сега има нови\n",
    "старт и стоп кодони.*"
   ]
  },
  {
   "cell_type": "markdown",
   "id": "intimate-nicholas",
   "metadata": {},
   "source": [
    "Мутација на \"pim\", поместување за 2 нуклеотида десно: \n",
    " > 43<mark><b>42</b></mark>:47<mark><b>80</b></mark> &#8594; 43<mark><b>44</b></mark>:47<mark><b>82</b></mark>"
   ]
  },
  {
   "cell_type": "code",
   "execution_count": 51,
   "id": "interested-alabama",
   "metadata": {},
   "outputs": [],
   "source": [
    "sub_record2 = gene_record[4344:4782]"
   ]
  },
  {
   "cell_type": "code",
   "execution_count": 52,
   "id": "august-bumper",
   "metadata": {},
   "outputs": [
    {
     "name": "stdout",
     "output_type": "stream",
     "text": [
      "GGGAGGGGGAAUGAUCUCAAAGUUAUUUUGCUUGGCUCUCAUAUUUUUAUCAUCAAGUGGCCUUGCAGAAAAAAACACAUAUACAGCAAAAGACAUCUUGCAAAACCUAGAAUUAAAUACCUUUGGCAAUUCAUUGUCUCAUGGCAUCUAUGGGAAACAGACAACCUUCAAGCAAACCGAGUUUACAAAUAUUAAAAGCAACACCAAAAAACACAUUGCACUUAUCAAUAAAGACAACUCAUGGAUGAUAUCAUUAAAAAUACUAGGAAUUAAGAGAGAUGAGUAUACUGUCUGUUUUGAAGAUUUCUCUCUAAUAAGACCGCCAACAUAUGUAGCCAUACAUCCUCUACUUAUAAAAAAAGUAAAAUCUGGAAACUUUAUAGUAGUGAAAGAAAUAAAGAAAUCUAUCCCUGGUUGCACUGUAUAUUAUCAUUAAUA\n"
     ]
    }
   ],
   "source": [
    "sub_rna2 = sub_record2.seq.transcribe()\n",
    "print(sub_rna2)"
   ]
  },
  {
   "cell_type": "code",
   "execution_count": 53,
   "id": "possible-survivor",
   "metadata": {},
   "outputs": [
    {
     "name": "stdout",
     "output_type": "stream",
     "text": [
      "Вкупна должина на CBS: 438\n",
      "GGGAGGGGGAAUGAUCUCAAAGUUAUUUUGCUUGGCUCUCAUAUUUUUAUCAUCAAGUGGCCUUGCAGAAAAAAACACAUAUACAGCAAAAGACAUCUUGCAAAACCUAGAAUUAAAUACCUUUGGCAAUUCAUUGUCUCAUGGCAUCUAUGGGAAACAGACAACCUUCAAGCAAACCGAGUUUACAAAUAUUAAAAGCAACACCAAAAAACACAUUGCACUUAUCAAUAAAGACAACUCAUGGAUGAUAUCAUUAAAAAUACUAGGAAUUAAGAGAGAUGAGUAUACUGUCUGUUUUGAAGAUUUCUCUCUAAUAAGACCGCCAACAUAUGUAGCCAUACAUCCUCUACUUAUAAAAAAAGUAAAAUCUGGAAACUUUAUAGUAGUGAAAGAAAUAAAGAAAUCUAUCCCUGGUUGCACUGUAUAUUAUCAUUAAUA\n",
      "\n",
      "Вкупен број на старт кодони: 64\n",
      "Најден старт кодон со позиција: [(10, 'AUG'), (13, 'AUC'), (24, 'AUU'), (27, 'UUG'), (31, 'UUG'), (40, 'AUA'), (42, 'AUU'), (48, 'AUC'), (51, 'AUC'), (56, 'GUG'), (62, 'UUG'), (78, 'AUA'), (80, 'AUA'), (94, 'AUC'), (97, 'UUG'), (111, 'AUU'), (116, 'AUA'), (122, 'UUG'), (128, 'AUU'), (132, 'AUU'), (133, 'UUG'), (140, 'AUG'), (145, 'AUC'), (149, 'AUG'), (188, 'AUA'), (190, 'AUU'), (214, 'AUU'), (215, 'UUG'), (223, 'AUC'), (227, 'AUA'), (240, 'AUG'), (244, 'AUG'), (247, 'AUA'), (249, 'AUC'), (252, 'AUU'), (259, 'AUA'), (268, 'AUU'), (278, 'AUG'), (284, 'AUA'), (287, 'CUG'), (291, 'CUG'), (296, 'UUG'), (302, 'AUU'), (313, 'AUA'), (327, 'AUA'), (329, 'AUG'), (337, 'AUA'), (341, 'AUC'), (352, 'AUA'), (366, 'AUC'), (368, 'CUG'), (379, 'AUA'), (385, 'GUG'), (394, 'AUA'), (402, 'AUC'), (406, 'AUC'), (410, 'CUG'), (414, 'UUG'), (419, 'CUG'), (423, 'AUA'), (425, 'AUU'), (428, 'AUC'), (431, 'AUU'), (435, 'AUA')]\n",
      "\n",
      "Вкупен број на стоп кодони: 21\n",
      "Најден стоп кодон со позиција: [(11, 'UGA'), (107, 'UAG'), (113, 'UAA'), (192, 'UAA'), (228, 'UAA'), (245, 'UGA'), (254, 'UAA'), (263, 'UAG'), (270, 'UAA'), (279, 'UGA'), (297, 'UGA'), (311, 'UAA'), (314, 'UAA'), (332, 'UAG'), (353, 'UAA'), (362, 'UAA'), (380, 'UAG'), (383, 'UAG'), (386, 'UGA'), (395, 'UAA'), (433, 'UAA')]\n"
     ]
    }
   ],
   "source": [
    "# Листи за позиции на старт и стоп кодони\n",
    "start_codon_positions2 = []\n",
    "stop_codon_positions2 = []\n",
    "# Листи за имињата на најдените кодони\n",
    "start_found2 = []\n",
    "stop_found2 = []\n",
    "# Конверзија во стринг, за полесна работа\n",
    "rna_string2 = str(sub_rna2)\n",
    "\n",
    "\"\"\"\n",
    "Идеја на пребарување: \n",
    "- Започни од 0 и движи се до целата секвенца -2\n",
    "- Земи го моменталниот триплет \n",
    "- Провери дали е во старт кодоните -> Ако е зачувај торка (позиција, триплет)\n",
    "- Ако не, провери дали е во стоп кодоните -> Ако е зачувај торка (позиција, триплет)\n",
    "- Зголеми го бројачот \n",
    "\"\"\"\n",
    "\n",
    "k = 0\n",
    "while k < len(rna_string2)-2:\n",
    "    # extract a three-nucleotide subsequence\n",
    "    current_codon = rna_string2[k:k+3]\n",
    "    if current_codon in mito_table.start_codons:\n",
    "        start_found2.append((k, current_codon))\n",
    "    elif current_codon in mito_table.stop_codons:\n",
    "        stop_found2.append((k, current_codon))\n",
    "    k += 1\n",
    "\n",
    "print(f\"Вкупна должина на CBS: {len(sub_rna2)}\")\n",
    "print(sub_rna2)\n",
    "print()\n",
    "print(f'Вкупен број на старт кодони: {len(start_found2)}')\n",
    "print(f'Најден старт кодон со позиција: {start_found2}')\n",
    "print()\n",
    "print(f'Вкупен број на стоп кодони: {len(stop_found2)}')\n",
    "print(f'Најден стоп кодон со позиција: {stop_found2}')"
   ]
  },
  {
   "cell_type": "code",
   "execution_count": 54,
   "id": "driven-blast",
   "metadata": {},
   "outputs": [
    {
     "name": "stdout",
     "output_type": "stream",
     "text": [
      "Екстрахирана секвенца добиена по анализата на мутацијата на \"pim\" CDS:\n",
      "\n",
      "AUGAUCUCAAAGUUAUUUUGCUUGGCUCUCAUAUUUUUAUCAUCAAGUGGCCUUGCAGAAAAAAACACAUAUACAGCAAAAGACAUCUUGCAAAACCUAGAAUUAAAUACCUUUGGCAAUUCAUUGUCUCAUGGCAUCUAUGGGAAACAGACAACCUUCAAGCAAACCGAGUUUACAAAUAUUAAAAGCAACACCAAAAAACACAUUGCACUUAUCAAUAAAGACAACUCAUGGAUGAUAUCAUUAAAAAUACUAGGAAUUAAGAGAGAUGAGUAUACUGUCUGUUUUGAAGAUUUCUCUCUAAUAAGACCGCCAACAUAUGUAGCCAUACAUCCUCUACUUAUAAAAAAAGUAAAAUCUGGAAACUUUAUAGUAGUGAAAGAAAUAAAGAAAUCUAUCCCUGGUUGCACUGUAUAUUAUCAUUAA\n",
      "Должина: 426\n"
     ]
    }
   ],
   "source": [
    "print('Екстрахирана секвенца добиена по анализата на мутацијата на \"pim\" CDS:\\n')\n",
    "print(sub_rna2[start_found2[0][0]:stop_found2[-1][0]+3])\n",
    "print(f'Должина: {len(sub_rna2[start_found2[0][0]:stop_found2[-1][0]+3])}')"
   ]
  },
  {
   "cell_type": "code",
   "execution_count": 55,
   "id": "active-transformation",
   "metadata": {},
   "outputs": [],
   "source": [
    "read_pim_seq2 = sub_rna2[start_found2[0][0]:stop_found2[-1][0]+3]"
   ]
  },
  {
   "cell_type": "code",
   "execution_count": 56,
   "id": "herbal-sheet",
   "metadata": {},
   "outputs": [
    {
     "name": "stdout",
     "output_type": "stream",
     "text": [
      "MISKLFCLALIFLSSSGLAEKNTYTAKDILQNLELNTFGNSLSHGIYGKQTTFKQTEFTNIKSNTKKHIALINKDNSWMISLKILGIKRDEYTVCFEDFSLIRPPTYVAIHPLLIKKVKSGNFIVVKEIKKSIPGCTVYYH*\n"
     ]
    }
   ],
   "source": [
    "protein_seq2 = read_pim_seq2.translate(table='Bacterial')\n",
    "print(protein_seq2)"
   ]
  },
  {
   "cell_type": "markdown",
   "id": "different-fourth",
   "metadata": {},
   "source": [
    "Споредба на мутацијата со соодветната транслација:"
   ]
  },
  {
   "cell_type": "code",
   "execution_count": 57,
   "id": "signal-trunk",
   "metadata": {},
   "outputs": [
    {
     "name": "stdout",
     "output_type": "stream",
     "text": [
      "MGGGMISKLFCLALIFLSSSGLAEKNTYTAKDILQNLELNTFGNSLSHGIYGKQTTFKQTEFTNIKSNTKKHIALINKDNSWMISLKILGIKRDEYTVCFEDFSLIRPPTYVAIHPLLIKKVKSGNFIVVKEIKKSIPGCTVYYH*\n",
      "\n",
      "MISKLFCLALIFLSSSGLAEKNTYTAKDILQNLELNTFGNSLSHGIYGKQTTFKQTEFTNIKSNTKKHIALINKDNSWMISLKILGIKRDEYTVCFEDFSLIRPPTYVAIHPLLIKKVKSGNFIVVKEIKKSIPGCTVYYH*\n"
     ]
    }
   ],
   "source": [
    "print(protein_seq)\n",
    "print()\n",
    "print(protein_seq2)"
   ]
  },
  {
   "cell_type": "markdown",
   "id": "center-zoning",
   "metadata": {
    "tags": []
   },
   "source": [
    "## Барање 10: Креирање на нов FASTA фајл"
   ]
  },
  {
   "cell_type": "markdown",
   "id": "objective-wagon",
   "metadata": {},
   "source": [
    "*Да се разработи поглавје 5.5 за креирање на сопствени\n",
    "записи во fasta формат.*"
   ]
  },
  {
   "cell_type": "markdown",
   "id": "starting-interaction",
   "metadata": {},
   "source": [
    "Правење на FASTA фајл од транслација на протеините до првиот стоп кодон на Yersinia pestis FASTA фајлот. Есенцијално идејата е од ДНА да направам нов FASTA фајл но за преведените протеини. "
   ]
  },
  {
   "cell_type": "code",
   "execution_count": 58,
   "id": "surprising-fusion",
   "metadata": {},
   "outputs": [],
   "source": [
    "from Bio.SeqRecord import SeqRecord\n",
    "from Bio import SeqIO\n",
    "\n",
    "def make_protein_record(nuc_record):\n",
    "    \"\"\"Returns a new SeqRecord with the translated sequence (default table).\"\"\"\n",
    "    return SeqRecord(\n",
    "        seq=nuc_record.seq.translate(to_stop=True),\n",
    "        id=\"trans_\" + nuc_record.id,\n",
    "        description=\"translation of CDS, using default table\",\n",
    "    )"
   ]
  },
  {
   "cell_type": "code",
   "execution_count": 59,
   "id": "spectacular-broadcast",
   "metadata": {},
   "outputs": [
    {
     "name": "stdout",
     "output_type": "stream",
     "text": [
      "Нов FASTA запис NC_005816_translations.fasta: CNERCNSDPHPTPEIRSRG\n"
     ]
    }
   ],
   "source": [
    "proteins = (\n",
    "    make_protein_record(nuc_rec)\n",
    "    for nuc_rec in SeqIO.parse(\"yersinia-pestis-fasta/NC_005816.fna\", \"fasta\")\n",
    ")\n",
    "SeqIO.write(proteins, \"yersinia-pestis-fasta/NC_005816_translations.fasta\", \"fasta\")\n",
    "\n",
    "protein_fasta = SeqIO.read(\"yersinia-pestis-fasta/NC_005816_translations.fasta\", \"fasta\")\n",
    "print(f'Нов FASTA запис NC_005816_translations.fasta: {protein_fasta.seq}')"
   ]
  },
  {
   "cell_type": "markdown",
   "id": "loose-binding",
   "metadata": {
    "tags": []
   },
   "source": [
    "## ---Барање 11:---"
   ]
  },
  {
   "cell_type": "code",
   "execution_count": null,
   "id": "tutorial-genealogy",
   "metadata": {},
   "outputs": [],
   "source": []
  },
  {
   "cell_type": "markdown",
   "id": "fantastic-blank",
   "metadata": {
    "heading_collapsed": "true",
    "tags": []
   },
   "source": [
    "## ---Барање 12:---"
   ]
  },
  {
   "cell_type": "code",
   "execution_count": null,
   "id": "turned-cooling",
   "metadata": {},
   "outputs": [],
   "source": []
  },
  {
   "cell_type": "markdown",
   "id": "concerned-crime",
   "metadata": {
    "heading_collapsed": "true",
    "tags": []
   },
   "source": [
    "## ---Барање 13:---"
   ]
  },
  {
   "cell_type": "code",
   "execution_count": null,
   "id": "signed-vanilla",
   "metadata": {},
   "outputs": [],
   "source": []
  }
 ],
 "metadata": {
  "kernelspec": {
   "display_name": "Python 3",
   "language": "python",
   "name": "python3"
  },
  "language_info": {
   "codemirror_mode": {
    "name": "ipython",
    "version": 3
   },
   "file_extension": ".py",
   "mimetype": "text/x-python",
   "name": "python",
   "nbconvert_exporter": "python",
   "pygments_lexer": "ipython3",
   "version": "3.7.9"
  }
 },
 "nbformat": 4,
 "nbformat_minor": 5
}
